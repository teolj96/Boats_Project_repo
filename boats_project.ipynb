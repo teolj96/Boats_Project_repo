{
 "cells": [
  {
   "cell_type": "markdown",
   "id": "6da2c009",
   "metadata": {},
   "source": [
    "# Welcome to my boat project\n",
    "\n",
    "#### The goal of the project is to analyse a dataset of various boats avaliable on sale, notice patterns in the data and see what are the most popular boat features on the market.\n",
    "\n",
    "#### After analysing the data, a regression model is build with the goal of predicting boat prices using linear regression and ANN's."
   ]
  },
  {
   "cell_type": "code",
   "execution_count": 1,
   "id": "7564d7ea",
   "metadata": {},
   "outputs": [],
   "source": [
    "import numpy as np\n",
    "import pandas as pd"
   ]
  },
  {
   "cell_type": "code",
   "execution_count": 2,
   "id": "8ccf9db0",
   "metadata": {},
   "outputs": [],
   "source": [
    "df_01 = pd.read_csv(r'C:\\Users\\croatia\\Desktop\\python\\Datasets\\boats_final_2.csv',sep=\",\",error_bad_lines=False)"
   ]
  },
  {
   "cell_type": "code",
   "execution_count": 3,
   "id": "b44684d1",
   "metadata": {
    "scrolled": false
   },
   "outputs": [
    {
     "data": {
      "text/html": [
       "<div>\n",
       "<style scoped>\n",
       "    .dataframe tbody tr th:only-of-type {\n",
       "        vertical-align: middle;\n",
       "    }\n",
       "\n",
       "    .dataframe tbody tr th {\n",
       "        vertical-align: top;\n",
       "    }\n",
       "\n",
       "    .dataframe thead th {\n",
       "        text-align: right;\n",
       "    }\n",
       "</style>\n",
       "<table border=\"1\" class=\"dataframe\">\n",
       "  <thead>\n",
       "    <tr style=\"text-align: right;\">\n",
       "      <th></th>\n",
       "      <th>Year Built</th>\n",
       "      <th>Condition</th>\n",
       "      <th>Length x Width</th>\n",
       "      <th>Material</th>\n",
       "      <th>Certified No. of Persons</th>\n",
       "      <th>No. of Cabins</th>\n",
       "      <th>Propulsion</th>\n",
       "      <th>Engine</th>\n",
       "      <th>Engine Performance</th>\n",
       "      <th>Engine Hours</th>\n",
       "      <th>Model</th>\n",
       "      <th>Type</th>\n",
       "      <th>Location</th>\n",
       "      <th>Price</th>\n",
       "    </tr>\n",
       "  </thead>\n",
       "  <tbody>\n",
       "    <tr>\n",
       "      <th>0</th>\n",
       "      <td>1984.0</td>\n",
       "      <td>As new</td>\n",
       "      <td>5.85 m x 2.25 m</td>\n",
       "      <td>GRP</td>\n",
       "      <td>4 Persons</td>\n",
       "      <td>1 Cabin</td>\n",
       "      <td>Sterndrive</td>\n",
       "      <td>Volvo Penta 145 A</td>\n",
       "      <td>1 x 130 HP / 96 kW</td>\n",
       "      <td>1'100 h</td>\n",
       "      <td>Sealine Conti 19</td>\n",
       "      <td>Cabin Cruiser</td>\n",
       "      <td>Germany » Brandenburg »</td>\n",
       "      <td>apx. £ 21,400</td>\n",
       "    </tr>\n",
       "    <tr>\n",
       "      <th>1</th>\n",
       "      <td>NaN</td>\n",
       "      <td>good condition</td>\n",
       "      <td>NaN</td>\n",
       "      <td>NaN</td>\n",
       "      <td>NaN</td>\n",
       "      <td>NaN</td>\n",
       "      <td>NaN</td>\n",
       "      <td>NaN</td>\n",
       "      <td>NaN</td>\n",
       "      <td>NaN</td>\n",
       "      <td>Dinghy Sailing Simulator (VS-C1)</td>\n",
       "      <td>Other</td>\n",
       "      <td>Location not available</td>\n",
       "      <td>apx. £ 6,620</td>\n",
       "    </tr>\n",
       "    <tr>\n",
       "      <th>2</th>\n",
       "      <td>1990.0</td>\n",
       "      <td>fair condition</td>\n",
       "      <td>6.70 m</td>\n",
       "      <td>GRP</td>\n",
       "      <td>NaN</td>\n",
       "      <td>1 Cabin</td>\n",
       "      <td>Outboard, four-stroke</td>\n",
       "      <td>Yamaha</td>\n",
       "      <td>1 x 6.0 HP / 4.4 kW</td>\n",
       "      <td>NaN</td>\n",
       "      <td>Etap 22 i</td>\n",
       "      <td>Sailing Yacht</td>\n",
       "      <td>Location not available</td>\n",
       "      <td>£ 6,950</td>\n",
       "    </tr>\n",
       "    <tr>\n",
       "      <th>3</th>\n",
       "      <td>2016.0</td>\n",
       "      <td>good condition</td>\n",
       "      <td>5.95 m x 2.40 m</td>\n",
       "      <td>GRP</td>\n",
       "      <td>6 Persons</td>\n",
       "      <td>NaN</td>\n",
       "      <td>NaN</td>\n",
       "      <td>NaN</td>\n",
       "      <td>NaN</td>\n",
       "      <td>NaN</td>\n",
       "      <td>Astus Trimaran 20.2 XL Cerebelleux</td>\n",
       "      <td>Sailing Yacht</td>\n",
       "      <td>Location not available</td>\n",
       "      <td>apx. £ 19,600</td>\n",
       "    </tr>\n",
       "    <tr>\n",
       "      <th>4</th>\n",
       "      <td>2020.0</td>\n",
       "      <td>As new</td>\n",
       "      <td>13.20 m x 7.80 m</td>\n",
       "      <td>GRP</td>\n",
       "      <td>12 Persons</td>\n",
       "      <td>3 Cabins</td>\n",
       "      <td>Saildrive</td>\n",
       "      <td>Yanmar 4JH57 x2</td>\n",
       "      <td>2 x 57 HP / 42 kW</td>\n",
       "      <td>505 h</td>\n",
       "      <td>Lagoon 42</td>\n",
       "      <td>Catamaran</td>\n",
       "      <td>Spain »</td>\n",
       "      <td>£ 499,000</td>\n",
       "    </tr>\n",
       "  </tbody>\n",
       "</table>\n",
       "</div>"
      ],
      "text/plain": [
       "   Year Built       Condition    Length x Width Material  \\\n",
       "0      1984.0          As new   5.85 m x 2.25 m      GRP   \n",
       "1         NaN  good condition               NaN      NaN   \n",
       "2      1990.0  fair condition            6.70 m      GRP   \n",
       "3      2016.0  good condition   5.95 m x 2.40 m      GRP   \n",
       "4      2020.0          As new  13.20 m x 7.80 m      GRP   \n",
       "\n",
       "  Certified No. of Persons No. of Cabins             Propulsion  \\\n",
       "0                4 Persons       1 Cabin             Sterndrive   \n",
       "1                      NaN           NaN                    NaN   \n",
       "2                      NaN       1 Cabin  Outboard, four-stroke   \n",
       "3                6 Persons           NaN                    NaN   \n",
       "4               12 Persons      3 Cabins              Saildrive   \n",
       "\n",
       "              Engine   Engine Performance Engine Hours  \\\n",
       "0  Volvo Penta 145 A   1 x 130 HP / 96 kW      1'100 h   \n",
       "1                NaN                  NaN          NaN   \n",
       "2             Yamaha  1 x 6.0 HP / 4.4 kW          NaN   \n",
       "3                NaN                  NaN          NaN   \n",
       "4    Yanmar 4JH57 x2    2 x 57 HP / 42 kW        505 h   \n",
       "\n",
       "                                Model           Type  \\\n",
       "0                    Sealine Conti 19  Cabin Cruiser   \n",
       "1    Dinghy Sailing Simulator (VS-C1)          Other   \n",
       "2                           Etap 22 i  Sailing Yacht   \n",
       "3  Astus Trimaran 20.2 XL Cerebelleux  Sailing Yacht   \n",
       "4                           Lagoon 42      Catamaran   \n",
       "\n",
       "                   Location          Price  \n",
       "0  Germany » Brandenburg »   apx. £ 21,400  \n",
       "1    Location not available   apx. £ 6,620  \n",
       "2    Location not available        £ 6,950  \n",
       "3    Location not available  apx. £ 19,600  \n",
       "4                  Spain »       £ 499,000  "
      ]
     },
     "execution_count": 3,
     "metadata": {},
     "output_type": "execute_result"
    }
   ],
   "source": [
    "df_01.head()"
   ]
  },
  {
   "cell_type": "code",
   "execution_count": 4,
   "id": "e3ef098f",
   "metadata": {},
   "outputs": [
    {
     "name": "stdout",
     "output_type": "stream",
     "text": [
      "<class 'pandas.core.frame.DataFrame'>\n",
      "RangeIndex: 12279 entries, 0 to 12278\n",
      "Data columns (total 14 columns):\n",
      " #   Column                    Non-Null Count  Dtype  \n",
      "---  ------                    --------------  -----  \n",
      " 0   Year Built                9864 non-null   float64\n",
      " 1   Condition                 3560 non-null   object \n",
      " 2   Length x Width            11597 non-null  object \n",
      " 3   Material                  8558 non-null   object \n",
      " 4   Certified No. of Persons  4621 non-null   object \n",
      " 5   No. of Cabins             5848 non-null   object \n",
      " 6   Propulsion                5548 non-null   object \n",
      " 7   Engine                    9251 non-null   object \n",
      " 8   Engine Performance        8653 non-null   object \n",
      " 9   Engine Hours              4182 non-null   object \n",
      " 10  Model                     12279 non-null  object \n",
      " 11  Type                      11159 non-null  object \n",
      " 12  Location                  12279 non-null  object \n",
      " 13  Price                     12279 non-null  object \n",
      "dtypes: float64(1), object(13)\n",
      "memory usage: 1.3+ MB\n"
     ]
    }
   ],
   "source": [
    "df_01.info()"
   ]
  },
  {
   "cell_type": "code",
   "execution_count": 5,
   "id": "b9af0e90",
   "metadata": {},
   "outputs": [
    {
     "data": {
      "text/plain": [
       "Year Built                  19.667725\n",
       "Condition                   71.007411\n",
       "Length x Width               5.554198\n",
       "Material                    30.303771\n",
       "Certified No. of Persons    62.366642\n",
       "No. of Cabins               52.373972\n",
       "Propulsion                  54.817168\n",
       "Engine                      24.659989\n",
       "Engine Performance          29.530092\n",
       "Engine Hours                65.941852\n",
       "Model                        0.000000\n",
       "Type                         9.121264\n",
       "Location                     0.000000\n",
       "Price                        0.000000\n",
       "dtype: float64"
      ]
     },
     "execution_count": 5,
     "metadata": {},
     "output_type": "execute_result"
    }
   ],
   "source": [
    "(df_01.isnull().sum()/df_01.shape[0])*100"
   ]
  },
  {
   "cell_type": "code",
   "execution_count": 6,
   "id": "789e05ab",
   "metadata": {},
   "outputs": [
    {
     "data": {
      "text/plain": [
       "Year Built                  2415\n",
       "Condition                   8719\n",
       "Length x Width               682\n",
       "Material                    3721\n",
       "Certified No. of Persons    7658\n",
       "No. of Cabins               6431\n",
       "Propulsion                  6731\n",
       "Engine                      3028\n",
       "Engine Performance          3626\n",
       "Engine Hours                8097\n",
       "Model                          0\n",
       "Type                        1120\n",
       "Location                       0\n",
       "Price                          0\n",
       "dtype: int64"
      ]
     },
     "execution_count": 6,
     "metadata": {},
     "output_type": "execute_result"
    }
   ],
   "source": [
    "df_01.isnull().sum()"
   ]
  },
  {
   "cell_type": "code",
   "execution_count": 7,
   "id": "fe18bb3a",
   "metadata": {
    "scrolled": true
   },
   "outputs": [
    {
     "data": {
      "text/plain": [
       "Year Built                  float64\n",
       "Condition                    object\n",
       "Length x Width               object\n",
       "Material                     object\n",
       "Certified No. of Persons     object\n",
       "No. of Cabins                object\n",
       "Propulsion                   object\n",
       "Engine                       object\n",
       "Engine Performance           object\n",
       "Engine Hours                 object\n",
       "Model                        object\n",
       "Type                         object\n",
       "Location                     object\n",
       "Price                        object\n",
       "dtype: object"
      ]
     },
     "execution_count": 7,
     "metadata": {},
     "output_type": "execute_result"
    }
   ],
   "source": [
    "df_01.dtypes"
   ]
  },
  {
   "cell_type": "code",
   "execution_count": 8,
   "id": "04d5c212",
   "metadata": {
    "scrolled": true
   },
   "outputs": [
    {
     "name": "stdout",
     "output_type": "stream",
     "text": [
      "Column:  Year Built\n",
      "\n",
      "2022.0        1679\n",
      "2021.0         679\n",
      "2008.0         332\n",
      "2007.0         291\n",
      "2006.0         288\n",
      "              ... \n",
      "1909.0           1\n",
      "1889.0           1\n",
      "1.0              1\n",
      "1894.0           1\n",
      "19892015.0       1\n",
      "Name: Year Built, Length: 131, dtype: int64\n",
      "\n",
      "Column:  Condition\n",
      "\n",
      "good condition         2058\n",
      "As new                  950\n",
      "used                    211\n",
      "new                     167\n",
      "fair condition           89\n",
      "to be done up            45\n",
      "very good condition      37\n",
      "defect                    3\n",
      "Name: Condition, dtype: int64\n",
      "\n",
      "Column:  Length x Width\n",
      "\n",
      "9.00 m x 3.00 m     33\n",
      "12.00 m x 4.00 m    27\n",
      "7.50 m x 2.50 m     25\n",
      "6.55 m x 2.54 m     25\n",
      "5.94 m x 2.54 m     23\n",
      "                    ..\n",
      "14.10 m x 4.28 m     1\n",
      "8.20 m x 2.59 m      1\n",
      "3.51 m x 1.70 m      1\n",
      "27.96 m x 6.25 m     1\n",
      "10.29 m x 3.00 m     1\n",
      "Name: Length x Width, Length: 7315, dtype: int64\n",
      "\n",
      "Column:  Material\n",
      "\n",
      "GRP                    6238\n",
      "Steel                   897\n",
      "Wood                    460\n",
      "Aluminium               380\n",
      "PVC                     288\n",
      "Hypalon                 144\n",
      "Carbon Fiber            118\n",
      "Rubber                   25\n",
      "Other                     5\n",
      "Reinforced concrete       3\n",
      "Name: Material, dtype: int64\n",
      "\n",
      "Column:  Certified No. of Persons\n",
      "\n",
      "8 Persons      869\n",
      "6 Persons      782\n",
      "12 Persons     680\n",
      "10 Persons     609\n",
      "7 Persons      338\n",
      "5 Persons      277\n",
      "4 Persons      263\n",
      "9 Persons      162\n",
      "14 Persons     142\n",
      "16 Persons     121\n",
      "3 Persons       73\n",
      "11 Persons      67\n",
      "2 Persons       49\n",
      "15 Persons      44\n",
      "18 Persons      33\n",
      "20 Persons      31\n",
      "13 Persons      28\n",
      "1 Person        13\n",
      "24 Persons      11\n",
      "22 Persons      10\n",
      "17 Persons       5\n",
      "25 Persons       3\n",
      "26 Persons       3\n",
      "19 Persons       2\n",
      "250 Persons      1\n",
      "600 Persons      1\n",
      "200 Persons      1\n",
      "81 Persons       1\n",
      "42 Persons       1\n",
      "150 Persons      1\n",
      "Name: Certified No. of Persons, dtype: int64\n",
      "\n",
      "Column:  No. of Cabins\n",
      "\n",
      "2 Cabins     1870\n",
      "1 Cabin      1657\n",
      "3 Cabins     1417\n",
      "4 Cabins      631\n",
      "5 Cabins      186\n",
      "6 Cabins       52\n",
      "7 Cabins       10\n",
      "8 Cabins        7\n",
      "11 Cabins       4\n",
      "9 Cabins        4\n",
      "10 Cabins       2\n",
      "18 Cabins       2\n",
      "29 Cabins       2\n",
      "15 Cabins       1\n",
      "60 Cabins       1\n",
      "69 Cabins       1\n",
      "74 Cabins       1\n",
      "Name: No. of Cabins, dtype: int64\n",
      "\n",
      "Column:  Propulsion\n",
      "\n",
      "Inboard Direct-Drive     2150\n",
      "Outboard, four-stroke    1633\n",
      "Sterndrive               1088\n",
      "Saildrive                 314\n",
      "Inboard V-Drive           121\n",
      "POD Drive                 103\n",
      "Outboard, two-stroke       70\n",
      "Jet Drive                  38\n",
      "Forward Drive              20\n",
      "Surface Drive               7\n",
      "Hydraulic Drive             4\n",
      "Name: Propulsion, dtype: int64\n",
      "\n",
      "Column:  Engine\n",
      "\n",
      "Volvo Penta                       483\n",
      "Yanmar                            424\n",
      "Mercury                           282\n",
      "Yamaha                            229\n",
      "MAN                               175\n",
      "                                 ... \n",
      "Volvo Penta 2xD4-300                1\n",
      "Volvo Penta 4,3 Gi                  1\n",
      "VOLVO 2x IPS 600 - D6 - 435 CV      1\n",
      "Yamaha / 2B                         1\n",
      "Volvo Penta 5.0 GXi                 1\n",
      "Name: Engine, Length: 4778, dtype: int64\n",
      "\n",
      "Column:  Engine Performance\n",
      "\n",
      "1 x 250 HP / 184 kW       244\n",
      "1 x 300 HP / 221 kW       235\n",
      "1 x 40 HP / 29 kW         197\n",
      "1 x 150 HP / 110 kW       183\n",
      "1 x 100 HP / 74 kW        181\n",
      "                         ... \n",
      "2 x 1'560 HP / 1147 kW      1\n",
      "3 x 3'487 HP / 2565 kW      1\n",
      "2 x 609 HP / 448 kW         1\n",
      "2 x 925 HP / 680 kW         1\n",
      "2 x 207 HP / 152 kW         1\n",
      "Name: Engine Performance, Length: 853, dtype: int64\n",
      "\n",
      "Column:  Engine Hours\n",
      "\n",
      "500 h      87\n",
      "1'500 h    68\n",
      "400 h      66\n",
      "800 h      66\n",
      "600 h      65\n",
      "           ..\n",
      "4'700 h     1\n",
      "2'385 h     1\n",
      "498 h       1\n",
      "2'820 h     1\n",
      "1'257 h     1\n",
      "Name: Engine Hours, Length: 999, dtype: int64\n",
      "\n",
      "Column:  Model\n",
      "\n",
      "Leopard 40                              9\n",
      "Quicksilver Activ 555 Open              9\n",
      "Leopard 51 Powercat                     9\n",
      "Greenline 33                            9\n",
      "Quicksilver Activ 675 Cruiser           9\n",
      "                                       ..\n",
      "Canard 41                               1\n",
      "Nimbus 380 Carisma                      1\n",
      "Cheoy Lee Trawler 36                    1\n",
      "Bryant Boats 233                        1\n",
      "Begré Schwedenboot, inkl. Bootsplatz    1\n",
      "Name: Model, Length: 10474, dtype: int64\n",
      "\n",
      "Column:  Type\n",
      "\n",
      "Motor Yacht                   1701\n",
      "Sailing Yacht                 1448\n",
      "Sport Boat                    1076\n",
      "Flybridge                      804\n",
      "Cabin Cruiser                  630\n",
      "                              ... \n",
      "Mooring Buoy                     2\n",
      "Pedalo                           1\n",
      "Waterskiing / Wakeboarding       1\n",
      "Fittings                         1\n",
      "Dolphins                         1\n",
      "Name: Type, Length: 71, dtype: int64\n",
      "\n",
      "Column:  Location\n",
      "\n",
      "Location not available          2012\n",
      "Germany »                       1304\n",
      "Netherlands »                   1023\n",
      "Italy »                          729\n",
      "Spain »                          466\n",
      "                                ... \n",
      "New Caledonia »                    1\n",
      "Chile »                            1\n",
      " »                                 1\n",
      "France » Centre »                  1\n",
      "Austria » Millstätter See »        1\n",
      "Name: Location, Length: 236, dtype: int64\n",
      "\n",
      "Column:  Price\n",
      "\n",
      "Price not available    2024\n",
      "apx. £ 72,600            69\n",
      "apx. £ 47,000            63\n",
      "apx. £ 29,900            60\n",
      "apx. £ 38,500            57\n",
      "                       ... \n",
      "apx. £ 8,930              1\n",
      "apx. £ 573,500            1\n",
      "apx. £ 666                1\n",
      "apx. £ 1,910              1\n",
      "apx. £ 7,550              1\n",
      "Name: Price, Length: 2645, dtype: int64\n",
      "\n"
     ]
    }
   ],
   "source": [
    "for i in df_01:\n",
    "    print('Column: ',i)\n",
    "    print('')\n",
    "    print(df_01[i].value_counts())\n",
    "    print('')"
   ]
  },
  {
   "cell_type": "markdown",
   "id": "20077c08",
   "metadata": {},
   "source": [
    "## We imediately need to start cleaning and manipulating data so it's readable"
   ]
  },
  {
   "cell_type": "code",
   "execution_count": 9,
   "id": "116528c9",
   "metadata": {},
   "outputs": [],
   "source": [
    "# SEPERATE LOCATION COUNTRIES\n",
    "\n",
    "def countries(locations):\n",
    "    country_list = []\n",
    "    \n",
    "    for i in range(len(locations)):\n",
    "        country = df_01['Location'][i].split('»')[0]\n",
    "        country_list.append(country)\n",
    "    return country_list"
   ]
  },
  {
   "cell_type": "code",
   "execution_count": 10,
   "id": "a91f59fd",
   "metadata": {},
   "outputs": [],
   "source": [
    "df_01['Location_Country'] = countries(df_01['Location'])"
   ]
  },
  {
   "cell_type": "code",
   "execution_count": 11,
   "id": "46d7b3f4",
   "metadata": {
    "scrolled": true
   },
   "outputs": [
    {
     "data": {
      "text/html": [
       "<div>\n",
       "<style scoped>\n",
       "    .dataframe tbody tr th:only-of-type {\n",
       "        vertical-align: middle;\n",
       "    }\n",
       "\n",
       "    .dataframe tbody tr th {\n",
       "        vertical-align: top;\n",
       "    }\n",
       "\n",
       "    .dataframe thead th {\n",
       "        text-align: right;\n",
       "    }\n",
       "</style>\n",
       "<table border=\"1\" class=\"dataframe\">\n",
       "  <thead>\n",
       "    <tr style=\"text-align: right;\">\n",
       "      <th></th>\n",
       "      <th>Year Built</th>\n",
       "      <th>Condition</th>\n",
       "      <th>Length x Width</th>\n",
       "      <th>Material</th>\n",
       "      <th>Certified No. of Persons</th>\n",
       "      <th>No. of Cabins</th>\n",
       "      <th>Propulsion</th>\n",
       "      <th>Engine</th>\n",
       "      <th>Engine Performance</th>\n",
       "      <th>Engine Hours</th>\n",
       "      <th>Model</th>\n",
       "      <th>Type</th>\n",
       "      <th>Location</th>\n",
       "      <th>Price</th>\n",
       "      <th>Location_Country</th>\n",
       "    </tr>\n",
       "  </thead>\n",
       "  <tbody>\n",
       "    <tr>\n",
       "      <th>0</th>\n",
       "      <td>1984.0</td>\n",
       "      <td>As new</td>\n",
       "      <td>5.85 m x 2.25 m</td>\n",
       "      <td>GRP</td>\n",
       "      <td>4 Persons</td>\n",
       "      <td>1 Cabin</td>\n",
       "      <td>Sterndrive</td>\n",
       "      <td>Volvo Penta 145 A</td>\n",
       "      <td>1 x 130 HP / 96 kW</td>\n",
       "      <td>1'100 h</td>\n",
       "      <td>Sealine Conti 19</td>\n",
       "      <td>Cabin Cruiser</td>\n",
       "      <td>Germany » Brandenburg »</td>\n",
       "      <td>apx. £ 21,400</td>\n",
       "      <td>Germany</td>\n",
       "    </tr>\n",
       "    <tr>\n",
       "      <th>1</th>\n",
       "      <td>NaN</td>\n",
       "      <td>good condition</td>\n",
       "      <td>NaN</td>\n",
       "      <td>NaN</td>\n",
       "      <td>NaN</td>\n",
       "      <td>NaN</td>\n",
       "      <td>NaN</td>\n",
       "      <td>NaN</td>\n",
       "      <td>NaN</td>\n",
       "      <td>NaN</td>\n",
       "      <td>Dinghy Sailing Simulator (VS-C1)</td>\n",
       "      <td>Other</td>\n",
       "      <td>Location not available</td>\n",
       "      <td>apx. £ 6,620</td>\n",
       "      <td>Location not available</td>\n",
       "    </tr>\n",
       "    <tr>\n",
       "      <th>2</th>\n",
       "      <td>1990.0</td>\n",
       "      <td>fair condition</td>\n",
       "      <td>6.70 m</td>\n",
       "      <td>GRP</td>\n",
       "      <td>NaN</td>\n",
       "      <td>1 Cabin</td>\n",
       "      <td>Outboard, four-stroke</td>\n",
       "      <td>Yamaha</td>\n",
       "      <td>1 x 6.0 HP / 4.4 kW</td>\n",
       "      <td>NaN</td>\n",
       "      <td>Etap 22 i</td>\n",
       "      <td>Sailing Yacht</td>\n",
       "      <td>Location not available</td>\n",
       "      <td>£ 6,950</td>\n",
       "      <td>Location not available</td>\n",
       "    </tr>\n",
       "    <tr>\n",
       "      <th>3</th>\n",
       "      <td>2016.0</td>\n",
       "      <td>good condition</td>\n",
       "      <td>5.95 m x 2.40 m</td>\n",
       "      <td>GRP</td>\n",
       "      <td>6 Persons</td>\n",
       "      <td>NaN</td>\n",
       "      <td>NaN</td>\n",
       "      <td>NaN</td>\n",
       "      <td>NaN</td>\n",
       "      <td>NaN</td>\n",
       "      <td>Astus Trimaran 20.2 XL Cerebelleux</td>\n",
       "      <td>Sailing Yacht</td>\n",
       "      <td>Location not available</td>\n",
       "      <td>apx. £ 19,600</td>\n",
       "      <td>Location not available</td>\n",
       "    </tr>\n",
       "    <tr>\n",
       "      <th>4</th>\n",
       "      <td>2020.0</td>\n",
       "      <td>As new</td>\n",
       "      <td>13.20 m x 7.80 m</td>\n",
       "      <td>GRP</td>\n",
       "      <td>12 Persons</td>\n",
       "      <td>3 Cabins</td>\n",
       "      <td>Saildrive</td>\n",
       "      <td>Yanmar 4JH57 x2</td>\n",
       "      <td>2 x 57 HP / 42 kW</td>\n",
       "      <td>505 h</td>\n",
       "      <td>Lagoon 42</td>\n",
       "      <td>Catamaran</td>\n",
       "      <td>Spain »</td>\n",
       "      <td>£ 499,000</td>\n",
       "      <td>Spain</td>\n",
       "    </tr>\n",
       "    <tr>\n",
       "      <th>...</th>\n",
       "      <td>...</td>\n",
       "      <td>...</td>\n",
       "      <td>...</td>\n",
       "      <td>...</td>\n",
       "      <td>...</td>\n",
       "      <td>...</td>\n",
       "      <td>...</td>\n",
       "      <td>...</td>\n",
       "      <td>...</td>\n",
       "      <td>...</td>\n",
       "      <td>...</td>\n",
       "      <td>...</td>\n",
       "      <td>...</td>\n",
       "      <td>...</td>\n",
       "      <td>...</td>\n",
       "    </tr>\n",
       "    <tr>\n",
       "      <th>12274</th>\n",
       "      <td>NaN</td>\n",
       "      <td>NaN</td>\n",
       "      <td>9.35 m</td>\n",
       "      <td>NaN</td>\n",
       "      <td>8 Persons</td>\n",
       "      <td>NaN</td>\n",
       "      <td>NaN</td>\n",
       "      <td>NaN</td>\n",
       "      <td>NaN</td>\n",
       "      <td>NaN</td>\n",
       "      <td>Nimbus Commuter 9</td>\n",
       "      <td>NaN</td>\n",
       "      <td>Location not available</td>\n",
       "      <td>Price not available</td>\n",
       "      <td>Location not available</td>\n",
       "    </tr>\n",
       "    <tr>\n",
       "      <th>12275</th>\n",
       "      <td>NaN</td>\n",
       "      <td>NaN</td>\n",
       "      <td>9.35 m</td>\n",
       "      <td>NaN</td>\n",
       "      <td>8 Persons</td>\n",
       "      <td>NaN</td>\n",
       "      <td>NaN</td>\n",
       "      <td>NaN</td>\n",
       "      <td>NaN</td>\n",
       "      <td>NaN</td>\n",
       "      <td>Nimbus Tender 9</td>\n",
       "      <td>NaN</td>\n",
       "      <td>Location not available</td>\n",
       "      <td>Price not available</td>\n",
       "      <td>Location not available</td>\n",
       "    </tr>\n",
       "    <tr>\n",
       "      <th>12276</th>\n",
       "      <td>NaN</td>\n",
       "      <td>NaN</td>\n",
       "      <td>9.99 m x 2.99 m</td>\n",
       "      <td>NaN</td>\n",
       "      <td>10 Persons</td>\n",
       "      <td>NaN</td>\n",
       "      <td>NaN</td>\n",
       "      <td>NaN</td>\n",
       "      <td>NaN</td>\n",
       "      <td>NaN</td>\n",
       "      <td>Frauscher 1017 GT Air</td>\n",
       "      <td>NaN</td>\n",
       "      <td>Location not available</td>\n",
       "      <td>Price not available</td>\n",
       "      <td>Location not available</td>\n",
       "    </tr>\n",
       "    <tr>\n",
       "      <th>12277</th>\n",
       "      <td>NaN</td>\n",
       "      <td>NaN</td>\n",
       "      <td>37.45 m x 8.35 m</td>\n",
       "      <td>NaN</td>\n",
       "      <td>NaN</td>\n",
       "      <td>NaN</td>\n",
       "      <td>NaN</td>\n",
       "      <td>NaN</td>\n",
       "      <td>NaN</td>\n",
       "      <td>NaN</td>\n",
       "      <td>Oyster 1225</td>\n",
       "      <td>NaN</td>\n",
       "      <td>Location not available</td>\n",
       "      <td>Price not available</td>\n",
       "      <td>Location not available</td>\n",
       "    </tr>\n",
       "    <tr>\n",
       "      <th>12278</th>\n",
       "      <td>NaN</td>\n",
       "      <td>NaN</td>\n",
       "      <td>27.12 m x 6.33 m</td>\n",
       "      <td>NaN</td>\n",
       "      <td>NaN</td>\n",
       "      <td>NaN</td>\n",
       "      <td>NaN</td>\n",
       "      <td>NaN</td>\n",
       "      <td>NaN</td>\n",
       "      <td>NaN</td>\n",
       "      <td>Oyster 885 Series 2</td>\n",
       "      <td>NaN</td>\n",
       "      <td>Location not available</td>\n",
       "      <td>Price not available</td>\n",
       "      <td>Location not available</td>\n",
       "    </tr>\n",
       "  </tbody>\n",
       "</table>\n",
       "<p>12279 rows × 15 columns</p>\n",
       "</div>"
      ],
      "text/plain": [
       "       Year Built       Condition    Length x Width Material  \\\n",
       "0          1984.0          As new   5.85 m x 2.25 m      GRP   \n",
       "1             NaN  good condition               NaN      NaN   \n",
       "2          1990.0  fair condition            6.70 m      GRP   \n",
       "3          2016.0  good condition   5.95 m x 2.40 m      GRP   \n",
       "4          2020.0          As new  13.20 m x 7.80 m      GRP   \n",
       "...           ...             ...               ...      ...   \n",
       "12274         NaN             NaN            9.35 m      NaN   \n",
       "12275         NaN             NaN            9.35 m      NaN   \n",
       "12276         NaN             NaN   9.99 m x 2.99 m      NaN   \n",
       "12277         NaN             NaN  37.45 m x 8.35 m      NaN   \n",
       "12278         NaN             NaN  27.12 m x 6.33 m      NaN   \n",
       "\n",
       "      Certified No. of Persons No. of Cabins             Propulsion  \\\n",
       "0                    4 Persons       1 Cabin             Sterndrive   \n",
       "1                          NaN           NaN                    NaN   \n",
       "2                          NaN       1 Cabin  Outboard, four-stroke   \n",
       "3                    6 Persons           NaN                    NaN   \n",
       "4                   12 Persons      3 Cabins              Saildrive   \n",
       "...                        ...           ...                    ...   \n",
       "12274                8 Persons           NaN                    NaN   \n",
       "12275                8 Persons           NaN                    NaN   \n",
       "12276               10 Persons           NaN                    NaN   \n",
       "12277                      NaN           NaN                    NaN   \n",
       "12278                      NaN           NaN                    NaN   \n",
       "\n",
       "                  Engine   Engine Performance Engine Hours  \\\n",
       "0      Volvo Penta 145 A   1 x 130 HP / 96 kW      1'100 h   \n",
       "1                    NaN                  NaN          NaN   \n",
       "2                 Yamaha  1 x 6.0 HP / 4.4 kW          NaN   \n",
       "3                    NaN                  NaN          NaN   \n",
       "4        Yanmar 4JH57 x2    2 x 57 HP / 42 kW        505 h   \n",
       "...                  ...                  ...          ...   \n",
       "12274                NaN                  NaN          NaN   \n",
       "12275                NaN                  NaN          NaN   \n",
       "12276                NaN                  NaN          NaN   \n",
       "12277                NaN                  NaN          NaN   \n",
       "12278                NaN                  NaN          NaN   \n",
       "\n",
       "                                    Model           Type  \\\n",
       "0                        Sealine Conti 19  Cabin Cruiser   \n",
       "1        Dinghy Sailing Simulator (VS-C1)          Other   \n",
       "2                               Etap 22 i  Sailing Yacht   \n",
       "3      Astus Trimaran 20.2 XL Cerebelleux  Sailing Yacht   \n",
       "4                               Lagoon 42      Catamaran   \n",
       "...                                   ...            ...   \n",
       "12274                   Nimbus Commuter 9            NaN   \n",
       "12275                     Nimbus Tender 9            NaN   \n",
       "12276               Frauscher 1017 GT Air            NaN   \n",
       "12277                         Oyster 1225            NaN   \n",
       "12278                 Oyster 885 Series 2            NaN   \n",
       "\n",
       "                       Location                Price        Location_Country  \n",
       "0      Germany » Brandenburg »         apx. £ 21,400                Germany   \n",
       "1        Location not available         apx. £ 6,620  Location not available  \n",
       "2        Location not available              £ 6,950  Location not available  \n",
       "3        Location not available        apx. £ 19,600  Location not available  \n",
       "4                      Spain »             £ 499,000                  Spain   \n",
       "...                         ...                  ...                     ...  \n",
       "12274    Location not available  Price not available  Location not available  \n",
       "12275    Location not available  Price not available  Location not available  \n",
       "12276    Location not available  Price not available  Location not available  \n",
       "12277    Location not available  Price not available  Location not available  \n",
       "12278    Location not available  Price not available  Location not available  \n",
       "\n",
       "[12279 rows x 15 columns]"
      ]
     },
     "execution_count": 11,
     "metadata": {},
     "output_type": "execute_result"
    }
   ],
   "source": [
    "df_01"
   ]
  },
  {
   "cell_type": "code",
   "execution_count": 12,
   "id": "2b4cbb40",
   "metadata": {},
   "outputs": [],
   "source": [
    "# SEPERATE THE LENGTHS AND WIDTHS\n",
    "# SOME DON'T HAVE WIDTH, THAT WILL BE NAN\n",
    "\n",
    "def length(size):\n",
    "    length_list = []\n",
    "    \n",
    "    for i in range(len(size)):\n",
    "        if pd.isna(df_01['Length x Width'][i])==False:\n",
    "            length = df_01['Length x Width'][i].split('x')[0].strip(' m ').strip('')\n",
    "            length_list.append(length)\n",
    "        else:\n",
    "            length_list.append(np.nan)\n",
    "    return length_list"
   ]
  },
  {
   "cell_type": "code",
   "execution_count": 13,
   "id": "0889be38",
   "metadata": {
    "scrolled": true
   },
   "outputs": [],
   "source": [
    "df_01['Length'] = length(df_01['Length x Width'])"
   ]
  },
  {
   "cell_type": "code",
   "execution_count": 14,
   "id": "aeee4b14",
   "metadata": {},
   "outputs": [],
   "source": [
    "# SAME THING BUT FOR WIDTH\n",
    "\n",
    "def width(size):\n",
    "    width_list = []\n",
    "    \n",
    "    for i in range(len(size)):\n",
    "        try:\n",
    "            if pd.isna(df_01['Length x Width'][i])==False:\n",
    "                width = df_01['Length x Width'][i].split('x')[1].strip(' m ').strip('')\n",
    "                width_list.append(width)\n",
    "            else:\n",
    "                width_list.append(np.nan)\n",
    "        except:\n",
    "            width_list.append(np.nan)\n",
    "    return width_list"
   ]
  },
  {
   "cell_type": "code",
   "execution_count": 15,
   "id": "f42b5817",
   "metadata": {},
   "outputs": [],
   "source": [
    "df_01['Width'] = width(df_01['Length x Width'])"
   ]
  },
  {
   "cell_type": "code",
   "execution_count": 16,
   "id": "72413562",
   "metadata": {},
   "outputs": [
    {
     "name": "stderr",
     "output_type": "stream",
     "text": [
      "C:\\Users\\croatia\\AppData\\Local\\anaconda3\\lib\\site-packages\\pandas\\core\\frame.py:4524: SettingWithCopyWarning: \n",
      "A value is trying to be set on a copy of a slice from a DataFrame\n",
      "\n",
      "See the caveats in the documentation: https://pandas.pydata.org/pandas-docs/stable/user_guide/indexing.html#returning-a-view-versus-a-copy\n",
      "  return super().replace(\n"
     ]
    }
   ],
   "source": [
    "# CHANGE LENGTH AND WIDTH TO FLOAT\n",
    "\n",
    "df_02 = df_01.copy()\n",
    "df_02[['Length','Width']].replace(' ',np.nan,inplace=True)"
   ]
  },
  {
   "cell_type": "code",
   "execution_count": 17,
   "id": "6d81a8fd",
   "metadata": {},
   "outputs": [],
   "source": [
    "# DROPPING SOME MISSING VALUES\n",
    "\n",
    "df_02.drop(df_02[df_02['Length']==''].index,inplace=True)"
   ]
  },
  {
   "cell_type": "code",
   "execution_count": 18,
   "id": "d7fc06cb",
   "metadata": {},
   "outputs": [],
   "source": [
    "# CHANGING DATA TYPE\n",
    "\n",
    "df_02[['Length','Width']] = df_02[['Length','Width']].astype('float')"
   ]
  },
  {
   "cell_type": "code",
   "execution_count": 19,
   "id": "1f6465ac",
   "metadata": {},
   "outputs": [],
   "source": [
    "df_03 = df_02.copy()"
   ]
  },
  {
   "cell_type": "code",
   "execution_count": 20,
   "id": "0568bbbb",
   "metadata": {},
   "outputs": [],
   "source": [
    "# STRIP NO OF PERSONS OF 'PERSONS'\n",
    "\n",
    "df_03['Certified No. of Persons'] = df_03[df_03['Certified No. of Persons'].notnull()]['Certified No. of Persons'].apply(lambda x:x.strip('Person '))"
   ]
  },
  {
   "cell_type": "code",
   "execution_count": 21,
   "id": "14a4f1d8",
   "metadata": {
    "scrolled": true
   },
   "outputs": [],
   "source": [
    "# CHANGE NO OF PERSON TO INT\n",
    "\n",
    "df_03['Certified No. of Persons'] = df_03[df_03['Certified No. of Persons'].notnull()]['Certified No. of Persons'].astype('int')"
   ]
  },
  {
   "cell_type": "code",
   "execution_count": 23,
   "id": "a8e3a4ba",
   "metadata": {},
   "outputs": [],
   "source": [
    "# STRIP CABINS FROM NO. OF CABINS AND CHANGE TO INT\n",
    "\n",
    "df_03['No. of Cabins'] = df_03[df_03['No. of Cabins'].notnull()]['No. of Cabins'].apply(lambda x:x.strip('Cabins '))\n",
    "df_03['No. of Cabins'] = df_03[df_03['No. of Cabins'].notnull()]['No. of Cabins'].astype('int')"
   ]
  },
  {
   "cell_type": "code",
   "execution_count": 24,
   "id": "d803ea0f",
   "metadata": {
    "scrolled": true
   },
   "outputs": [
    {
     "data": {
      "text/plain": [
       "Inboard Direct-Drive     2150\n",
       "Outboard, four-stroke    1633\n",
       "Sterndrive               1088\n",
       "Saildrive                 314\n",
       "Inboard V-Drive           121\n",
       "POD Drive                 103\n",
       "Outboard, two-stroke       70\n",
       "Jet Drive                  38\n",
       "Forward Drive              20\n",
       "Surface Drive               7\n",
       "Hydraulic Drive             4\n",
       "Name: Propulsion, dtype: int64"
      ]
     },
     "execution_count": 24,
     "metadata": {},
     "output_type": "execute_result"
    }
   ],
   "source": [
    "# PROPULSION SEEMS OK, JUST A LOT OF NANS\n",
    "\n",
    "df_03['Propulsion'].value_counts()"
   ]
  },
  {
   "cell_type": "code",
   "execution_count": null,
   "id": "d1e5332d",
   "metadata": {},
   "outputs": [],
   "source": [
    "# STRIP 2X, STIP HORSEPOWER AND NUMBERS, LEAVE JUST THE ENDING BRAND"
   ]
  },
  {
   "cell_type": "code",
   "execution_count": 26,
   "id": "0709dfd8",
   "metadata": {
    "scrolled": false
   },
   "outputs": [
    {
     "data": {
      "text/plain": [
       "Volvo Penta       483\n",
       "Yanmar            424\n",
       "Mercury           282\n",
       "Yamaha            229\n",
       "MAN               175\n",
       "Mercruiser        132\n",
       "Volvo             101\n",
       "MTU                96\n",
       "Caterpillar        87\n",
       "Honda              72\n",
       "Suzuki             68\n",
       "YAMAHA             67\n",
       "Cummins            58\n",
       "VOLVO PENTA        58\n",
       "YANMAR             54\n",
       "Perkins            48\n",
       "Vetus              38\n",
       "MERCURY            37\n",
       "Man                36\n",
       "Volvo Penta D6     32\n",
       "Name: Engine, dtype: int64"
      ]
     },
     "execution_count": 26,
     "metadata": {},
     "output_type": "execute_result"
    }
   ],
   "source": [
    "df_03['Engine'].value_counts()[:20]"
   ]
  },
  {
   "cell_type": "code",
   "execution_count": 27,
   "id": "d9db3ffc",
   "metadata": {},
   "outputs": [],
   "source": [
    "# EDIT THE NAMES OF THE TOP 20 ENGINE BRANDS\n",
    "\n",
    "df_03['Engine'] = df_03['Engine'].replace({'CATERPILLAR': 'Caterpillar',\n",
    "                                          'SUZUKI':'Suzuki',\n",
    "                                          'Man Engine':'MAN',\n",
    "                                          'Man':'MAN',\n",
    "                                          'Caterpillar 3208':'Caterpillar',\n",
    "                                          'Honda Marine':'Honda',\n",
    "                                          'CUMMINS':'Cummins',\n",
    "                                          'IVECO':'Iveco',\n",
    "                                          'PERKINS':'Perkins',\n",
    "                                          'perkins':'Perkins'})"
   ]
  },
  {
   "cell_type": "code",
   "execution_count": 28,
   "id": "82e3ebdf",
   "metadata": {},
   "outputs": [],
   "source": [
    "# CLEAN VOLVO ENGINES\n",
    "\n",
    "def volvo(array):\n",
    "\n",
    "    temp_list = []\n",
    "\n",
    "    for i in range(len(array)):\n",
    "        try:\n",
    "\n",
    "            if pd.isna(array[i])==False:\n",
    "                if 'volvo' in array[i].lower():\n",
    "                    a = array[i].replace(array[i],'Volvo Penta')\n",
    "                    temp_list.append(a)\n",
    "                else:\n",
    "                    temp_list.append(array[i])\n",
    "            else:\n",
    "                temp_list.append(np.nan)\n",
    "        except:\n",
    "            temp_list.append(np.nan)\n",
    "            \n",
    "    return temp_list"
   ]
  },
  {
   "cell_type": "code",
   "execution_count": 29,
   "id": "950d2293",
   "metadata": {},
   "outputs": [],
   "source": [
    "df_03['Engine'] = volvo(df_03['Engine'])"
   ]
  },
  {
   "cell_type": "code",
   "execution_count": 30,
   "id": "c4cbce87",
   "metadata": {
    "scrolled": true
   },
   "outputs": [],
   "source": [
    "# CLEAN YANMAR ENGINES\n",
    "\n",
    "def yanmar(array):\n",
    "\n",
    "    temp_list = []\n",
    "\n",
    "    for i in range(len(array)):\n",
    "        try:\n",
    "            if pd.isna(array[i])==False:\n",
    "                if 'yanmar' in array[i].lower():\n",
    "                    a = array[i].replace(array[i],'Yanmar')\n",
    "                    temp_list.append(a)\n",
    "                else:\n",
    "                    temp_list.append(array[i])\n",
    "            else:\n",
    "                temp_list.append(np.nan)\n",
    "        except:\n",
    "            temp_list.append(np.nan)\n",
    "            \n",
    "    return temp_list"
   ]
  },
  {
   "cell_type": "code",
   "execution_count": 31,
   "id": "56d3943b",
   "metadata": {},
   "outputs": [],
   "source": [
    "df_03['Engine'] = yanmar(df_03['Engine'])"
   ]
  },
  {
   "cell_type": "code",
   "execution_count": 32,
   "id": "540ba7db",
   "metadata": {},
   "outputs": [],
   "source": [
    "# CLEAN MERCURY ENGINES\n",
    "\n",
    "def mercury(array):\n",
    "\n",
    "    strings = ['mercury','mercruiser']\n",
    "    temp_list = []\n",
    "\n",
    "    for i in range(len(array)):\n",
    "        try:\n",
    "            if pd.isna(array[i])==False:\n",
    "                if any(x in array[i].lower() for x in strings):\n",
    "                    a = array[i].replace(array[i],'Mercury')\n",
    "                    temp_list.append(a)\n",
    "                else:\n",
    "                    temp_list.append(array[i])\n",
    "            else:\n",
    "                temp_list.append(np.nan)\n",
    "        except:\n",
    "            temp_list.append(np.nan)\n",
    "            \n",
    "    return temp_list"
   ]
  },
  {
   "cell_type": "code",
   "execution_count": 33,
   "id": "fb8a1906",
   "metadata": {},
   "outputs": [],
   "source": [
    "df_03['Engine'] = mercury(df_03['Engine'])"
   ]
  },
  {
   "cell_type": "code",
   "execution_count": 34,
   "id": "ed140d5f",
   "metadata": {},
   "outputs": [],
   "source": [
    "# CLEAN YAMAHA ENGINES\n",
    "\n",
    "def yamaha(array):\n",
    "\n",
    "    strings = ['yamaha']\n",
    "    temp_list = []\n",
    "\n",
    "    for i in range(len(array)):\n",
    "        try:\n",
    "            if pd.isna(array[i])==False:\n",
    "                if any(x in array[i].lower() for x in strings):\n",
    "                    a = array[i].replace(array[i],'Yamaha')\n",
    "                    temp_list.append(a)\n",
    "                else:\n",
    "                    temp_list.append(array[i])\n",
    "            else:\n",
    "                temp_list.append(np.nan)\n",
    "        except:\n",
    "            temp_list.append(np.nan)\n",
    "            \n",
    "    return temp_list"
   ]
  },
  {
   "cell_type": "code",
   "execution_count": 35,
   "id": "661e05c9",
   "metadata": {},
   "outputs": [],
   "source": [
    "df_03['Engine'] = yamaha(df_03['Engine'])"
   ]
  },
  {
   "cell_type": "code",
   "execution_count": 36,
   "id": "59e32338",
   "metadata": {},
   "outputs": [],
   "source": [
    "# CLEAN PERKINS ENGINES\n",
    "\n",
    "def perkins(array):\n",
    "\n",
    "    strings = ['perkins']\n",
    "    temp_list = []\n",
    "\n",
    "    for i in range(len(array)):\n",
    "        try:\n",
    "            if pd.isna(array[i])==False:\n",
    "                if any(x in array[i].lower() for x in strings):\n",
    "                    a = array[i].replace(array[i],'Perkins')\n",
    "                    temp_list.append(a)\n",
    "                else:\n",
    "                    temp_list.append(array[i])\n",
    "            else:\n",
    "                temp_list.append(np.nan)\n",
    "        except:\n",
    "            temp_list.append(np.nan)\n",
    "            \n",
    "    return temp_list"
   ]
  },
  {
   "cell_type": "code",
   "execution_count": 40,
   "id": "df901804",
   "metadata": {},
   "outputs": [
    {
     "data": {
      "text/plain": [
       "Lombardini                                         10\n",
       "PCM                                                 9\n",
       "DAF 575                                             9\n",
       "Piktronik                                           9\n",
       "-                                                   8\n",
       "                                                   ..\n",
       "Outboard 250 PS                                     1\n",
       "Solé Diesel                                         1\n",
       "max 2 x 900\\r\\n\\r\\nHP                               1\n",
       "9.6 v8                                              1\n",
       "200cv neuf 2 heures de navigation garantie 3ans     1\n",
       "Name: Engine, Length: 1372, dtype: int64"
      ]
     },
     "execution_count": 40,
     "metadata": {},
     "output_type": "execute_result"
    }
   ],
   "source": [
    "df_03['Engine'].value_counts()[20:]"
   ]
  },
  {
   "cell_type": "code",
   "execution_count": 41,
   "id": "a4be6b0c",
   "metadata": {},
   "outputs": [],
   "source": [
    "# REMOVING ENGINES THAT CONTAIN USELESS NUMBER IN ITS NAME\n",
    "\n",
    "df_03 = df_03[~df_03.Engine.str.contains(r'\\d',na=False)]"
   ]
  },
  {
   "cell_type": "code",
   "execution_count": 42,
   "id": "b26a44dc",
   "metadata": {},
   "outputs": [],
   "source": [
    "# KEEP ONLY TOP 20 ENGINE BRANDS\n",
    "\n",
    "to_remove = df_03['Engine'].value_counts()[21:].index"
   ]
  },
  {
   "cell_type": "code",
   "execution_count": 43,
   "id": "0048b86e",
   "metadata": {},
   "outputs": [],
   "source": [
    "df_03 = df_03[~df_03.Engine.isin(to_remove)]"
   ]
  },
  {
   "cell_type": "code",
   "execution_count": 44,
   "id": "adf6522f",
   "metadata": {},
   "outputs": [
    {
     "data": {
      "text/plain": [
       "array(['Volvo Penta', nan, 'Yamaha', 'Yanmar', 'Cummins', 'MTU',\n",
       "       'Mercury', 'Perkins', 'MAN', 'Caterpillar', 'Honda', 'Nanni',\n",
       "       'Suzuki', 'Iveco', 'Ford', 'Tohatsu', 'Vetus', 'Mercedes',\n",
       "       'Peugeot', 'Lombardini', 'John Deere', 'PIKTRONIK'], dtype=object)"
      ]
     },
     "execution_count": 44,
     "metadata": {},
     "output_type": "execute_result"
    }
   ],
   "source": [
    "df_03.Engine.unique()"
   ]
  },
  {
   "cell_type": "code",
   "execution_count": 46,
   "id": "d374cbea",
   "metadata": {},
   "outputs": [],
   "source": [
    "# ENGINE PERFORMANCE - REMOVE HP, REMOVE KW, MULTIPLY NUMBER OF ENGINES (THAT WAY WE WILL GET TOTAL HP)\n",
    "\n",
    "# REMOVE ' FROM NUMBERS\n",
    "\n",
    "df_03['Engine Performance'] = df_03['Engine Performance'].replace(r\"\\'\",'',regex=True)"
   ]
  },
  {
   "cell_type": "code",
   "execution_count": 47,
   "id": "1b4c19a4",
   "metadata": {},
   "outputs": [],
   "source": [
    "df_03['Engine Performance'] = df_03['Engine Performance'].replace({r\"\\w+\\s\\/\\s\\d+\\s\\w+\":''},regex=True)"
   ]
  },
  {
   "cell_type": "code",
   "execution_count": 48,
   "id": "481d19f2",
   "metadata": {},
   "outputs": [],
   "source": [
    "df_03['Engine Performance'] = df_03['Engine Performance'].replace({r\"\\w+\\s\\/\\s\\d+\\.\\d+\\s\\w+\":''},regex=True)"
   ]
  },
  {
   "cell_type": "code",
   "execution_count": 50,
   "id": "aca7dcd1",
   "metadata": {},
   "outputs": [],
   "source": [
    "# FUNCTION TO CALCULATE THE ENGINE POWER\n",
    "\n",
    "def engine_power(array):\n",
    "    \n",
    "    power_list = []\n",
    "    \n",
    "    for i in range(len(array)):\n",
    "        try:\n",
    "            if pd.isna(array[i])==False:\n",
    "                a = int(array[i].split('x')[0])\n",
    "                b = float(array[i].split('x')[1])\n",
    "                c = a * b\n",
    "                power_list.append(c)\n",
    "            else:\n",
    "                power_list.append(np.nan)\n",
    "        except:\n",
    "            power_list.append(np.nan)\n",
    "\n",
    "    return power_list"
   ]
  },
  {
   "cell_type": "code",
   "execution_count": 51,
   "id": "50633ecb",
   "metadata": {},
   "outputs": [],
   "source": [
    "df_03['Engine Performance'] = engine_power(df_03['Engine Performance'])"
   ]
  },
  {
   "cell_type": "code",
   "execution_count": 52,
   "id": "1c29cda0",
   "metadata": {},
   "outputs": [
    {
     "data": {
      "text/plain": [
       "0.3255924621680784"
      ]
     },
     "execution_count": 52,
     "metadata": {},
     "output_type": "execute_result"
    }
   ],
   "source": [
    "df_03['Engine Performance'].isnull().sum()/df_03['Engine Performance'].shape[0]"
   ]
  },
  {
   "cell_type": "code",
   "execution_count": 53,
   "id": "b0f1a36b",
   "metadata": {},
   "outputs": [],
   "source": [
    "# DROPPING ENGINE HOURS BECAUSE 65% IS NAN\n",
    "\n",
    "df_03.drop('Engine Hours',axis=1,inplace=True)"
   ]
  },
  {
   "cell_type": "code",
   "execution_count": 54,
   "id": "9fd2f3dd",
   "metadata": {},
   "outputs": [],
   "source": [
    "df_04 = df_03.copy()"
   ]
  },
  {
   "cell_type": "code",
   "execution_count": 55,
   "id": "667c2115",
   "metadata": {},
   "outputs": [],
   "source": [
    "# RENAMING ENGINE PERFORMANCE INTO ENGINE HOURSEPOWER SO ITS EASIER TO UNDERSTAND\n",
    "\n",
    "df_04.rename(columns={'Engine Performance':'Engine Horsepower'},inplace=True)"
   ]
  },
  {
   "cell_type": "code",
   "execution_count": 56,
   "id": "4cf95803",
   "metadata": {},
   "outputs": [],
   "source": [
    "df_04.Model = df_04.Model.replace(r'\\d+','',regex=True)"
   ]
  },
  {
   "cell_type": "code",
   "execution_count": 58,
   "id": "90de1fbf",
   "metadata": {},
   "outputs": [],
   "source": [
    "# TAKING ONLY THE FIRST STRING OF THE MODEL NAME, SO WE HAVE THE BOAT BRAND\n",
    "\n",
    "df_04.Model = df_04.Model.apply(lambda x:x.split(' ')[0])"
   ]
  },
  {
   "cell_type": "code",
   "execution_count": 59,
   "id": "bc77ed81",
   "metadata": {},
   "outputs": [
    {
     "data": {
      "text/plain": [
       "Motor Yacht                   1504\n",
       "Sailing Yacht                 1251\n",
       "Sport Boat                     929\n",
       "Flybridge                      712\n",
       "Cabin Cruiser                  563\n",
       "                              ... \n",
       "Outdoor Storage                  2\n",
       "Dolphins                         1\n",
       "Waterskiing / Wakeboarding       1\n",
       "Pedalo                           1\n",
       "Fittings                         1\n",
       "Name: Type, Length: 71, dtype: int64"
      ]
     },
     "execution_count": 59,
     "metadata": {},
     "output_type": "execute_result"
    }
   ],
   "source": [
    "# WE WILL KEEP THE TYPE FOR DATA EXPLORATION, BUT WE WILL HAVE TO REDUCE THE NUMBER OF VALUES FOR MACHINE LEARNING\n",
    "\n",
    "df_04.Type.value_counts()"
   ]
  },
  {
   "cell_type": "code",
   "execution_count": 60,
   "id": "23b0bcb8",
   "metadata": {},
   "outputs": [],
   "source": [
    "# KEEPING ONLY THE LOCATION COUNTRY\n",
    "\n",
    "df_04.Location = df_04.Location.apply(lambda x:x.split('»')[0])"
   ]
  },
  {
   "cell_type": "code",
   "execution_count": 61,
   "id": "2b17f5b1",
   "metadata": {},
   "outputs": [
    {
     "data": {
      "text/plain": [
       "Germany                      2628\n",
       "Switzerland                  1519\n",
       "Location not available       1487\n",
       "Italy                        1293\n",
       "Netherlands                  1016\n",
       "Spain                         650\n",
       "Croatia (Hrvatska)            433\n",
       "France                        341\n",
       "Austria                       179\n",
       "Turkey                        143\n",
       "Denmark                       115\n",
       "Portugal                      113\n",
       "Sweden                        100\n",
       "Greece                         89\n",
       "Belgium                        62\n",
       "Poland                         45\n",
       "Virgin Islands (British)       35\n",
       "Finland                        31\n",
       "Slovenia                       21\n",
       "Montenegro                     20\n",
       "Name: Location, dtype: int64"
      ]
     },
     "execution_count": 61,
     "metadata": {},
     "output_type": "execute_result"
    }
   ],
   "source": [
    "df_04.Location.value_counts()[:20]"
   ]
  },
  {
   "cell_type": "code",
   "execution_count": 62,
   "id": "90ed7d27",
   "metadata": {},
   "outputs": [],
   "source": [
    "df_04.drop('Location_Country',axis=1,inplace=True)"
   ]
  },
  {
   "cell_type": "code",
   "execution_count": 63,
   "id": "b76ce2f0",
   "metadata": {},
   "outputs": [],
   "source": [
    "# CLEANING THE PRICE OF THE VALUE ICONS\n",
    "\n",
    "df_04.Price = df_04.Price.replace(r\"\\w+\\.\\s\\W\",'',regex=True)"
   ]
  },
  {
   "cell_type": "code",
   "execution_count": 64,
   "id": "672a19ce",
   "metadata": {},
   "outputs": [],
   "source": [
    "df_04.Price = df_04.Price.replace(r\"£\",'',regex=True)"
   ]
  },
  {
   "cell_type": "code",
   "execution_count": 66,
   "id": "c7f1e58e",
   "metadata": {},
   "outputs": [],
   "source": [
    "df_04.Price = df_04.Price.replace(r',','',regex=True)"
   ]
  },
  {
   "cell_type": "code",
   "execution_count": 67,
   "id": "eb263ddb",
   "metadata": {},
   "outputs": [],
   "source": [
    "# REMOVE MISSING PRICES\n",
    "\n",
    "df_04 = df_04[~df_04.Price.str.contains('Price not available')]"
   ]
  },
  {
   "cell_type": "code",
   "execution_count": 68,
   "id": "f8bbbb96",
   "metadata": {},
   "outputs": [],
   "source": [
    "df_04.Price = df_04.Price.astype('int')"
   ]
  },
  {
   "cell_type": "code",
   "execution_count": 69,
   "id": "d95abffb",
   "metadata": {},
   "outputs": [],
   "source": [
    "df_04.drop('Length x Width',axis=1,inplace=True)"
   ]
  },
  {
   "cell_type": "markdown",
   "id": "243f71e2",
   "metadata": {},
   "source": [
    "## Exploratory Data Analysis"
   ]
  },
  {
   "cell_type": "code",
   "execution_count": 71,
   "id": "ebae2840",
   "metadata": {},
   "outputs": [],
   "source": [
    "import matplotlib.pyplot as plt\n",
    "import seaborn as sns"
   ]
  },
  {
   "cell_type": "code",
   "execution_count": 72,
   "id": "7242da81",
   "metadata": {},
   "outputs": [],
   "source": [
    "df_04.drop(df_04[df_04['Year Built'] < 1600].index,axis=0,inplace=True)"
   ]
  },
  {
   "cell_type": "code",
   "execution_count": 73,
   "id": "9f480a20",
   "metadata": {
    "collapsed": true
   },
   "outputs": [
    {
     "name": "stdout",
     "output_type": "stream",
     "text": [
      "<class 'pandas.core.frame.DataFrame'>\n",
      "Int64Index: 8971 entries, 0 to 11162\n",
      "Data columns (total 14 columns):\n",
      " #   Column                    Non-Null Count  Dtype  \n",
      "---  ------                    --------------  -----  \n",
      " 0   Year Built                8104 non-null   float64\n",
      " 1   Condition                 2850 non-null   object \n",
      " 2   Material                  6845 non-null   object \n",
      " 3   Certified No. of Persons  3467 non-null   float64\n",
      " 4   No. of Cabins             4653 non-null   float64\n",
      " 5   Propulsion                4567 non-null   object \n",
      " 6   Engine                    6702 non-null   object \n",
      " 7   Engine Horsepower         6173 non-null   float64\n",
      " 8   Model                     8971 non-null   object \n",
      " 9   Type                      8970 non-null   object \n",
      " 10  Location                  8971 non-null   object \n",
      " 11  Price                     8971 non-null   int32  \n",
      " 12  Length                    8346 non-null   float64\n",
      " 13  Width                     8276 non-null   float64\n",
      "dtypes: float64(6), int32(1), object(7)\n",
      "memory usage: 1016.2+ KB\n"
     ]
    }
   ],
   "source": [
    "df_04.info()"
   ]
  },
  {
   "cell_type": "code",
   "execution_count": 75,
   "id": "4e4eff05",
   "metadata": {
    "scrolled": true
   },
   "outputs": [
    {
     "data": {
      "text/html": [
       "<div>\n",
       "<style scoped>\n",
       "    .dataframe tbody tr th:only-of-type {\n",
       "        vertical-align: middle;\n",
       "    }\n",
       "\n",
       "    .dataframe tbody tr th {\n",
       "        vertical-align: top;\n",
       "    }\n",
       "\n",
       "    .dataframe thead th {\n",
       "        text-align: right;\n",
       "    }\n",
       "</style>\n",
       "<table border=\"1\" class=\"dataframe\">\n",
       "  <thead>\n",
       "    <tr style=\"text-align: right;\">\n",
       "      <th></th>\n",
       "      <th>Year Built</th>\n",
       "      <th>Certified No. of Persons</th>\n",
       "      <th>No. of Cabins</th>\n",
       "      <th>Engine Horsepower</th>\n",
       "      <th>Price</th>\n",
       "      <th>Length</th>\n",
       "      <th>Width</th>\n",
       "    </tr>\n",
       "  </thead>\n",
       "  <tbody>\n",
       "    <tr>\n",
       "      <th>Year Built</th>\n",
       "      <td>1.000000</td>\n",
       "      <td>0.024940</td>\n",
       "      <td>-0.035819</td>\n",
       "      <td>-0.023923</td>\n",
       "      <td>0.062253</td>\n",
       "      <td>-0.161420</td>\n",
       "      <td>-0.043013</td>\n",
       "    </tr>\n",
       "    <tr>\n",
       "      <th>Certified No. of Persons</th>\n",
       "      <td>0.024940</td>\n",
       "      <td>1.000000</td>\n",
       "      <td>0.082068</td>\n",
       "      <td>0.019019</td>\n",
       "      <td>0.065082</td>\n",
       "      <td>0.365911</td>\n",
       "      <td>0.244221</td>\n",
       "    </tr>\n",
       "    <tr>\n",
       "      <th>No. of Cabins</th>\n",
       "      <td>-0.035819</td>\n",
       "      <td>0.082068</td>\n",
       "      <td>1.000000</td>\n",
       "      <td>0.020321</td>\n",
       "      <td>0.203594</td>\n",
       "      <td>0.561378</td>\n",
       "      <td>0.430350</td>\n",
       "    </tr>\n",
       "    <tr>\n",
       "      <th>Engine Horsepower</th>\n",
       "      <td>-0.023923</td>\n",
       "      <td>0.019019</td>\n",
       "      <td>0.020321</td>\n",
       "      <td>1.000000</td>\n",
       "      <td>-0.002050</td>\n",
       "      <td>0.069358</td>\n",
       "      <td>0.062048</td>\n",
       "    </tr>\n",
       "    <tr>\n",
       "      <th>Price</th>\n",
       "      <td>0.062253</td>\n",
       "      <td>0.065082</td>\n",
       "      <td>0.203594</td>\n",
       "      <td>-0.002050</td>\n",
       "      <td>1.000000</td>\n",
       "      <td>0.402318</td>\n",
       "      <td>0.340649</td>\n",
       "    </tr>\n",
       "    <tr>\n",
       "      <th>Length</th>\n",
       "      <td>-0.161420</td>\n",
       "      <td>0.365911</td>\n",
       "      <td>0.561378</td>\n",
       "      <td>0.069358</td>\n",
       "      <td>0.402318</td>\n",
       "      <td>1.000000</td>\n",
       "      <td>0.731967</td>\n",
       "    </tr>\n",
       "    <tr>\n",
       "      <th>Width</th>\n",
       "      <td>-0.043013</td>\n",
       "      <td>0.244221</td>\n",
       "      <td>0.430350</td>\n",
       "      <td>0.062048</td>\n",
       "      <td>0.340649</td>\n",
       "      <td>0.731967</td>\n",
       "      <td>1.000000</td>\n",
       "    </tr>\n",
       "  </tbody>\n",
       "</table>\n",
       "</div>"
      ],
      "text/plain": [
       "                          Year Built  Certified No. of Persons  No. of Cabins  \\\n",
       "Year Built                  1.000000                  0.024940      -0.035819   \n",
       "Certified No. of Persons    0.024940                  1.000000       0.082068   \n",
       "No. of Cabins              -0.035819                  0.082068       1.000000   \n",
       "Engine Horsepower          -0.023923                  0.019019       0.020321   \n",
       "Price                       0.062253                  0.065082       0.203594   \n",
       "Length                     -0.161420                  0.365911       0.561378   \n",
       "Width                      -0.043013                  0.244221       0.430350   \n",
       "\n",
       "                          Engine Horsepower     Price    Length     Width  \n",
       "Year Built                        -0.023923  0.062253 -0.161420 -0.043013  \n",
       "Certified No. of Persons           0.019019  0.065082  0.365911  0.244221  \n",
       "No. of Cabins                      0.020321  0.203594  0.561378  0.430350  \n",
       "Engine Horsepower                  1.000000 -0.002050  0.069358  0.062048  \n",
       "Price                             -0.002050  1.000000  0.402318  0.340649  \n",
       "Length                             0.069358  0.402318  1.000000  0.731967  \n",
       "Width                              0.062048  0.340649  0.731967  1.000000  "
      ]
     },
     "execution_count": 75,
     "metadata": {},
     "output_type": "execute_result"
    }
   ],
   "source": [
    "df_04.corr()"
   ]
  },
  {
   "cell_type": "code",
   "execution_count": 76,
   "id": "cf4d2b2d",
   "metadata": {},
   "outputs": [
    {
     "data": {
      "text/html": [
       "<div>\n",
       "<style scoped>\n",
       "    .dataframe tbody tr th:only-of-type {\n",
       "        vertical-align: middle;\n",
       "    }\n",
       "\n",
       "    .dataframe tbody tr th {\n",
       "        vertical-align: top;\n",
       "    }\n",
       "\n",
       "    .dataframe thead th {\n",
       "        text-align: right;\n",
       "    }\n",
       "</style>\n",
       "<table border=\"1\" class=\"dataframe\">\n",
       "  <thead>\n",
       "    <tr style=\"text-align: right;\">\n",
       "      <th></th>\n",
       "      <th>Year Built</th>\n",
       "      <th>Certified No. of Persons</th>\n",
       "      <th>No. of Cabins</th>\n",
       "      <th>Engine Horsepower</th>\n",
       "      <th>Price</th>\n",
       "      <th>Length</th>\n",
       "      <th>Width</th>\n",
       "    </tr>\n",
       "  </thead>\n",
       "  <tbody>\n",
       "    <tr>\n",
       "      <th>count</th>\n",
       "      <td>8104.000000</td>\n",
       "      <td>3467.000000</td>\n",
       "      <td>4653.000000</td>\n",
       "      <td>6173.000000</td>\n",
       "      <td>8.971000e+03</td>\n",
       "      <td>8346.000000</td>\n",
       "      <td>8276.000000</td>\n",
       "    </tr>\n",
       "    <tr>\n",
       "      <th>mean</th>\n",
       "      <td>2004.383144</td>\n",
       "      <td>8.755697</td>\n",
       "      <td>2.377391</td>\n",
       "      <td>562.387818</td>\n",
       "      <td>2.838309e+05</td>\n",
       "      <td>11.272810</td>\n",
       "      <td>3.500839</td>\n",
       "    </tr>\n",
       "    <tr>\n",
       "      <th>std</th>\n",
       "      <td>19.162102</td>\n",
       "      <td>11.161978</td>\n",
       "      <td>2.167596</td>\n",
       "      <td>939.439818</td>\n",
       "      <td>1.575384e+06</td>\n",
       "      <td>6.436996</td>\n",
       "      <td>1.667062</td>\n",
       "    </tr>\n",
       "    <tr>\n",
       "      <th>min</th>\n",
       "      <td>1850.000000</td>\n",
       "      <td>1.000000</td>\n",
       "      <td>1.000000</td>\n",
       "      <td>0.500000</td>\n",
       "      <td>1.300000e+01</td>\n",
       "      <td>0.880000</td>\n",
       "      <td>0.010000</td>\n",
       "    </tr>\n",
       "    <tr>\n",
       "      <th>25%</th>\n",
       "      <td>1995.000000</td>\n",
       "      <td>6.000000</td>\n",
       "      <td>1.000000</td>\n",
       "      <td>55.000000</td>\n",
       "      <td>2.100000e+04</td>\n",
       "      <td>7.010000</td>\n",
       "      <td>2.500000</td>\n",
       "    </tr>\n",
       "    <tr>\n",
       "      <th>50%</th>\n",
       "      <td>2008.000000</td>\n",
       "      <td>8.000000</td>\n",
       "      <td>2.000000</td>\n",
       "      <td>234.000000</td>\n",
       "      <td>6.650000e+04</td>\n",
       "      <td>10.000000</td>\n",
       "      <td>3.230000</td>\n",
       "    </tr>\n",
       "    <tr>\n",
       "      <th>75%</th>\n",
       "      <td>2021.000000</td>\n",
       "      <td>10.000000</td>\n",
       "      <td>3.000000</td>\n",
       "      <td>640.000000</td>\n",
       "      <td>1.914000e+05</td>\n",
       "      <td>13.700000</td>\n",
       "      <td>4.220000</td>\n",
       "    </tr>\n",
       "    <tr>\n",
       "      <th>max</th>\n",
       "      <td>2024.000000</td>\n",
       "      <td>600.000000</td>\n",
       "      <td>74.000000</td>\n",
       "      <td>17538.000000</td>\n",
       "      <td>8.541000e+07</td>\n",
       "      <td>100.000000</td>\n",
       "      <td>66.000000</td>\n",
       "    </tr>\n",
       "  </tbody>\n",
       "</table>\n",
       "</div>"
      ],
      "text/plain": [
       "        Year Built  Certified No. of Persons  No. of Cabins  \\\n",
       "count  8104.000000               3467.000000    4653.000000   \n",
       "mean   2004.383144                  8.755697       2.377391   \n",
       "std      19.162102                 11.161978       2.167596   \n",
       "min    1850.000000                  1.000000       1.000000   \n",
       "25%    1995.000000                  6.000000       1.000000   \n",
       "50%    2008.000000                  8.000000       2.000000   \n",
       "75%    2021.000000                 10.000000       3.000000   \n",
       "max    2024.000000                600.000000      74.000000   \n",
       "\n",
       "       Engine Horsepower         Price       Length        Width  \n",
       "count        6173.000000  8.971000e+03  8346.000000  8276.000000  \n",
       "mean          562.387818  2.838309e+05    11.272810     3.500839  \n",
       "std           939.439818  1.575384e+06     6.436996     1.667062  \n",
       "min             0.500000  1.300000e+01     0.880000     0.010000  \n",
       "25%            55.000000  2.100000e+04     7.010000     2.500000  \n",
       "50%           234.000000  6.650000e+04    10.000000     3.230000  \n",
       "75%           640.000000  1.914000e+05    13.700000     4.220000  \n",
       "max         17538.000000  8.541000e+07   100.000000    66.000000  "
      ]
     },
     "execution_count": 76,
     "metadata": {},
     "output_type": "execute_result"
    }
   ],
   "source": [
    "df_04.describe()"
   ]
  },
  {
   "cell_type": "code",
   "execution_count": 77,
   "id": "95e5650a",
   "metadata": {
    "scrolled": true
   },
   "outputs": [
    {
     "data": {
      "text/plain": [
       "<AxesSubplot:xlabel='Year Built', ylabel='Count'>"
      ]
     },
     "execution_count": 77,
     "metadata": {},
     "output_type": "execute_result"
    },
    {
     "data": {
      "image/png": "[encoded data removed]",
      "text/plain": [
       "<Figure size 432x288 with 1 Axes>"
      ]
     },
     "metadata": {
      "needs_background": "light"
     },
     "output_type": "display_data"
    }
   ],
   "source": [
    "# WE COULD REMOVE OUTLIERS BEFORE 1900'S\n",
    "\n",
    "sns.histplot(df_04['Year Built'])"
   ]
  },
  {
   "cell_type": "code",
   "execution_count": 78,
   "id": "d3a64665",
   "metadata": {},
   "outputs": [
    {
     "name": "stderr",
     "output_type": "stream",
     "text": [
      "C:\\Users\\croatia\\AppData\\Local\\anaconda3\\lib\\site-packages\\seaborn\\_decorators.py:36: FutureWarning: Pass the following variable as a keyword arg: x. From version 0.12, the only valid positional argument will be `data`, and passing other arguments without an explicit keyword will result in an error or misinterpretation.\n",
      "  warnings.warn(\n"
     ]
    },
    {
     "data": {
      "text/plain": [
       "<AxesSubplot:xlabel='Year Built'>"
      ]
     },
     "execution_count": 78,
     "metadata": {},
     "output_type": "execute_result"
    },
    {
     "data": {
      "image/png": "[encoded data removed]",
      "text/plain": [
       "<Figure size 432x288 with 1 Axes>"
      ]
     },
     "metadata": {
      "needs_background": "light"
     },
     "output_type": "display_data"
    }
   ],
   "source": [
    "sns.boxplot(df_04['Year Built'])"
   ]
  },
  {
   "cell_type": "code",
   "execution_count": 79,
   "id": "5d681a57",
   "metadata": {
    "scrolled": false
   },
   "outputs": [
    {
     "name": "stderr",
     "output_type": "stream",
     "text": [
      "C:\\Users\\croatia\\AppData\\Local\\anaconda3\\lib\\site-packages\\seaborn\\_decorators.py:36: FutureWarning: Pass the following variable as a keyword arg: x. From version 0.12, the only valid positional argument will be `data`, and passing other arguments without an explicit keyword will result in an error or misinterpretation.\n",
      "  warnings.warn(\n"
     ]
    },
    {
     "data": {
      "image/png": "[encoded data removed]",
      "text/plain": [
       "<Figure size 576x432 with 1 Axes>"
      ]
     },
     "metadata": {
      "needs_background": "light"
     },
     "output_type": "display_data"
    }
   ],
   "source": [
    "# MOST OF THE BOATS ARE IN GOOD CONDITION\n",
    "\n",
    "plt.figure(figsize=(8,6))\n",
    "\n",
    "sns.countplot(df_04['Condition'])\n",
    "plt.xticks(rotation=45)\n",
    "plt.show()"
   ]
  },
  {
   "cell_type": "code",
   "execution_count": 80,
   "id": "c3e5968f",
   "metadata": {},
   "outputs": [
    {
     "name": "stderr",
     "output_type": "stream",
     "text": [
      "C:\\Users\\croatia\\AppData\\Local\\anaconda3\\lib\\site-packages\\seaborn\\_decorators.py:36: FutureWarning: Pass the following variable as a keyword arg: x. From version 0.12, the only valid positional argument will be `data`, and passing other arguments without an explicit keyword will result in an error or misinterpretation.\n",
      "  warnings.warn(\n"
     ]
    },
    {
     "data": {
      "image/png": "[encoded data removed]",
      "text/plain": [
       "<Figure size 576x432 with 1 Axes>"
      ]
     },
     "metadata": {
      "needs_background": "light"
     },
     "output_type": "display_data"
    }
   ],
   "source": [
    "# MOST OF THE BOATS ARE MADE OF PLASTIC, MEANING THEY ARE ALSO MOSTLY SMALLER OR MEDIUM BOATS\n",
    "\n",
    "plt.figure(figsize=(8,6))\n",
    "\n",
    "sns.countplot(df_04['Material'])\n",
    "plt.xticks(rotation=45)\n",
    "plt.show()"
   ]
  },
  {
   "cell_type": "code",
   "execution_count": 81,
   "id": "1cf93153",
   "metadata": {},
   "outputs": [
    {
     "data": {
      "text/plain": [
       "<AxesSubplot:xlabel='Certified No. of Persons', ylabel='Count'>"
      ]
     },
     "execution_count": 81,
     "metadata": {},
     "output_type": "execute_result"
    },
    {
     "data": {
      "image/png": "[encoded data removed]",
      "text/plain": [
       "<Figure size 432x288 with 1 Axes>"
      ]
     },
     "metadata": {
      "needs_background": "light"
     },
     "output_type": "display_data"
    }
   ],
   "source": [
    "# WE ALSO HAVE OUTLIERS IN 'Certified No. of Persons'\n",
    "\n",
    "sns.histplot(df_04[df_04['Certified No. of Persons']<200]['Certified No. of Persons'])"
   ]
  },
  {
   "cell_type": "code",
   "execution_count": 82,
   "id": "ec18fc72",
   "metadata": {},
   "outputs": [
    {
     "name": "stderr",
     "output_type": "stream",
     "text": [
      "C:\\Users\\croatia\\AppData\\Local\\anaconda3\\lib\\site-packages\\seaborn\\_decorators.py:36: FutureWarning: Pass the following variable as a keyword arg: x. From version 0.12, the only valid positional argument will be `data`, and passing other arguments without an explicit keyword will result in an error or misinterpretation.\n",
      "  warnings.warn(\n"
     ]
    },
    {
     "data": {
      "text/plain": [
       "<AxesSubplot:xlabel='Certified No. of Persons'>"
      ]
     },
     "execution_count": 82,
     "metadata": {},
     "output_type": "execute_result"
    },
    {
     "data": {
      "image/png": "[encoded data removed]",
      "text/plain": [
       "<Figure size 432x288 with 1 Axes>"
      ]
     },
     "metadata": {
      "needs_background": "light"
     },
     "output_type": "display_data"
    }
   ],
   "source": [
    "sns.boxplot(df_04['Certified No. of Persons'])"
   ]
  },
  {
   "cell_type": "code",
   "execution_count": 83,
   "id": "fe9d83ee",
   "metadata": {},
   "outputs": [
    {
     "data": {
      "text/plain": [
       "<AxesSubplot:xlabel='No. of Cabins', ylabel='Count'>"
      ]
     },
     "execution_count": 83,
     "metadata": {},
     "output_type": "execute_result"
    },
    {
     "data": {
      "image/png": "[encoded data removed]",
      "text/plain": [
       "<Figure size 432x288 with 1 Axes>"
      ]
     },
     "metadata": {
      "needs_background": "light"
     },
     "output_type": "display_data"
    }
   ],
   "source": [
    "# OUTLIERS IN NO OF CABINS\n",
    "\n",
    "sns.histplot(df_04['No. of Cabins'])"
   ]
  },
  {
   "cell_type": "code",
   "execution_count": 84,
   "id": "fb505e56",
   "metadata": {},
   "outputs": [
    {
     "name": "stderr",
     "output_type": "stream",
     "text": [
      "C:\\Users\\croatia\\AppData\\Local\\anaconda3\\lib\\site-packages\\seaborn\\_decorators.py:36: FutureWarning: Pass the following variable as a keyword arg: x. From version 0.12, the only valid positional argument will be `data`, and passing other arguments without an explicit keyword will result in an error or misinterpretation.\n",
      "  warnings.warn(\n"
     ]
    },
    {
     "data": {
      "text/plain": [
       "<AxesSubplot:xlabel='No. of Cabins'>"
      ]
     },
     "execution_count": 84,
     "metadata": {},
     "output_type": "execute_result"
    },
    {
     "data": {
      "image/png": "[encoded data removed]",
      "text/plain": [
       "<Figure size 432x288 with 1 Axes>"
      ]
     },
     "metadata": {
      "needs_background": "light"
     },
     "output_type": "display_data"
    }
   ],
   "source": [
    "sns.boxplot(df_04['No. of Cabins'])"
   ]
  },
  {
   "cell_type": "code",
   "execution_count": 85,
   "id": "b2b2f084",
   "metadata": {},
   "outputs": [
    {
     "name": "stderr",
     "output_type": "stream",
     "text": [
      "C:\\Users\\croatia\\AppData\\Local\\anaconda3\\lib\\site-packages\\seaborn\\_decorators.py:36: FutureWarning: Pass the following variable as a keyword arg: x. From version 0.12, the only valid positional argument will be `data`, and passing other arguments without an explicit keyword will result in an error or misinterpretation.\n",
      "  warnings.warn(\n"
     ]
    },
    {
     "data": {
      "image/png": "[encoded data removed]",
      "text/plain": [
       "<Figure size 576x432 with 1 Axes>"
      ]
     },
     "metadata": {
      "needs_background": "light"
     },
     "output_type": "display_data"
    }
   ],
   "source": [
    "# MOST OF THE BOATS HAVE AN INBOARD DRIVE OR OUTBOARD ENGINE\n",
    "\n",
    "plt.figure(figsize=(8,6))\n",
    "\n",
    "sns.countplot(df_04['Propulsion'])\n",
    "plt.xticks(rotation=90)\n",
    "plt.show()"
   ]
  },
  {
   "cell_type": "code",
   "execution_count": 86,
   "id": "4bf3e2ba",
   "metadata": {},
   "outputs": [
    {
     "name": "stderr",
     "output_type": "stream",
     "text": [
      "C:\\Users\\croatia\\AppData\\Local\\anaconda3\\lib\\site-packages\\seaborn\\_decorators.py:36: FutureWarning: Pass the following variable as a keyword arg: x. From version 0.12, the only valid positional argument will be `data`, and passing other arguments without an explicit keyword will result in an error or misinterpretation.\n",
      "  warnings.warn(\n"
     ]
    },
    {
     "data": {
      "image/png": "[encoded data removed]",
      "text/plain": [
       "<Figure size 576x432 with 1 Axes>"
      ]
     },
     "metadata": {
      "needs_background": "light"
     },
     "output_type": "display_data"
    }
   ],
   "source": [
    "# VOLVO PENTA IS THE MOST USED TYPE OF ENGINE\n",
    "\n",
    "plt.figure(figsize=(8,6))\n",
    "\n",
    "sns.countplot(df_04['Engine'])\n",
    "plt.xticks(rotation=90)\n",
    "plt.show()"
   ]
  },
  {
   "cell_type": "code",
   "execution_count": 87,
   "id": "355c1536",
   "metadata": {
    "scrolled": true
   },
   "outputs": [
    {
     "data": {
      "text/plain": [
       "<AxesSubplot:title={'center':'Boat model'}>"
      ]
     },
     "execution_count": 87,
     "metadata": {},
     "output_type": "execute_result"
    },
    {
     "data": {
      "image/png": "[encoded data removed]",
      "text/plain": [
       "<Figure size 576x432 with 1 Axes>"
      ]
     },
     "metadata": {
      "needs_background": "light"
     },
     "output_type": "display_data"
    }
   ],
   "source": [
    "# JEANNEAU IS THE MOST COMMON BOAT MODEL ON THE MARKET\n",
    "\n",
    "plt.figure(figsize=(8,6))\n",
    "plt.title('Boat model')\n",
    "\n",
    "df_04.Model.value_counts()[:20].plot(kind='barh')"
   ]
  },
  {
   "cell_type": "code",
   "execution_count": 88,
   "id": "c92353f5",
   "metadata": {},
   "outputs": [
    {
     "data": {
      "text/plain": [
       "<AxesSubplot:title={'center':'Boat type'}>"
      ]
     },
     "execution_count": 88,
     "metadata": {},
     "output_type": "execute_result"
    },
    {
     "data": {
      "image/png": "[encoded data removed]",
      "text/plain": [
       "<Figure size 576x432 with 1 Axes>"
      ]
     },
     "metadata": {
      "needs_background": "light"
     },
     "output_type": "display_data"
    }
   ],
   "source": [
    "# THE MOTOR YACHT IS THE MOST COMMON BOAT TYPE\n",
    "\n",
    "plt.figure(figsize=(8,6))\n",
    "plt.title('Boat type')\n",
    "\n",
    "df_04.Type.value_counts()[:20].plot(kind='barh')"
   ]
  },
  {
   "cell_type": "code",
   "execution_count": 89,
   "id": "84249b99",
   "metadata": {},
   "outputs": [
    {
     "data": {
      "text/plain": [
       "<AxesSubplot:title={'center':'Location frequency'}>"
      ]
     },
     "execution_count": 89,
     "metadata": {},
     "output_type": "execute_result"
    },
    {
     "data": {
      "image/png": "[encoded data removed]",
      "text/plain": [
       "<Figure size 576x432 with 1 Axes>"
      ]
     },
     "metadata": {
      "needs_background": "light"
     },
     "output_type": "display_data"
    }
   ],
   "source": [
    "# MOST OF THE BOATS ARE LOCATED IN GERMANY\n",
    "\n",
    "plt.figure(figsize=(8,6))\n",
    "plt.title('Location frequency')\n",
    "\n",
    "df_04.Location.value_counts()[:20].plot(kind='barh')"
   ]
  },
  {
   "cell_type": "code",
   "execution_count": 90,
   "id": "245cb5b8",
   "metadata": {},
   "outputs": [
    {
     "name": "stderr",
     "output_type": "stream",
     "text": [
      "C:\\Users\\croatia\\AppData\\Local\\anaconda3\\lib\\site-packages\\seaborn\\distributions.py:2557: FutureWarning: `distplot` is a deprecated function and will be removed in a future version. Please adapt your code to use either `displot` (a figure-level function with similar flexibility) or `histplot` (an axes-level function for histograms).\n",
      "  warnings.warn(msg, FutureWarning)\n"
     ]
    },
    {
     "data": {
      "text/plain": [
       "<AxesSubplot:xlabel='Price', ylabel='Density'>"
      ]
     },
     "execution_count": 90,
     "metadata": {},
     "output_type": "execute_result"
    },
    {
     "data": {
      "image/png": "[encoded data removed]",
      "text/plain": [
       "<Figure size 432x288 with 1 Axes>"
      ]
     },
     "metadata": {
      "needs_background": "light"
     },
     "output_type": "display_data"
    }
   ],
   "source": [
    "sns.distplot(df_04[df_04.Price<1000000].Price)"
   ]
  },
  {
   "cell_type": "code",
   "execution_count": 91,
   "id": "f3b7a5f8",
   "metadata": {},
   "outputs": [
    {
     "name": "stderr",
     "output_type": "stream",
     "text": [
      "C:\\Users\\croatia\\AppData\\Local\\anaconda3\\lib\\site-packages\\seaborn\\_decorators.py:36: FutureWarning: Pass the following variable as a keyword arg: x. From version 0.12, the only valid positional argument will be `data`, and passing other arguments without an explicit keyword will result in an error or misinterpretation.\n",
      "  warnings.warn(\n"
     ]
    },
    {
     "data": {
      "text/plain": [
       "<AxesSubplot:xlabel='Price'>"
      ]
     },
     "execution_count": 91,
     "metadata": {},
     "output_type": "execute_result"
    },
    {
     "data": {
      "image/png": "[encoded data removed]",
      "text/plain": [
       "<Figure size 432x288 with 1 Axes>"
      ]
     },
     "metadata": {
      "needs_background": "light"
     },
     "output_type": "display_data"
    }
   ],
   "source": [
    "# LARGE OUTLIERS IN PRICE\n",
    "\n",
    "sns.boxplot(df_04.Price)"
   ]
  },
  {
   "cell_type": "code",
   "execution_count": 92,
   "id": "0c27c67a",
   "metadata": {},
   "outputs": [],
   "source": [
    "df_04.drop(df_04[df_04.Price > 20000000].index,axis=0,inplace=True)"
   ]
  },
  {
   "cell_type": "code",
   "execution_count": 93,
   "id": "ef104a63",
   "metadata": {},
   "outputs": [
    {
     "name": "stderr",
     "output_type": "stream",
     "text": [
      "C:\\Users\\croatia\\AppData\\Local\\anaconda3\\lib\\site-packages\\seaborn\\distributions.py:2557: FutureWarning: `distplot` is a deprecated function and will be removed in a future version. Please adapt your code to use either `displot` (a figure-level function with similar flexibility) or `histplot` (an axes-level function for histograms).\n",
      "  warnings.warn(msg, FutureWarning)\n"
     ]
    },
    {
     "data": {
      "text/plain": [
       "<AxesSubplot:xlabel='Length', ylabel='Density'>"
      ]
     },
     "execution_count": 93,
     "metadata": {},
     "output_type": "execute_result"
    },
    {
     "data": {
      "image/png": "[encoded data removed]",
      "text/plain": [
       "<Figure size 576x432 with 1 Axes>"
      ]
     },
     "metadata": {
      "needs_background": "light"
     },
     "output_type": "display_data"
    }
   ],
   "source": [
    "# MOST BOATS ARE BETWEEN 8 AND 15 METERS IN LENGTH\n",
    "\n",
    "# WE NOTICE ALSO OUTLIERS IN THE DATA BECAUSE OF THE SKEWED DISTRIBUTION\n",
    "\n",
    "plt.figure(figsize=(8,6))\n",
    "\n",
    "sns.distplot(df_04.Length)"
   ]
  },
  {
   "cell_type": "code",
   "execution_count": 94,
   "id": "036cd595",
   "metadata": {},
   "outputs": [
    {
     "data": {
      "text/plain": [
       "<AxesSubplot:xlabel='Width', ylabel='Count'>"
      ]
     },
     "execution_count": 94,
     "metadata": {},
     "output_type": "execute_result"
    },
    {
     "data": {
      "image/png": "[encoded data removed]",
      "text/plain": [
       "<Figure size 576x432 with 1 Axes>"
      ]
     },
     "metadata": {
      "needs_background": "light"
     },
     "output_type": "display_data"
    }
   ],
   "source": [
    "plt.figure(figsize=(8,6))\n",
    "\n",
    "sns.histplot(df_04.Width,bins=50)"
   ]
  },
  {
   "cell_type": "code",
   "execution_count": 95,
   "id": "2b108f08",
   "metadata": {
    "scrolled": false
   },
   "outputs": [
    {
     "data": {
      "image/png": "[encoded data removed]",
      "text/plain": [
       "<Figure size 720x288 with 1 Axes>"
      ]
     },
     "metadata": {
      "needs_background": "light"
     },
     "output_type": "display_data"
    }
   ],
   "source": [
    "# PRICE BY MODEL\n",
    "# BILGIN IS THE MOST EXPENSIVE BOAT MODEL WHICH IS NOT SUPRISING BECAUSE THE PRODUCE SUPERYACHTS\n",
    "\n",
    "plt.figure(figsize=(10,4))\n",
    "\n",
    "price_model = df_04.groupby('Model').agg({'Price':'mean'}).reset_index().sort_values(by='Price',ascending=False)[:20]\n",
    "\n",
    "sns.barplot(data=price_model,x='Model',y='Price')\n",
    "plt.title('Price by Boat Model')\n",
    "plt.xticks(rotation=90)\n",
    "plt.show()"
   ]
  },
  {
   "cell_type": "code",
   "execution_count": 96,
   "id": "aba3c611",
   "metadata": {
    "scrolled": true
   },
   "outputs": [
    {
     "data": {
      "image/png": "[encoded data removed]",
      "text/plain": [
       "<Figure size 720x288 with 1 Axes>"
      ]
     },
     "metadata": {
      "needs_background": "light"
     },
     "output_type": "display_data"
    }
   ],
   "source": [
    "# PRICE BY BOAT TYPE\n",
    "# SUPERYACHTS ARE THE MOST EXPENSIVE TYPE OF BOAT WHICH IS ALSO NOT SUPRISING\n",
    "\n",
    "plt.figure(figsize=(10,4))\n",
    "\n",
    "price_type = df_04.groupby('Type').agg({'Price':'mean'}).reset_index().sort_values(by='Price',ascending=False)[:20]\n",
    "\n",
    "sns.barplot(data=price_type,x='Type',y='Price')\n",
    "plt.title('Price by Boat Type')\n",
    "plt.xticks(rotation=90)\n",
    "plt.show()"
   ]
  },
  {
   "cell_type": "code",
   "execution_count": 97,
   "id": "e7f53d8c",
   "metadata": {},
   "outputs": [
    {
     "data": {
      "image/png": "[encoded data removed]",
      "text/plain": [
       "<Figure size 720x288 with 1 Axes>"
      ]
     },
     "metadata": {
      "needs_background": "light"
     },
     "output_type": "display_data"
    }
   ],
   "source": [
    "# PRICE BY BOAT MATERIAL\n",
    "# CARBON FIBER IS KNOWN TO BE VERY EXPENSIVE\n",
    "\n",
    "plt.figure(figsize=(10,4))\n",
    "\n",
    "price_material = df_04.groupby('Material').agg({'Price':'mean'}).reset_index().sort_values(by='Price',ascending=False)[:20]\n",
    "\n",
    "sns.barplot(data=price_material,x='Material',y='Price')\n",
    "plt.title('Price by Boat Material')\n",
    "plt.xticks(rotation=90)\n",
    "plt.show()"
   ]
  },
  {
   "cell_type": "code",
   "execution_count": 98,
   "id": "c90395cd",
   "metadata": {},
   "outputs": [],
   "source": [
    "model_list = df_04.Model.value_counts()[50:].index"
   ]
  },
  {
   "cell_type": "code",
   "execution_count": 99,
   "id": "090d0840",
   "metadata": {},
   "outputs": [],
   "source": [
    "df_04.Model.replace(model_list,'Other',inplace=True)"
   ]
  },
  {
   "cell_type": "code",
   "execution_count": 100,
   "id": "0e98a6f0",
   "metadata": {},
   "outputs": [
    {
     "data": {
      "image/png": "[encoded data removed]",
      "text/plain": [
       "<Figure size 720x360 with 1 Axes>"
      ]
     },
     "metadata": {
      "needs_background": "light"
     },
     "output_type": "display_data"
    }
   ],
   "source": [
    "# AVG HORSEPOWER PER ENGINE TYPE\n",
    "# LOMBARDINI IS KNOWN TO PRODUCE ENGINES FOR VERY FAST POWERBOATS AND MOTOR YACHTS\n",
    "\n",
    "engine_power = df_04.groupby('Engine').agg({'Engine Horsepower':'mean'}).reset_index().sort_values(by='Engine Horsepower',ascending=False)[:20]\n",
    "\n",
    "plt.figure(figsize=(10,5))\n",
    "sns.barplot(data=engine_power,x='Engine',y='Engine Horsepower')\n",
    "plt.title('Avg. Horsepower by Engine Type')\n",
    "plt.xticks(rotation=90)\n",
    "plt.show()"
   ]
  },
  {
   "cell_type": "code",
   "execution_count": 101,
   "id": "74084a10",
   "metadata": {
    "scrolled": true
   },
   "outputs": [
    {
     "data": {
      "image/png": "[encoded data removed]",
      "text/plain": [
       "<Figure size 720x360 with 1 Axes>"
      ]
     },
     "metadata": {
      "needs_background": "light"
     },
     "output_type": "display_data"
    }
   ],
   "source": [
    "# AVG HORSEPOWER PER BOAT TYPE\n",
    "\n",
    "type_power = df_04.groupby('Type').agg({'Engine Horsepower':'mean'}).reset_index().sort_values(by='Engine Horsepower',ascending=False)[:20]\n",
    "\n",
    "plt.figure(figsize=(10,5))\n",
    "sns.barplot(data=type_power,x='Type',y='Engine Horsepower')\n",
    "plt.title('Avg. Horsepower by Boat Type')\n",
    "plt.xticks(rotation=90)\n",
    "plt.show()"
   ]
  },
  {
   "cell_type": "code",
   "execution_count": 102,
   "id": "6d49bdb7",
   "metadata": {
    "scrolled": true
   },
   "outputs": [],
   "source": [
    "df_04.drop(df_04[df_04['Type']=='Floating Dock'].index,axis=0,inplace=True)"
   ]
  },
  {
   "cell_type": "code",
   "execution_count": 103,
   "id": "bb988d69",
   "metadata": {},
   "outputs": [],
   "source": [
    "df_04.drop(df_04[df_04['Type']=='Safety'].index,axis=0,inplace=True)"
   ]
  },
  {
   "cell_type": "code",
   "execution_count": 104,
   "id": "4eddbcf0",
   "metadata": {},
   "outputs": [],
   "source": [
    "df_04.drop(df_04[df_04['Type']=='Storage Trailer'].index,axis=0,inplace=True)"
   ]
  },
  {
   "cell_type": "code",
   "execution_count": 105,
   "id": "8f91bfc1",
   "metadata": {},
   "outputs": [
    {
     "data": {
      "text/plain": [
       "<AxesSubplot:xlabel='Length', ylabel='Width'>"
      ]
     },
     "execution_count": 105,
     "metadata": {},
     "output_type": "execute_result"
    },
    {
     "data": {
      "image/png": "[encoded data removed]",
      "text/plain": [
       "<Figure size 432x288 with 1 Axes>"
      ]
     },
     "metadata": {
      "needs_background": "light"
     },
     "output_type": "display_data"
    }
   ],
   "source": [
    "sns.scatterplot(data=df_04,x='Length',y='Width')"
   ]
  },
  {
   "cell_type": "code",
   "execution_count": 106,
   "id": "3a0970c2",
   "metadata": {},
   "outputs": [
    {
     "data": {
      "text/plain": [
       "<AxesSubplot:xlabel='Length', ylabel='Price'>"
      ]
     },
     "execution_count": 106,
     "metadata": {},
     "output_type": "execute_result"
    },
    {
     "data": {
      "image/png": "[encoded data removed]",
      "text/plain": [
       "<Figure size 432x288 with 1 Axes>"
      ]
     },
     "metadata": {
      "needs_background": "light"
     },
     "output_type": "display_data"
    }
   ],
   "source": [
    "# LENGTH AND PRICE HAVE SOLID POSITIVE CORRELATION\n",
    "\n",
    "sns.scatterplot(data=df_04,x='Length',y='Price')"
   ]
  },
  {
   "cell_type": "code",
   "execution_count": 107,
   "id": "b6740453",
   "metadata": {
    "scrolled": true
   },
   "outputs": [
    {
     "data": {
      "text/plain": [
       "<AxesSubplot:title={'center':'Correlation matrix'}>"
      ]
     },
     "execution_count": 107,
     "metadata": {},
     "output_type": "execute_result"
    },
    {
     "data": {
      "image/png": "[encoded data removed]",
      "text/plain": [
       "<Figure size 576x432 with 2 Axes>"
      ]
     },
     "metadata": {
      "needs_background": "light"
     },
     "output_type": "display_data"
    }
   ],
   "source": [
    "plt.figure(figsize=(8,6))\n",
    "plt.title('Correlation matrix')\n",
    "sns.heatmap(df_04.corr(),cmap='coolwarm',annot=True)"
   ]
  },
  {
   "cell_type": "code",
   "execution_count": 108,
   "id": "be3de3c4",
   "metadata": {},
   "outputs": [
    {
     "data": {
      "text/plain": [
       "Year Built                  0.098317\n",
       "Certified No. of Persons    0.101221\n",
       "No. of Cabins               0.285904\n",
       "Engine Horsepower           0.006730\n",
       "Price                       1.000000\n",
       "Length                      0.594100\n",
       "Width                       0.444703\n",
       "dtype: float64"
      ]
     },
     "execution_count": 108,
     "metadata": {},
     "output_type": "execute_result"
    }
   ],
   "source": [
    "df_04.corrwith(df_04.Price)"
   ]
  },
  {
   "cell_type": "code",
   "execution_count": 109,
   "id": "9b1bb4f3",
   "metadata": {},
   "outputs": [
    {
     "data": {
      "text/plain": [
       "<seaborn.axisgrid.FacetGrid at 0x1c5a9ca49d0>"
      ]
     },
     "execution_count": 109,
     "metadata": {},
     "output_type": "execute_result"
    },
    {
     "data": {
      "text/plain": [
       "<Figure size 720x576 with 0 Axes>"
      ]
     },
     "metadata": {},
     "output_type": "display_data"
    },
    {
     "data": {
      "image/png": "[encoded data removed]",
      "text/plain": [
       "<Figure size 360x360 with 1 Axes>"
      ]
     },
     "metadata": {
      "needs_background": "light"
     },
     "output_type": "display_data"
    }
   ],
   "source": [
    "plt.figure(figsize=(10,8))\n",
    "\n",
    "sns.lmplot(data=df_04,y='Price',x='Length')"
   ]
  },
  {
   "cell_type": "code",
   "execution_count": 110,
   "id": "40e8141e",
   "metadata": {},
   "outputs": [
    {
     "data": {
      "text/plain": [
       "<seaborn.axisgrid.FacetGrid at 0x1c5a9c53550>"
      ]
     },
     "execution_count": 110,
     "metadata": {},
     "output_type": "execute_result"
    },
    {
     "data": {
      "text/plain": [
       "<Figure size 720x576 with 0 Axes>"
      ]
     },
     "metadata": {},
     "output_type": "display_data"
    },
    {
     "data": {
      "image/png": "[encoded data removed]",
      "text/plain": [
       "<Figure size 360x360 with 1 Axes>"
      ]
     },
     "metadata": {
      "needs_background": "light"
     },
     "output_type": "display_data"
    }
   ],
   "source": [
    "plt.figure(figsize=(10,8))\n",
    "\n",
    "sns.lmplot(data=df_04,y='No. of Cabins',x='Length')"
   ]
  },
  {
   "cell_type": "code",
   "execution_count": 111,
   "id": "e36dc8f3",
   "metadata": {},
   "outputs": [
    {
     "data": {
      "text/plain": [
       "<seaborn.axisgrid.JointGrid at 0x1c5a9cedd60>"
      ]
     },
     "execution_count": 111,
     "metadata": {},
     "output_type": "execute_result"
    },
    {
     "data": {
      "text/plain": [
       "<Figure size 720x576 with 0 Axes>"
      ]
     },
     "metadata": {},
     "output_type": "display_data"
    },
    {
     "data": {
      "image/png": "[encoded data removed]",
      "text/plain": [
       "<Figure size 432x432 with 3 Axes>"
      ]
     },
     "metadata": {
      "needs_background": "light"
     },
     "output_type": "display_data"
    }
   ],
   "source": [
    "plt.figure(figsize=(10,8))\n",
    "\n",
    "sns.jointplot(data=df_04,y='Price',x='Engine Horsepower',color='green')"
   ]
  },
  {
   "cell_type": "code",
   "execution_count": 112,
   "id": "b8cca091",
   "metadata": {
    "scrolled": true
   },
   "outputs": [
    {
     "data": {
      "text/plain": [
       "<seaborn.axisgrid.JointGrid at 0x1c5ac031160>"
      ]
     },
     "execution_count": 112,
     "metadata": {},
     "output_type": "execute_result"
    },
    {
     "data": {
      "text/plain": [
       "<Figure size 720x576 with 0 Axes>"
      ]
     },
     "metadata": {},
     "output_type": "display_data"
    },
    {
     "data": {
      "image/png": "[encoded data removed]",
      "text/plain": [
       "<Figure size 432x432 with 3 Axes>"
      ]
     },
     "metadata": {
      "needs_background": "light"
     },
     "output_type": "display_data"
    }
   ],
   "source": [
    "plt.figure(figsize=(10,8))\n",
    "\n",
    "sns.jointplot(data=df_04,y='Price',x='Year Built',color='lime')"
   ]
  },
  {
   "cell_type": "code",
   "execution_count": 113,
   "id": "b3a3c89c",
   "metadata": {
    "scrolled": true
   },
   "outputs": [
    {
     "data": {
      "text/plain": [
       "Year Built                   9.602501\n",
       "Condition                   68.233586\n",
       "Material                    23.604288\n",
       "Certified No. of Persons    61.322019\n",
       "No. of Cabins               48.101831\n",
       "Propulsion                  49.006253\n",
       "Engine                      25.234480\n",
       "Engine Horsepower           31.208129\n",
       "Model                        0.000000\n",
       "Type                         0.011166\n",
       "Location                     0.000000\n",
       "Price                        0.000000\n",
       "Length                       6.889236\n",
       "Width                        7.670835\n",
       "dtype: float64"
      ]
     },
     "execution_count": 113,
     "metadata": {},
     "output_type": "execute_result"
    }
   ],
   "source": [
    "df_04.isnull().sum()/df_04.shape[0]*100"
   ]
  },
  {
   "cell_type": "markdown",
   "id": "72d8198e",
   "metadata": {},
   "source": [
    "## Dealing with missing data"
   ]
  },
  {
   "cell_type": "code",
   "execution_count": 114,
   "id": "e8a0b988",
   "metadata": {},
   "outputs": [],
   "source": [
    "df_05 = df_04.copy()"
   ]
  },
  {
   "cell_type": "code",
   "execution_count": 115,
   "id": "3d3f5d9f",
   "metadata": {},
   "outputs": [],
   "source": [
    "# WE WILL DROP THIS BECAUSE A LOT OF MISSING DATA\n",
    "\n",
    "df_05.drop('Condition',axis=1,inplace=True)"
   ]
  },
  {
   "cell_type": "code",
   "execution_count": 117,
   "id": "69b1df12",
   "metadata": {},
   "outputs": [],
   "source": [
    "# WE WILL SIMPLY REPLACE NANS WITH \"OTEHR\" FOR MATERIAL\n",
    "\n",
    "df_05.Material.fillna('Other',inplace=True)"
   ]
  },
  {
   "cell_type": "code",
   "execution_count": 118,
   "id": "d1dd2188",
   "metadata": {},
   "outputs": [],
   "source": [
    "# MAKING A CLASSIFIER FOR BOATS BY LENGTH SO IT WILL BE EASIER TO FILL IN OTHER NANS LIKE MISSING NO OF CABINS\n",
    "\n",
    "def classifier(array):\n",
    "    temp_list = []\n",
    "    for i in array:\n",
    "        try:\n",
    "            if pd.isna(i)==False:\n",
    "                if i<=5:\n",
    "                    temp_list.append('A')\n",
    "                elif (i>5) & (i<=8):\n",
    "                    temp_list.append('1')\n",
    "                elif (i>8) & (i<=12):\n",
    "                    temp_list.append('2')\n",
    "                elif (i>12) & (i<=20):\n",
    "                    temp_list.append('3')\n",
    "                else:\n",
    "                    temp_list.append('Superyacht')\n",
    "            else:\n",
    "                temp_list.append(np.nan)\n",
    "        except:\n",
    "            temp_list.append(np.nan)\n",
    "    return temp_list"
   ]
  },
  {
   "cell_type": "code",
   "execution_count": 119,
   "id": "81bc671b",
   "metadata": {},
   "outputs": [],
   "source": [
    "df_05['Class'] = classifier(df_05.Length)"
   ]
  },
  {
   "cell_type": "code",
   "execution_count": 120,
   "id": "85df40ae",
   "metadata": {
    "scrolled": true
   },
   "outputs": [
    {
     "data": {
      "text/html": [
       "<div>\n",
       "<style scoped>\n",
       "    .dataframe tbody tr th:only-of-type {\n",
       "        vertical-align: middle;\n",
       "    }\n",
       "\n",
       "    .dataframe tbody tr th {\n",
       "        vertical-align: top;\n",
       "    }\n",
       "\n",
       "    .dataframe thead th {\n",
       "        text-align: right;\n",
       "    }\n",
       "</style>\n",
       "<table border=\"1\" class=\"dataframe\">\n",
       "  <thead>\n",
       "    <tr style=\"text-align: right;\">\n",
       "      <th></th>\n",
       "      <th>No. of Cabins</th>\n",
       "    </tr>\n",
       "    <tr>\n",
       "      <th>Class</th>\n",
       "      <th></th>\n",
       "    </tr>\n",
       "  </thead>\n",
       "  <tbody>\n",
       "    <tr>\n",
       "      <th>1</th>\n",
       "      <td>1.123989</td>\n",
       "    </tr>\n",
       "    <tr>\n",
       "      <th>2</th>\n",
       "      <td>1.797674</td>\n",
       "    </tr>\n",
       "    <tr>\n",
       "      <th>3</th>\n",
       "      <td>2.851609</td>\n",
       "    </tr>\n",
       "    <tr>\n",
       "      <th>A</th>\n",
       "      <td>6.833333</td>\n",
       "    </tr>\n",
       "    <tr>\n",
       "      <th>Superyacht</th>\n",
       "      <td>4.527383</td>\n",
       "    </tr>\n",
       "  </tbody>\n",
       "</table>\n",
       "</div>"
      ],
      "text/plain": [
       "            No. of Cabins\n",
       "Class                    \n",
       "1                1.123989\n",
       "2                1.797674\n",
       "3                2.851609\n",
       "A                6.833333\n",
       "Superyacht       4.527383"
      ]
     },
     "execution_count": 120,
     "metadata": {},
     "output_type": "execute_result"
    }
   ],
   "source": [
    "df_05.groupby('Class').agg({'No. of Cabins':'mean'})"
   ]
  },
  {
   "cell_type": "code",
   "execution_count": 121,
   "id": "6fd7ec4f",
   "metadata": {},
   "outputs": [
    {
     "data": {
      "text/html": [
       "<div>\n",
       "<style scoped>\n",
       "    .dataframe tbody tr th:only-of-type {\n",
       "        vertical-align: middle;\n",
       "    }\n",
       "\n",
       "    .dataframe tbody tr th {\n",
       "        vertical-align: top;\n",
       "    }\n",
       "\n",
       "    .dataframe thead th {\n",
       "        text-align: right;\n",
       "    }\n",
       "</style>\n",
       "<table border=\"1\" class=\"dataframe\">\n",
       "  <thead>\n",
       "    <tr style=\"text-align: right;\">\n",
       "      <th></th>\n",
       "      <th>Certified No. of Persons</th>\n",
       "    </tr>\n",
       "    <tr>\n",
       "      <th>Class</th>\n",
       "      <th></th>\n",
       "    </tr>\n",
       "  </thead>\n",
       "  <tbody>\n",
       "    <tr>\n",
       "      <th>1</th>\n",
       "      <td>7.594044</td>\n",
       "    </tr>\n",
       "    <tr>\n",
       "      <th>2</th>\n",
       "      <td>8.991848</td>\n",
       "    </tr>\n",
       "    <tr>\n",
       "      <th>3</th>\n",
       "      <td>11.036269</td>\n",
       "    </tr>\n",
       "    <tr>\n",
       "      <th>A</th>\n",
       "      <td>4.817927</td>\n",
       "    </tr>\n",
       "    <tr>\n",
       "      <th>Superyacht</th>\n",
       "      <td>17.798611</td>\n",
       "    </tr>\n",
       "  </tbody>\n",
       "</table>\n",
       "</div>"
      ],
      "text/plain": [
       "            Certified No. of Persons\n",
       "Class                               \n",
       "1                           7.594044\n",
       "2                           8.991848\n",
       "3                          11.036269\n",
       "A                           4.817927\n",
       "Superyacht                 17.798611"
      ]
     },
     "execution_count": 121,
     "metadata": {},
     "output_type": "execute_result"
    }
   ],
   "source": [
    "df_05.groupby('Class').agg({'Certified No. of Persons':'mean'})"
   ]
  },
  {
   "cell_type": "code",
   "execution_count": 122,
   "id": "8e7adae2",
   "metadata": {},
   "outputs": [],
   "source": [
    "# CLASS A WILL HAVE 1 CABIN AND 5 PEOPLE\n",
    "# CLASS 1 WILL HAVE 1 CABIN AND 8 PEOPLE\n",
    "# CLASS 2 WILL HAVE 2 CABINS AND 9 PEOPLE\n",
    "# CLASS 3 WILL HAVE 3 CABINS AND 11 PEOPLE\n",
    "# CLASS SY WILL HAVE 5 CABINS AND 18 PEOPLE"
   ]
  },
  {
   "cell_type": "code",
   "execution_count": 123,
   "id": "573191d7",
   "metadata": {},
   "outputs": [],
   "source": [
    "# INSTEAD OF JUST TAKING THE MEAN OF EVERYTHING WE WILL USE THE MEAN FOR THE BOAT CLASS (BY SIZE)\n",
    "\n",
    "def impute_cabins(cols):\n",
    "    cabins = cols[0]\n",
    "    b_class = cols[1]\n",
    "    \n",
    "    if pd.isna(cabins):\n",
    "        if b_class == 1:\n",
    "            return 1\n",
    "        elif b_class == 2:\n",
    "            return 2\n",
    "        elif b_class == 3:\n",
    "            return 3\n",
    "        elif b_class == 'Superyacht':\n",
    "            return 5\n",
    "        else:\n",
    "            return 1\n",
    "    else:\n",
    "        return cabins"
   ]
  },
  {
   "cell_type": "code",
   "execution_count": 124,
   "id": "81e085b7",
   "metadata": {},
   "outputs": [],
   "source": [
    "df_05['No. of Cabins'] = df_05[['No. of Cabins','Class']].apply(impute_cabins,axis=1)"
   ]
  },
  {
   "cell_type": "code",
   "execution_count": 125,
   "id": "fc1dc0fc",
   "metadata": {},
   "outputs": [],
   "source": [
    "def impute_persons(cols):\n",
    "    persons = cols[0]\n",
    "    b_class = cols[1]\n",
    "    \n",
    "    if pd.isna(persons):\n",
    "        if b_class == 1:\n",
    "            return 8\n",
    "        elif b_class == 2:\n",
    "            return 9\n",
    "        elif b_class == 3:\n",
    "            return 11\n",
    "        elif b_class == 'Superyacht':\n",
    "            return 18\n",
    "        else:\n",
    "            return 5\n",
    "    else:\n",
    "        return persons"
   ]
  },
  {
   "cell_type": "code",
   "execution_count": 126,
   "id": "971747ba",
   "metadata": {},
   "outputs": [],
   "source": [
    "df_05['Certified No. of Persons'] = df_05[['Certified No. of Persons','Class']].apply(impute_persons,axis=1)"
   ]
  },
  {
   "cell_type": "code",
   "execution_count": 128,
   "id": "8e39f2fa",
   "metadata": {},
   "outputs": [
    {
     "data": {
      "text/plain": [
       "0.4900625279142474"
      ]
     },
     "execution_count": 128,
     "metadata": {},
     "output_type": "execute_result"
    }
   ],
   "source": [
    "df_05['Propulsion'].isnull().sum()/df_05.shape[0]"
   ]
  },
  {
   "cell_type": "code",
   "execution_count": 129,
   "id": "044d4d5a",
   "metadata": {},
   "outputs": [
    {
     "data": {
      "text/plain": [
       "Inboard Direct-Drive     1715\n",
       "Outboard, four-stroke    1428\n",
       "Sterndrive                919\n",
       "Saildrive                 256\n",
       "Inboard V-Drive            76\n",
       "POD Drive                  73\n",
       "Outboard, two-stroke       48\n",
       "Jet Drive                  25\n",
       "Forward Drive              19\n",
       "Surface Drive               6\n",
       "Hydraulic Drive             2\n",
       "Name: Propulsion, dtype: int64"
      ]
     },
     "execution_count": 129,
     "metadata": {},
     "output_type": "execute_result"
    }
   ],
   "source": [
    "df_05['Propulsion'].value_counts()"
   ]
  },
  {
   "cell_type": "code",
   "execution_count": 130,
   "id": "64bf075c",
   "metadata": {},
   "outputs": [
    {
     "data": {
      "text/plain": [
       "<AxesSubplot:>"
      ]
     },
     "execution_count": 130,
     "metadata": {},
     "output_type": "execute_result"
    },
    {
     "data": {
      "image/png": "[encoded data removed]",
      "text/plain": [
       "<Figure size 432x288 with 2 Axes>"
      ]
     },
     "metadata": {
      "needs_background": "light"
     },
     "output_type": "display_data"
    }
   ],
   "source": [
    "sns.heatmap(df_05.isnull(),cmap='viridis')"
   ]
  },
  {
   "cell_type": "code",
   "execution_count": 131,
   "id": "bd5edac6",
   "metadata": {
    "scrolled": true
   },
   "outputs": [],
   "source": [
    "df_06 = df_05.copy()"
   ]
  },
  {
   "cell_type": "code",
   "execution_count": 132,
   "id": "20e99710",
   "metadata": {},
   "outputs": [],
   "source": [
    "df_06.drop('Propulsion',axis=1,inplace=True)"
   ]
  },
  {
   "cell_type": "code",
   "execution_count": 133,
   "id": "343c9fe8",
   "metadata": {},
   "outputs": [
    {
     "data": {
      "text/plain": [
       "<AxesSubplot:>"
      ]
     },
     "execution_count": 133,
     "metadata": {},
     "output_type": "execute_result"
    },
    {
     "data": {
      "image/png": "[encoded data removed]",
      "text/plain": [
       "<Figure size 432x288 with 2 Axes>"
      ]
     },
     "metadata": {
      "needs_background": "light"
     },
     "output_type": "display_data"
    }
   ],
   "source": [
    "sns.heatmap(df_06.isnull(),cmap='viridis')"
   ]
  },
  {
   "cell_type": "code",
   "execution_count": 157,
   "id": "1223301c",
   "metadata": {},
   "outputs": [],
   "source": [
    "engine_hp = df_06.groupby('Engine').agg({'Engine Horsepower':'mean'})"
   ]
  },
  {
   "cell_type": "code",
   "execution_count": 136,
   "id": "14a95cdc",
   "metadata": {},
   "outputs": [],
   "source": [
    "df_06.Engine.fillna('Other',inplace=True)"
   ]
  },
  {
   "cell_type": "code",
   "execution_count": 137,
   "id": "c8d411ce",
   "metadata": {},
   "outputs": [],
   "source": [
    "# WE WILL REPLACE THE HP BY AVERAGING PER ENGINE MODEL\n",
    "\n",
    "def impute_hp(cols):\n",
    "    engine = cols[0]\n",
    "    horsepower = cols[1]\n",
    "    \n",
    "    if pd.isna(horsepower):\n",
    "        for k,v in engine_dict.items():\n",
    "            if engine in k:\n",
    "                return v\n",
    "            else:\n",
    "                continue\n",
    "    else:\n",
    "        return horsepower"
   ]
  },
  {
   "cell_type": "code",
   "execution_count": 158,
   "id": "7a93e123",
   "metadata": {},
   "outputs": [],
   "source": [
    "engine_dict = engine_hp.to_dict()['Engine Horsepower']"
   ]
  },
  {
   "cell_type": "code",
   "execution_count": 159,
   "id": "3658f354",
   "metadata": {},
   "outputs": [
    {
     "data": {
      "text/plain": [
       "{'Caterpillar': 560.8662857142866,\n",
       " 'Cummins': 623.6590909090902,\n",
       " 'Ford': 494.4642857142857,\n",
       " 'Honda': 429.6844660194177,\n",
       " 'Iveco': 602.4838709677421,\n",
       " 'John Deere': 525.8999999999999,\n",
       " 'Lombardini': 1505.2,\n",
       " 'MAN': 617.092532467532,\n",
       " 'MTU': 833.5583333333328,\n",
       " 'Mercedes': 679.528,\n",
       " 'Mercury': 449.5491483016523,\n",
       " 'Nanni': 410.28596491228063,\n",
       " 'Other': 549.2535070140281,\n",
       " 'PIKTRONIK': 176.5714285714286,\n",
       " 'Perkins': 672.0309278350511,\n",
       " 'Peugeot': 617.0,\n",
       " 'Suzuki': 493.406300442593,\n",
       " 'Tohatsu': 457.25,\n",
       " 'Vetus': 738.1825581395346,\n",
       " 'Volvo Penta': 604.7874209860881,\n",
       " 'Yamaha': 389.2886867160352,\n",
       " 'Yanmar': 619.4075043615674}"
      ]
     },
     "execution_count": 159,
     "metadata": {},
     "output_type": "execute_result"
    }
   ],
   "source": [
    "engine_dict"
   ]
  },
  {
   "cell_type": "code",
   "execution_count": 160,
   "id": "3caaed8b",
   "metadata": {
    "scrolled": true
   },
   "outputs": [],
   "source": [
    "df_06['Engine Horsepower'] = df_06[['Engine','Engine Horsepower']].apply(impute_hp,axis=1)"
   ]
  },
  {
   "cell_type": "code",
   "execution_count": 143,
   "id": "512e3ad9",
   "metadata": {},
   "outputs": [],
   "source": [
    "df_06['Year Built'].fillna(df_06['Year Built'].mean(),inplace=True)"
   ]
  },
  {
   "cell_type": "code",
   "execution_count": 144,
   "id": "0e46a5e9",
   "metadata": {},
   "outputs": [],
   "source": [
    "# WE GROUP LENGTH BY BOAT MODEL\n",
    "\n",
    "length_dict = df_06.groupby('Model').agg({'Length':'mean'}).to_dict()['Length']"
   ]
  },
  {
   "cell_type": "code",
   "execution_count": 145,
   "id": "6dfab9ef",
   "metadata": {},
   "outputs": [],
   "source": [
    "def impute_len(cols):\n",
    "    model = cols[0]\n",
    "    length = cols[1]\n",
    "    \n",
    "    if pd.isna(length):\n",
    "        for k,v in length_dict.items():\n",
    "            if model in k:\n",
    "                return v\n",
    "            else:\n",
    "                continue\n",
    "    else:\n",
    "        return length"
   ]
  },
  {
   "cell_type": "code",
   "execution_count": 146,
   "id": "377fd299",
   "metadata": {},
   "outputs": [],
   "source": [
    "df_06['Length'] = df_06[['Model','Length']].apply(impute_len,axis=1)"
   ]
  },
  {
   "cell_type": "code",
   "execution_count": 147,
   "id": "50c7d571",
   "metadata": {},
   "outputs": [],
   "source": [
    "# WE GROUP WIDTH BY BOAT MODEL\n",
    "\n",
    "width_dict = df_06.groupby('Model').agg({'Width':'mean'}).to_dict()['Width']"
   ]
  },
  {
   "cell_type": "code",
   "execution_count": 148,
   "id": "69bb9b3f",
   "metadata": {},
   "outputs": [],
   "source": [
    "def impute_wid(cols):\n",
    "    model = cols[0]\n",
    "    width = cols[1]\n",
    "    \n",
    "    if pd.isna(width):\n",
    "        for k,v in width_dict.items():\n",
    "            try:\n",
    "                if model in k:\n",
    "                    return v\n",
    "                else:\n",
    "                    continue\n",
    "            except:\n",
    "                continue\n",
    "    else:\n",
    "        return width"
   ]
  },
  {
   "cell_type": "code",
   "execution_count": 149,
   "id": "dae59add",
   "metadata": {},
   "outputs": [],
   "source": [
    "df_06['Width'] = df_06[['Model','Width']].apply(impute_wid,axis=1)"
   ]
  },
  {
   "cell_type": "code",
   "execution_count": 150,
   "id": "26e3d8b2",
   "metadata": {},
   "outputs": [],
   "source": [
    "df_06 = df_06[~df_06['Length'].isnull()]"
   ]
  },
  {
   "cell_type": "markdown",
   "id": "b11b24e0",
   "metadata": {},
   "source": [
    "## DATA CLEANED, IT'S TIME TO PREPARE FOR MODELING"
   ]
  },
  {
   "cell_type": "code",
   "execution_count": 162,
   "id": "1574cecd",
   "metadata": {
    "scrolled": true
   },
   "outputs": [],
   "source": [
    "df_06['Year Built'] = df_06['Year Built'].astype('int')\n",
    "df_06['Certified No. of Persons'] = df_06['Certified No. of Persons'].astype('int')\n",
    "df_06['No. of Cabins'] = df_06['No. of Cabins'].astype('int')\n",
    "df_06['Engine Horsepower'] = df_06['Engine Horsepower'].astype('int')"
   ]
  },
  {
   "cell_type": "code",
   "execution_count": 163,
   "id": "518c4159",
   "metadata": {},
   "outputs": [
    {
     "data": {
      "text/plain": [
       "GRP                    4992\n",
       "Other                  2041\n",
       "Steel                   709\n",
       "Wood                    339\n",
       "Aluminium               327\n",
       "PVC                     258\n",
       "Hypalon                  98\n",
       "Carbon Fiber             90\n",
       "Rubber                   22\n",
       "Reinforced concrete       2\n",
       "Name: Material, dtype: int64"
      ]
     },
     "execution_count": 163,
     "metadata": {},
     "output_type": "execute_result"
    }
   ],
   "source": [
    "df_06.Material.value_counts()"
   ]
  },
  {
   "cell_type": "code",
   "execution_count": 164,
   "id": "02c82303",
   "metadata": {},
   "outputs": [],
   "source": [
    "# DROP UNECESSARY ROWS\n",
    "\n",
    "df_06.drop(df_06[df_06.Material=='Reinforced concrete'].index,axis=0,inplace=True)"
   ]
  },
  {
   "cell_type": "code",
   "execution_count": 165,
   "id": "ea46dc72",
   "metadata": {
    "scrolled": true
   },
   "outputs": [],
   "source": [
    "types = df_06.Type.value_counts()[20:].index"
   ]
  },
  {
   "cell_type": "code",
   "execution_count": 166,
   "id": "4a9c6acb",
   "metadata": {},
   "outputs": [],
   "source": [
    "df_06.Type.replace({'Flybridge':'Motor Yacht',\n",
    "                   'Cabin Cruiser':'Motor Yacht',\n",
    "                   'Center Console':'Sport Boat',\n",
    "                   'Classic Sailing Yacht':'Sailing Yacht',\n",
    "                   'Trawler':'Fishing Boat',\n",
    "                   'Pilothouse':'Hardtop'},inplace=True)"
   ]
  },
  {
   "cell_type": "code",
   "execution_count": 167,
   "id": "c6c53efd",
   "metadata": {},
   "outputs": [],
   "source": [
    "df_06.Type.replace(types,'Other',inplace=True)"
   ]
  },
  {
   "cell_type": "code",
   "execution_count": 168,
   "id": "92ae2d75",
   "metadata": {},
   "outputs": [
    {
     "data": {
      "text/plain": [
       "Motor Yacht                 2497\n",
       "Other                       1376\n",
       "Sailing Yacht               1354\n",
       "Sport Boat                  1057\n",
       "Fishing Boat                 437\n",
       "RIB                          428\n",
       "Outboard                     395\n",
       "Hardtop                      291\n",
       "Bowrider                     270\n",
       "Classic Power Boat           170\n",
       "Foldable Inflatable Boat     149\n",
       "Catamaran                    140\n",
       "Keelboat                     118\n",
       "Deck Boat                     97\n",
       "Superyacht                    96\n",
       "Name: Type, dtype: int64"
      ]
     },
     "execution_count": 168,
     "metadata": {},
     "output_type": "execute_result"
    }
   ],
   "source": [
    "df_06.Type.value_counts()"
   ]
  },
  {
   "cell_type": "code",
   "execution_count": 169,
   "id": "2f01c272",
   "metadata": {},
   "outputs": [],
   "source": [
    "locations = df_06.Location.value_counts()[20:].index"
   ]
  },
  {
   "cell_type": "code",
   "execution_count": 170,
   "id": "ec462806",
   "metadata": {},
   "outputs": [],
   "source": [
    "# KEEP ONLY TOP 20 LOCATIONS, REPLACE OTHERS WITH \"OTHERS\"\n",
    "\n",
    "df_06.Location.replace(locations,'Other',inplace=True)"
   ]
  },
  {
   "cell_type": "code",
   "execution_count": 171,
   "id": "6f2c0de1",
   "metadata": {},
   "outputs": [],
   "source": [
    "# DROP LOCATION NOT AVAILABLE ROWS\n",
    "\n",
    "df_06.drop(df_06[df_06.Location=='Location not available'].index,axis=0,inplace=True)"
   ]
  },
  {
   "cell_type": "code",
   "execution_count": 173,
   "id": "d078597b",
   "metadata": {},
   "outputs": [],
   "source": [
    "# DROP OUTLIYING PRICES\n",
    "\n",
    "df_06.drop(df_06[df_06.Price>2000000].index,axis=0,inplace=True)"
   ]
  },
  {
   "cell_type": "code",
   "execution_count": 174,
   "id": "160440e1",
   "metadata": {},
   "outputs": [],
   "source": [
    "df_06.drop(df_06[df_06['No. of Cabins']>12].index,axis=0,inplace=True)"
   ]
  },
  {
   "cell_type": "code",
   "execution_count": 175,
   "id": "b4c0a98e",
   "metadata": {},
   "outputs": [],
   "source": [
    "df_06.drop(df_06[df_06['Certified No. of Persons']>26].index,axis=0,inplace=True)"
   ]
  },
  {
   "cell_type": "code",
   "execution_count": 176,
   "id": "f4314963",
   "metadata": {},
   "outputs": [],
   "source": [
    "df_06.drop('Certified No. of Persons',axis=1,inplace=True)"
   ]
  },
  {
   "cell_type": "code",
   "execution_count": 177,
   "id": "e2e68ddc",
   "metadata": {},
   "outputs": [],
   "source": [
    "df_07 = df_06.copy()"
   ]
  },
  {
   "cell_type": "code",
   "execution_count": 178,
   "id": "88a462cc",
   "metadata": {},
   "outputs": [],
   "source": [
    "# DROPPING OUTLIERS IN THE PRICE\n",
    "\n",
    "df_07.drop(df_07[df_07.Price>500000].index,axis=0,inplace=True)"
   ]
  },
  {
   "cell_type": "code",
   "execution_count": 179,
   "id": "b1f8b74e",
   "metadata": {},
   "outputs": [],
   "source": [
    "# ENCODE THE CATEGORICAL VALUES\n",
    "\n",
    "X = df_07.drop(['Price','Class'],axis=1)\n",
    "y = df_07['Price']"
   ]
  },
  {
   "cell_type": "code",
   "execution_count": 180,
   "id": "8f349872",
   "metadata": {},
   "outputs": [],
   "source": [
    "from sklearn.model_selection import train_test_split"
   ]
  },
  {
   "cell_type": "code",
   "execution_count": 181,
   "id": "8208cf57",
   "metadata": {},
   "outputs": [],
   "source": [
    "material_dummies = pd.get_dummies(df_07['Material'],drop_first=True,prefix='mat')\n",
    "engine_dummies = pd.get_dummies(df_07['Engine'],drop_first=True,prefix='eng')\n",
    "model_dummies = pd.get_dummies(df_07['Model'],drop_first=True,prefix='mod')\n",
    "type_dummies = pd.get_dummies(df_07['Type'],drop_first=True,prefix='typ')\n",
    "location_dummies = pd.get_dummies(df_07['Location'],drop_first=True,prefix='loc')"
   ]
  },
  {
   "cell_type": "code",
   "execution_count": 182,
   "id": "d1706308",
   "metadata": {},
   "outputs": [],
   "source": [
    "X = pd.concat([X, material_dummies, engine_dummies, model_dummies, type_dummies, location_dummies],axis=1)"
   ]
  },
  {
   "cell_type": "code",
   "execution_count": 183,
   "id": "c35f89c5",
   "metadata": {},
   "outputs": [],
   "source": [
    "X = X.drop(['Material','Engine','Model','Type','Location'],axis=1)"
   ]
  },
  {
   "cell_type": "code",
   "execution_count": 184,
   "id": "72af2ff0",
   "metadata": {},
   "outputs": [],
   "source": [
    "from sklearn.linear_model import LinearRegression"
   ]
  },
  {
   "cell_type": "code",
   "execution_count": 185,
   "id": "e5806a12",
   "metadata": {},
   "outputs": [],
   "source": [
    "X_train, X_test, y_train, y_test = train_test_split(X, y, test_size=0.3, random_state=42)"
   ]
  },
  {
   "cell_type": "code",
   "execution_count": 186,
   "id": "2b2b4ebf",
   "metadata": {},
   "outputs": [],
   "source": [
    "from sklearn.preprocessing import StandardScaler, MinMaxScaler"
   ]
  },
  {
   "cell_type": "code",
   "execution_count": 187,
   "id": "f7f1e0ee",
   "metadata": {},
   "outputs": [],
   "source": [
    "scaler = MinMaxScaler()"
   ]
  },
  {
   "cell_type": "code",
   "execution_count": 188,
   "id": "2536b3af",
   "metadata": {},
   "outputs": [],
   "source": [
    "X_train = scaler.fit_transform(X_train)\n",
    "X_test = scaler.transform(X_test)"
   ]
  },
  {
   "cell_type": "code",
   "execution_count": 189,
   "id": "13db8ba3",
   "metadata": {},
   "outputs": [],
   "source": [
    "linear_01 = LinearRegression()"
   ]
  },
  {
   "cell_type": "code",
   "execution_count": 190,
   "id": "1f614ad5",
   "metadata": {},
   "outputs": [
    {
     "data": {
      "text/plain": [
       "LinearRegression()"
      ]
     },
     "execution_count": 190,
     "metadata": {},
     "output_type": "execute_result"
    }
   ],
   "source": [
    "linear_01.fit(X_train,y_train)"
   ]
  },
  {
   "cell_type": "code",
   "execution_count": 191,
   "id": "45142336",
   "metadata": {},
   "outputs": [],
   "source": [
    "pred_01 = linear_01.predict(X_test)"
   ]
  },
  {
   "cell_type": "code",
   "execution_count": 192,
   "id": "f72fb981",
   "metadata": {},
   "outputs": [
    {
     "data": {
      "text/plain": [
       "Text(0, 0.5, 'Predicted values')"
      ]
     },
     "execution_count": 192,
     "metadata": {},
     "output_type": "execute_result"
    },
    {
     "data": {
      "image/png": "[encoded data removed]",
      "text/plain": [
       "<Figure size 864x432 with 1 Axes>"
      ]
     },
     "metadata": {
      "needs_background": "light"
     },
     "output_type": "display_data"
    }
   ],
   "source": [
    "plt.figure(figsize=(12,6))\n",
    "\n",
    "plt.scatter(y_test,pred_01,edgecolor='black')\n",
    "plt.plot(y_test,y_test,color='red')\n",
    "plt.xlabel('True values')\n",
    "plt.ylabel('Predicted values')"
   ]
  },
  {
   "cell_type": "code",
   "execution_count": 193,
   "id": "403c2aa4",
   "metadata": {},
   "outputs": [],
   "source": [
    "from sklearn.metrics import mean_absolute_error, mean_squared_error"
   ]
  },
  {
   "cell_type": "code",
   "execution_count": 194,
   "id": "a943b7d3",
   "metadata": {},
   "outputs": [
    {
     "name": "stdout",
     "output_type": "stream",
     "text": [
      "The mean absolute error is: 45667.50154587454\n",
      "The mean squared error is: 5200817068.732773\n"
     ]
    }
   ],
   "source": [
    "print(f'The mean absolute error is: {mean_absolute_error(y_test,pred_01)}')\n",
    "print(f'The mean squared error is: {mean_squared_error(y_test,pred_01)}')"
   ]
  },
  {
   "cell_type": "code",
   "execution_count": 238,
   "id": "501a9fd8",
   "metadata": {},
   "outputs": [],
   "source": [
    "# NEURAL NETWORKS\n",
    "\n",
    "from tensorflow.keras.models import Sequential\n",
    "from tensorflow.keras.layers import Dense, Dropout\n",
    "from tensorflow.keras.callbacks import EarlyStopping\n",
    "import tensorflow as tf"
   ]
  },
  {
   "cell_type": "code",
   "execution_count": 196,
   "id": "48fc535d",
   "metadata": {},
   "outputs": [],
   "source": [
    "def mae(y_test,pred):\n",
    "    return tf.keras.metrics.mean_absolute_error(y_test,tf.squeeze(pred))\n",
    "\n",
    "def mse(y_test,pred):\n",
    "    return tf.keras.metrics.mean_squared_error(y_test,tf.squeeze(pred))"
   ]
  },
  {
   "cell_type": "code",
   "execution_count": 197,
   "id": "446c7b4c",
   "metadata": {},
   "outputs": [],
   "source": [
    "model_1 = Sequential()\n",
    "\n",
    "model_1.add(Dense(121, activation='relu'))\n",
    "model_1.add(Dense(121, activation='relu'))\n",
    "\n",
    "model_1.add(Dense(1))\n",
    "\n",
    "model_1.compile(optimizer='adam',loss='mae')"
   ]
  },
  {
   "cell_type": "code",
   "execution_count": 198,
   "id": "e47ed34e",
   "metadata": {},
   "outputs": [],
   "source": [
    "early_stop = EarlyStopping(monitor='val_loss',\n",
    "                          mode='min',\n",
    "                          verbose=1,\n",
    "                          patience=10)"
   ]
  },
  {
   "cell_type": "code",
   "execution_count": 199,
   "id": "a7e5ca6a",
   "metadata": {
    "scrolled": true
   },
   "outputs": [
    {
     "name": "stdout",
     "output_type": "stream",
     "text": [
      "Epoch 1/500\n",
      "165/165 [==============================] - 2s 5ms/step - loss: 92556.1016 - val_loss: 96400.5312\n",
      "Epoch 2/500\n",
      "165/165 [==============================] - 1s 3ms/step - loss: 88388.4531 - val_loss: 88725.7969\n",
      "Epoch 3/500\n",
      "165/165 [==============================] - 1s 4ms/step - loss: 78710.2500 - val_loss: 78151.7188\n",
      "Epoch 4/500\n",
      "165/165 [==============================] - 1s 4ms/step - loss: 71462.8359 - val_loss: 73031.8359\n",
      "Epoch 5/500\n",
      "165/165 [==============================] - 1s 4ms/step - loss: 68332.7969 - val_loss: 70579.0938\n",
      "Epoch 6/500\n",
      "165/165 [==============================] - 1s 4ms/step - loss: 66511.1016 - val_loss: 68852.2734\n",
      "Epoch 7/500\n",
      "165/165 [==============================] - 1s 4ms/step - loss: 64993.0547 - val_loss: 67323.0391\n",
      "Epoch 8/500\n",
      "165/165 [==============================] - 1s 4ms/step - loss: 63667.1445 - val_loss: 66023.6484\n",
      "Epoch 9/500\n",
      "165/165 [==============================] - 1s 4ms/step - loss: 62624.8672 - val_loss: 64952.5469\n",
      "Epoch 10/500\n",
      "165/165 [==============================] - 1s 4ms/step - loss: 61702.9414 - val_loss: 63955.8047\n",
      "Epoch 11/500\n",
      "165/165 [==============================] - 1s 4ms/step - loss: 60894.4883 - val_loss: 63052.2031\n",
      "Epoch 12/500\n",
      "165/165 [==============================] - 1s 4ms/step - loss: 60115.0000 - val_loss: 62199.3867\n",
      "Epoch 13/500\n",
      "165/165 [==============================] - 1s 4ms/step - loss: 59449.0312 - val_loss: 61438.7266\n",
      "Epoch 14/500\n",
      "165/165 [==============================] - 1s 4ms/step - loss: 58884.7969 - val_loss: 60742.2383\n",
      "Epoch 15/500\n",
      "165/165 [==============================] - 1s 4ms/step - loss: 58370.2930 - val_loss: 60145.5859\n",
      "Epoch 16/500\n",
      "165/165 [==============================] - 1s 4ms/step - loss: 57895.5039 - val_loss: 59641.3672\n",
      "Epoch 17/500\n",
      "165/165 [==============================] - 1s 3ms/step - loss: 57500.8125 - val_loss: 59260.2695\n",
      "Epoch 18/500\n",
      "165/165 [==============================] - 1s 4ms/step - loss: 57143.8125 - val_loss: 58822.2305\n",
      "Epoch 19/500\n",
      "165/165 [==============================] - 1s 4ms/step - loss: 56803.0469 - val_loss: 58447.5508\n",
      "Epoch 20/500\n",
      "165/165 [==============================] - 1s 4ms/step - loss: 56476.9961 - val_loss: 58081.8750\n",
      "Epoch 21/500\n",
      "165/165 [==============================] - 1s 4ms/step - loss: 56161.4258 - val_loss: 57719.5547\n",
      "Epoch 22/500\n",
      "165/165 [==============================] - 1s 4ms/step - loss: 55871.7305 - val_loss: 57381.8438\n",
      "Epoch 23/500\n",
      "165/165 [==============================] - 1s 4ms/step - loss: 55584.1836 - val_loss: 57092.2500\n",
      "Epoch 24/500\n",
      "165/165 [==============================] - 1s 4ms/step - loss: 55305.4414 - val_loss: 56729.1250\n",
      "Epoch 25/500\n",
      "165/165 [==============================] - 1s 4ms/step - loss: 55027.1094 - val_loss: 56412.6133\n",
      "Epoch 26/500\n",
      "165/165 [==============================] - 1s 4ms/step - loss: 54762.8359 - val_loss: 56082.8281\n",
      "Epoch 27/500\n",
      "165/165 [==============================] - 1s 4ms/step - loss: 54480.1992 - val_loss: 55760.3359\n",
      "Epoch 28/500\n",
      "165/165 [==============================] - 1s 4ms/step - loss: 54212.7539 - val_loss: 55458.9531\n",
      "Epoch 29/500\n",
      "165/165 [==============================] - 1s 4ms/step - loss: 53945.5078 - val_loss: 55160.8594\n",
      "Epoch 30/500\n",
      "165/165 [==============================] - 1s 4ms/step - loss: 53691.5391 - val_loss: 54872.0586\n",
      "Epoch 31/500\n",
      "165/165 [==============================] - 1s 4ms/step - loss: 53425.7070 - val_loss: 54576.7422\n",
      "Epoch 32/500\n",
      "165/165 [==============================] - 1s 4ms/step - loss: 53183.4375 - val_loss: 54305.3828\n",
      "Epoch 33/500\n",
      "165/165 [==============================] - 1s 4ms/step - loss: 52932.7500 - val_loss: 54035.0547\n",
      "Epoch 34/500\n",
      "165/165 [==============================] - 1s 4ms/step - loss: 52683.5820 - val_loss: 53755.6602\n",
      "Epoch 35/500\n",
      "165/165 [==============================] - 1s 4ms/step - loss: 52435.5664 - val_loss: 53509.2500\n",
      "Epoch 36/500\n",
      "165/165 [==============================] - 1s 4ms/step - loss: 52197.4375 - val_loss: 53224.4258\n",
      "Epoch 37/500\n",
      "165/165 [==============================] - 1s 4ms/step - loss: 51962.0156 - val_loss: 52973.6250\n",
      "Epoch 38/500\n",
      "165/165 [==============================] - 1s 4ms/step - loss: 51735.4414 - val_loss: 52743.0039\n",
      "Epoch 39/500\n",
      "165/165 [==============================] - 1s 4ms/step - loss: 51515.7500 - val_loss: 52480.2812\n",
      "Epoch 40/500\n",
      "165/165 [==============================] - 1s 4ms/step - loss: 51286.4375 - val_loss: 52249.6680\n",
      "Epoch 41/500\n",
      "165/165 [==============================] - 1s 4ms/step - loss: 51065.1797 - val_loss: 52021.4297\n",
      "Epoch 42/500\n",
      "165/165 [==============================] - 1s 4ms/step - loss: 50850.9375 - val_loss: 51765.7656\n",
      "Epoch 43/500\n",
      "165/165 [==============================] - 1s 4ms/step - loss: 50640.4102 - val_loss: 51529.3711\n",
      "Epoch 44/500\n",
      "165/165 [==============================] - 1s 4ms/step - loss: 50431.6602 - val_loss: 51313.4727\n",
      "Epoch 45/500\n",
      "165/165 [==============================] - 1s 3ms/step - loss: 50208.4766 - val_loss: 51089.4492\n",
      "Epoch 46/500\n",
      "165/165 [==============================] - 1s 4ms/step - loss: 50012.2773 - val_loss: 50888.4961\n",
      "Epoch 47/500\n",
      "165/165 [==============================] - 1s 4ms/step - loss: 49819.4414 - val_loss: 50682.6523\n",
      "Epoch 48/500\n",
      "165/165 [==============================] - 1s 4ms/step - loss: 49625.8906 - val_loss: 50493.4414\n",
      "Epoch 49/500\n",
      "165/165 [==============================] - 1s 4ms/step - loss: 49443.3125 - val_loss: 50299.5391\n",
      "Epoch 50/500\n",
      "165/165 [==============================] - 1s 4ms/step - loss: 49239.8828 - val_loss: 50140.6055\n",
      "Epoch 51/500\n",
      "165/165 [==============================] - 1s 4ms/step - loss: 49078.7188 - val_loss: 49954.0273\n",
      "Epoch 52/500\n",
      "165/165 [==============================] - 1s 4ms/step - loss: 48889.1992 - val_loss: 49785.6250\n",
      "Epoch 53/500\n",
      "165/165 [==============================] - 1s 4ms/step - loss: 48716.9297 - val_loss: 49624.4141\n",
      "Epoch 54/500\n",
      "165/165 [==============================] - 1s 3ms/step - loss: 48549.6055 - val_loss: 49488.8320\n",
      "Epoch 55/500\n",
      "165/165 [==============================] - 1s 3ms/step - loss: 48424.3125 - val_loss: 49307.8125\n",
      "Epoch 56/500\n",
      "165/165 [==============================] - 1s 4ms/step - loss: 48256.1641 - val_loss: 49158.8242\n",
      "Epoch 57/500\n",
      "165/165 [==============================] - 1s 4ms/step - loss: 48117.3438 - val_loss: 49004.8242\n",
      "Epoch 58/500\n",
      "165/165 [==============================] - 1s 4ms/step - loss: 47972.6836 - val_loss: 48876.2461\n",
      "Epoch 59/500\n",
      "165/165 [==============================] - 1s 4ms/step - loss: 47825.8867 - val_loss: 48717.0234\n",
      "Epoch 60/500\n",
      "165/165 [==============================] - 1s 4ms/step - loss: 47691.9297 - val_loss: 48587.3398\n",
      "Epoch 61/500\n",
      "165/165 [==============================] - 1s 3ms/step - loss: 47564.8945 - val_loss: 48454.1328\n",
      "Epoch 62/500\n",
      "165/165 [==============================] - 1s 4ms/step - loss: 47430.2305 - val_loss: 48315.6875\n",
      "Epoch 63/500\n",
      "165/165 [==============================] - 1s 3ms/step - loss: 47295.5234 - val_loss: 48186.9180\n",
      "Epoch 64/500\n",
      "165/165 [==============================] - 1s 3ms/step - loss: 47161.6719 - val_loss: 48066.2773\n",
      "Epoch 65/500\n",
      "165/165 [==============================] - 1s 4ms/step - loss: 47034.8359 - val_loss: 47945.1680\n",
      "Epoch 66/500\n",
      "165/165 [==============================] - 1s 4ms/step - loss: 46913.5859 - val_loss: 47809.0430\n",
      "Epoch 67/500\n",
      "165/165 [==============================] - 1s 4ms/step - loss: 46790.8477 - val_loss: 47677.8594\n",
      "Epoch 68/500\n",
      "165/165 [==============================] - 1s 4ms/step - loss: 46654.9062 - val_loss: 47568.9336\n",
      "Epoch 69/500\n",
      "165/165 [==============================] - 1s 4ms/step - loss: 46532.5156 - val_loss: 47433.2891\n",
      "Epoch 70/500\n",
      "165/165 [==============================] - 1s 4ms/step - loss: 46415.9883 - val_loss: 47335.9414\n",
      "Epoch 71/500\n",
      "165/165 [==============================] - 1s 4ms/step - loss: 46296.2539 - val_loss: 47208.7383\n",
      "Epoch 72/500\n",
      "165/165 [==============================] - 1s 4ms/step - loss: 46172.3047 - val_loss: 47094.4766\n",
      "Epoch 73/500\n",
      "165/165 [==============================] - 1s 4ms/step - loss: 46040.6016 - val_loss: 46984.9297\n",
      "Epoch 74/500\n",
      "165/165 [==============================] - 1s 4ms/step - loss: 45924.6211 - val_loss: 46854.7734\n",
      "Epoch 75/500\n",
      "165/165 [==============================] - 1s 4ms/step - loss: 45802.9922 - val_loss: 46762.8008\n",
      "Epoch 76/500\n",
      "165/165 [==============================] - 1s 4ms/step - loss: 45692.7070 - val_loss: 46632.8359\n",
      "Epoch 77/500\n",
      "165/165 [==============================] - 1s 4ms/step - loss: 45579.0117 - val_loss: 46539.0312\n",
      "Epoch 78/500\n",
      "165/165 [==============================] - 1s 4ms/step - loss: 45455.4961 - val_loss: 46450.6719\n",
      "Epoch 79/500\n",
      "165/165 [==============================] - 1s 4ms/step - loss: 45336.1719 - val_loss: 46330.8281\n",
      "Epoch 80/500\n",
      "165/165 [==============================] - 1s 4ms/step - loss: 45233.4336 - val_loss: 46246.4453\n",
      "Epoch 81/500\n",
      "165/165 [==============================] - 1s 4ms/step - loss: 45119.2305 - val_loss: 46170.1406\n",
      "Epoch 82/500\n",
      "165/165 [==============================] - 1s 4ms/step - loss: 44990.8867 - val_loss: 46082.0820\n",
      "Epoch 83/500\n",
      "165/165 [==============================] - 1s 4ms/step - loss: 44880.4531 - val_loss: 45982.6875\n",
      "Epoch 84/500\n",
      "165/165 [==============================] - 1s 4ms/step - loss: 44757.1992 - val_loss: 45899.3672\n",
      "Epoch 85/500\n",
      "165/165 [==============================] - 1s 4ms/step - loss: 44639.2578 - val_loss: 45787.9805\n",
      "Epoch 86/500\n",
      "165/165 [==============================] - 1s 4ms/step - loss: 44519.4414 - val_loss: 45719.8945\n",
      "Epoch 87/500\n",
      "165/165 [==============================] - 1s 4ms/step - loss: 44398.0234 - val_loss: 45627.8086\n",
      "Epoch 88/500\n",
      "165/165 [==============================] - 1s 4ms/step - loss: 44280.8086 - val_loss: 45548.8867\n",
      "Epoch 89/500\n",
      "165/165 [==============================] - 1s 4ms/step - loss: 44157.4141 - val_loss: 45483.3594\n",
      "Epoch 90/500\n",
      "165/165 [==============================] - 1s 4ms/step - loss: 44052.1523 - val_loss: 45408.3203\n",
      "Epoch 91/500\n",
      "165/165 [==============================] - 1s 4ms/step - loss: 43926.5547 - val_loss: 45328.8906\n",
      "Epoch 92/500\n",
      "165/165 [==============================] - 1s 4ms/step - loss: 43830.8047 - val_loss: 45242.6953\n",
      "Epoch 93/500\n",
      "165/165 [==============================] - 1s 4ms/step - loss: 43708.1680 - val_loss: 45165.5898\n",
      "Epoch 94/500\n",
      "165/165 [==============================] - 1s 4ms/step - loss: 43590.9922 - val_loss: 45099.8359\n",
      "Epoch 95/500\n",
      "165/165 [==============================] - 1s 4ms/step - loss: 43524.1641 - val_loss: 44986.2227\n",
      "Epoch 96/500\n",
      "165/165 [==============================] - 1s 4ms/step - loss: 43379.1797 - val_loss: 44872.5625\n",
      "Epoch 97/500\n",
      "165/165 [==============================] - 1s 4ms/step - loss: 43272.4180 - val_loss: 44789.9688\n",
      "Epoch 98/500\n",
      "165/165 [==============================] - 1s 4ms/step - loss: 43169.9609 - val_loss: 44717.3750\n",
      "Epoch 99/500\n",
      "165/165 [==============================] - 1s 4ms/step - loss: 43056.6289 - val_loss: 44624.4297\n",
      "Epoch 100/500\n",
      "165/165 [==============================] - 1s 4ms/step - loss: 42948.5430 - val_loss: 44554.7539\n",
      "Epoch 101/500\n",
      "165/165 [==============================] - 1s 4ms/step - loss: 42827.3008 - val_loss: 44424.5938\n",
      "Epoch 102/500\n",
      "165/165 [==============================] - 1s 4ms/step - loss: 42726.4609 - val_loss: 44369.7734\n",
      "Epoch 103/500\n",
      "165/165 [==============================] - 1s 4ms/step - loss: 42617.7930 - val_loss: 44258.2188\n",
      "Epoch 104/500\n",
      "165/165 [==============================] - 1s 4ms/step - loss: 42509.5742 - val_loss: 44152.8516\n",
      "Epoch 105/500\n",
      "165/165 [==============================] - 1s 4ms/step - loss: 42397.6367 - val_loss: 44066.5273\n",
      "Epoch 106/500\n",
      "165/165 [==============================] - 1s 4ms/step - loss: 42282.9180 - val_loss: 43976.7969\n",
      "Epoch 107/500\n",
      "165/165 [==============================] - 1s 4ms/step - loss: 42175.4141 - val_loss: 43879.3320\n",
      "Epoch 108/500\n",
      "165/165 [==============================] - 1s 4ms/step - loss: 42064.8281 - val_loss: 43775.4258\n",
      "Epoch 109/500\n",
      "165/165 [==============================] - 1s 4ms/step - loss: 41954.4453 - val_loss: 43683.3789\n",
      "Epoch 110/500\n",
      "165/165 [==============================] - 1s 4ms/step - loss: 41836.5234 - val_loss: 43571.1875\n",
      "Epoch 111/500\n",
      "165/165 [==============================] - 1s 4ms/step - loss: 41725.7383 - val_loss: 43481.4141\n",
      "Epoch 112/500\n",
      "165/165 [==============================] - 1s 3ms/step - loss: 41619.0078 - val_loss: 43396.5352\n",
      "Epoch 113/500\n",
      "165/165 [==============================] - 1s 4ms/step - loss: 41500.1641 - val_loss: 43273.3711\n",
      "Epoch 114/500\n",
      "165/165 [==============================] - 1s 4ms/step - loss: 41392.1602 - val_loss: 43245.7344\n",
      "Epoch 115/500\n",
      "165/165 [==============================] - 1s 4ms/step - loss: 41280.5078 - val_loss: 43094.4375\n",
      "Epoch 116/500\n",
      "165/165 [==============================] - 1s 4ms/step - loss: 41167.2930 - val_loss: 43009.7266\n",
      "Epoch 117/500\n",
      "165/165 [==============================] - 1s 4ms/step - loss: 41056.5859 - val_loss: 42934.0391\n",
      "Epoch 118/500\n",
      "165/165 [==============================] - 1s 4ms/step - loss: 40958.0469 - val_loss: 42842.2383\n",
      "Epoch 119/500\n",
      "165/165 [==============================] - 1s 3ms/step - loss: 40843.4414 - val_loss: 42730.6836\n",
      "Epoch 120/500\n",
      "165/165 [==============================] - 1s 4ms/step - loss: 40716.8594 - val_loss: 42622.8477\n",
      "Epoch 121/500\n",
      "165/165 [==============================] - 1s 4ms/step - loss: 40603.6094 - val_loss: 42552.1328\n",
      "Epoch 122/500\n",
      "165/165 [==============================] - 1s 4ms/step - loss: 40486.3945 - val_loss: 42489.4180\n",
      "Epoch 123/500\n",
      "165/165 [==============================] - 1s 4ms/step - loss: 40371.9492 - val_loss: 42349.7148\n",
      "Epoch 124/500\n",
      "165/165 [==============================] - 1s 4ms/step - loss: 40272.1328 - val_loss: 42238.3281\n",
      "Epoch 125/500\n",
      "165/165 [==============================] - 1s 3ms/step - loss: 40149.8555 - val_loss: 42132.8906\n",
      "Epoch 126/500\n",
      "165/165 [==============================] - 1s 4ms/step - loss: 40033.6367 - val_loss: 42041.4219\n",
      "Epoch 127/500\n",
      "165/165 [==============================] - 1s 4ms/step - loss: 39922.4609 - val_loss: 41940.9688\n",
      "Epoch 128/500\n",
      "165/165 [==============================] - 1s 3ms/step - loss: 39806.7773 - val_loss: 41901.7695\n",
      "Epoch 129/500\n",
      "165/165 [==============================] - 1s 4ms/step - loss: 39717.6992 - val_loss: 41783.1055\n",
      "Epoch 130/500\n",
      "165/165 [==============================] - 1s 4ms/step - loss: 39585.5195 - val_loss: 41721.8047\n",
      "Epoch 131/500\n",
      "165/165 [==============================] - 1s 3ms/step - loss: 39480.5469 - val_loss: 41645.0781\n",
      "Epoch 132/500\n",
      "165/165 [==============================] - 1s 3ms/step - loss: 39361.4766 - val_loss: 41515.6250\n",
      "Epoch 133/500\n",
      "165/165 [==============================] - 1s 3ms/step - loss: 39274.1133 - val_loss: 41400.8906\n",
      "Epoch 134/500\n",
      "165/165 [==============================] - 1s 4ms/step - loss: 39142.2617 - val_loss: 41346.0977\n",
      "Epoch 135/500\n",
      "165/165 [==============================] - 1s 4ms/step - loss: 39027.4336 - val_loss: 41274.3906\n",
      "Epoch 136/500\n",
      "165/165 [==============================] - 1s 4ms/step - loss: 38927.5820 - val_loss: 41158.0898\n",
      "Epoch 137/500\n",
      "165/165 [==============================] - 1s 3ms/step - loss: 38791.5078 - val_loss: 41054.8398\n",
      "Epoch 138/500\n",
      "165/165 [==============================] - 1s 4ms/step - loss: 38692.7891 - val_loss: 40937.6055\n",
      "Epoch 139/500\n",
      "165/165 [==============================] - 1s 3ms/step - loss: 38567.3867 - val_loss: 40860.6133\n",
      "Epoch 140/500\n",
      "165/165 [==============================] - 1s 4ms/step - loss: 38442.8242 - val_loss: 40758.2383\n",
      "Epoch 141/500\n",
      "165/165 [==============================] - 1s 4ms/step - loss: 38332.3477 - val_loss: 40655.9492\n",
      "Epoch 142/500\n",
      "165/165 [==============================] - 1s 3ms/step - loss: 38216.1758 - val_loss: 40569.7188\n",
      "Epoch 143/500\n",
      "165/165 [==============================] - 1s 3ms/step - loss: 38109.8086 - val_loss: 40475.3398\n",
      "Epoch 144/500\n",
      "165/165 [==============================] - 1s 4ms/step - loss: 38024.5312 - val_loss: 40393.6523\n",
      "Epoch 145/500\n",
      "165/165 [==============================] - 1s 3ms/step - loss: 37884.9570 - val_loss: 40315.6289\n",
      "Epoch 146/500\n",
      "165/165 [==============================] - 1s 4ms/step - loss: 37763.2617 - val_loss: 40200.6367\n",
      "Epoch 147/500\n",
      "165/165 [==============================] - 1s 4ms/step - loss: 37651.9922 - val_loss: 40128.3359\n",
      "Epoch 148/500\n",
      "165/165 [==============================] - 1s 3ms/step - loss: 37541.0664 - val_loss: 40060.8711\n",
      "Epoch 149/500\n"
     ]
    },
    {
     "name": "stdout",
     "output_type": "stream",
     "text": [
      "165/165 [==============================] - 1s 4ms/step - loss: 37413.4297 - val_loss: 39946.3438\n",
      "Epoch 150/500\n",
      "165/165 [==============================] - 1s 4ms/step - loss: 37305.2148 - val_loss: 39849.8516\n",
      "Epoch 151/500\n",
      "165/165 [==============================] - 1s 4ms/step - loss: 37187.1602 - val_loss: 39764.0586\n",
      "Epoch 152/500\n",
      "165/165 [==============================] - 1s 4ms/step - loss: 37092.2773 - val_loss: 39680.9883\n",
      "Epoch 153/500\n",
      "165/165 [==============================] - 1s 4ms/step - loss: 36970.3906 - val_loss: 39616.3711\n",
      "Epoch 154/500\n",
      "165/165 [==============================] - 1s 4ms/step - loss: 36899.9062 - val_loss: 39530.7344\n",
      "Epoch 155/500\n",
      "165/165 [==============================] - 1s 4ms/step - loss: 36751.4883 - val_loss: 39438.3867\n",
      "Epoch 156/500\n",
      "165/165 [==============================] - 1s 4ms/step - loss: 36670.1758 - val_loss: 39378.9102\n",
      "Epoch 157/500\n",
      "165/165 [==============================] - 1s 4ms/step - loss: 36568.0312 - val_loss: 39270.5859\n",
      "Epoch 158/500\n",
      "165/165 [==============================] - 1s 4ms/step - loss: 36453.6797 - val_loss: 39212.9141\n",
      "Epoch 159/500\n",
      "165/165 [==============================] - 1s 4ms/step - loss: 36341.9648 - val_loss: 39106.7500\n",
      "Epoch 160/500\n",
      "165/165 [==============================] - 1s 4ms/step - loss: 36236.2812 - val_loss: 39051.8516\n",
      "Epoch 161/500\n",
      "165/165 [==============================] - 1s 4ms/step - loss: 36151.0391 - val_loss: 38963.7695\n",
      "Epoch 162/500\n",
      "165/165 [==============================] - 1s 4ms/step - loss: 36045.8711 - val_loss: 38876.5469\n",
      "Epoch 163/500\n",
      "165/165 [==============================] - 1s 4ms/step - loss: 35942.6602 - val_loss: 38874.2383\n",
      "Epoch 164/500\n",
      "165/165 [==============================] - 1s 4ms/step - loss: 35835.9648 - val_loss: 38762.3750\n",
      "Epoch 165/500\n",
      "165/165 [==============================] - 1s 4ms/step - loss: 35728.2969 - val_loss: 38754.3164\n",
      "Epoch 166/500\n",
      "165/165 [==============================] - 1s 4ms/step - loss: 35640.5977 - val_loss: 38649.1172\n",
      "Epoch 167/500\n",
      "165/165 [==============================] - 1s 4ms/step - loss: 35543.3828 - val_loss: 38565.6172\n",
      "Epoch 168/500\n",
      "165/165 [==============================] - 1s 4ms/step - loss: 35472.0469 - val_loss: 38543.5352\n",
      "Epoch 169/500\n",
      "165/165 [==============================] - 1s 4ms/step - loss: 35369.5078 - val_loss: 38464.8516\n",
      "Epoch 170/500\n",
      "165/165 [==============================] - 1s 4ms/step - loss: 35276.2734 - val_loss: 38390.4375\n",
      "Epoch 171/500\n",
      "165/165 [==============================] - 1s 3ms/step - loss: 35164.7305 - val_loss: 38331.4141\n",
      "Epoch 172/500\n",
      "165/165 [==============================] - 1s 4ms/step - loss: 35072.7969 - val_loss: 38273.0508\n",
      "Epoch 173/500\n",
      "165/165 [==============================] - 1s 4ms/step - loss: 34977.4336 - val_loss: 38212.5078\n",
      "Epoch 174/500\n",
      "165/165 [==============================] - 1s 4ms/step - loss: 34909.7852 - val_loss: 38153.5195\n",
      "Epoch 175/500\n",
      "165/165 [==============================] - 1s 4ms/step - loss: 34827.3359 - val_loss: 38097.4961\n",
      "Epoch 176/500\n",
      "165/165 [==============================] - 1s 4ms/step - loss: 34732.2930 - val_loss: 38076.4570\n",
      "Epoch 177/500\n",
      "165/165 [==============================] - 1s 4ms/step - loss: 34649.2930 - val_loss: 38019.3242\n",
      "Epoch 178/500\n",
      "165/165 [==============================] - 1s 4ms/step - loss: 34559.8164 - val_loss: 37931.3672\n",
      "Epoch 179/500\n",
      "165/165 [==============================] - 1s 3ms/step - loss: 34476.2148 - val_loss: 37850.7539\n",
      "Epoch 180/500\n",
      "165/165 [==============================] - 1s 4ms/step - loss: 34388.2148 - val_loss: 37784.4805\n",
      "Epoch 181/500\n",
      "165/165 [==============================] - 1s 4ms/step - loss: 34316.2969 - val_loss: 37785.5938\n",
      "Epoch 182/500\n",
      "165/165 [==============================] - 1s 3ms/step - loss: 34215.5664 - val_loss: 37718.4141\n",
      "Epoch 183/500\n",
      "165/165 [==============================] - 1s 3ms/step - loss: 34152.1602 - val_loss: 37651.0000\n",
      "Epoch 184/500\n",
      "165/165 [==============================] - 1s 4ms/step - loss: 34080.6289 - val_loss: 37600.0938\n",
      "Epoch 185/500\n",
      "165/165 [==============================] - 1s 4ms/step - loss: 34009.2422 - val_loss: 37617.2461\n",
      "Epoch 186/500\n",
      "165/165 [==============================] - 1s 4ms/step - loss: 33912.0352 - val_loss: 37603.0273\n",
      "Epoch 187/500\n",
      "165/165 [==============================] - 1s 3ms/step - loss: 33861.6094 - val_loss: 37564.4688\n",
      "Epoch 188/500\n",
      "165/165 [==============================] - 1s 4ms/step - loss: 33757.9648 - val_loss: 37525.6562\n",
      "Epoch 189/500\n",
      "165/165 [==============================] - 1s 4ms/step - loss: 33697.4414 - val_loss: 37433.6992\n",
      "Epoch 190/500\n",
      "165/165 [==============================] - 1s 3ms/step - loss: 33628.3867 - val_loss: 37430.0664\n",
      "Epoch 191/500\n",
      "165/165 [==============================] - 1s 4ms/step - loss: 33542.6289 - val_loss: 37381.5352\n",
      "Epoch 192/500\n",
      "165/165 [==============================] - 1s 3ms/step - loss: 33475.2500 - val_loss: 37333.1797\n",
      "Epoch 193/500\n",
      "165/165 [==============================] - 1s 3ms/step - loss: 33404.1328 - val_loss: 37346.2031\n",
      "Epoch 194/500\n",
      "165/165 [==============================] - 1s 4ms/step - loss: 33343.7070 - val_loss: 37222.3555\n",
      "Epoch 195/500\n",
      "165/165 [==============================] - 1s 4ms/step - loss: 33261.3047 - val_loss: 37246.3828\n",
      "Epoch 196/500\n",
      "165/165 [==============================] - 1s 4ms/step - loss: 33201.9609 - val_loss: 37291.4805\n",
      "Epoch 197/500\n",
      "165/165 [==============================] - 1s 4ms/step - loss: 33137.7617 - val_loss: 37278.2773\n",
      "Epoch 198/500\n",
      "165/165 [==============================] - 1s 4ms/step - loss: 33081.8672 - val_loss: 37156.0195\n",
      "Epoch 199/500\n",
      "165/165 [==============================] - 1s 4ms/step - loss: 33017.2266 - val_loss: 37112.9258\n",
      "Epoch 200/500\n",
      "165/165 [==============================] - 1s 4ms/step - loss: 32925.9844 - val_loss: 37132.3750\n",
      "Epoch 201/500\n",
      "165/165 [==============================] - 1s 3ms/step - loss: 32880.7422 - val_loss: 37087.2539\n",
      "Epoch 202/500\n",
      "165/165 [==============================] - 1s 4ms/step - loss: 32823.4375 - val_loss: 37055.8281\n",
      "Epoch 203/500\n",
      "165/165 [==============================] - 1s 3ms/step - loss: 32752.5859 - val_loss: 37067.3594\n",
      "Epoch 204/500\n",
      "165/165 [==============================] - 1s 3ms/step - loss: 32699.4102 - val_loss: 36992.3438\n",
      "Epoch 205/500\n",
      "165/165 [==============================] - 1s 4ms/step - loss: 32620.5625 - val_loss: 36968.1445\n",
      "Epoch 206/500\n",
      "165/165 [==============================] - 1s 3ms/step - loss: 32566.3027 - val_loss: 36985.1562\n",
      "Epoch 207/500\n",
      "165/165 [==============================] - 1s 3ms/step - loss: 32504.7168 - val_loss: 36880.3008\n",
      "Epoch 208/500\n",
      "165/165 [==============================] - 1s 4ms/step - loss: 32448.4531 - val_loss: 36927.5391\n",
      "Epoch 209/500\n",
      "165/165 [==============================] - 1s 3ms/step - loss: 32401.9961 - val_loss: 36865.0312\n",
      "Epoch 210/500\n",
      "165/165 [==============================] - 1s 3ms/step - loss: 32327.0000 - val_loss: 36832.3828\n",
      "Epoch 211/500\n",
      "165/165 [==============================] - 1s 4ms/step - loss: 32297.2676 - val_loss: 36888.0859\n",
      "Epoch 212/500\n",
      "165/165 [==============================] - 1s 4ms/step - loss: 32212.2695 - val_loss: 36795.4141\n",
      "Epoch 213/500\n",
      "165/165 [==============================] - 1s 3ms/step - loss: 32182.5820 - val_loss: 36822.2031\n",
      "Epoch 214/500\n",
      "165/165 [==============================] - 1s 4ms/step - loss: 32116.2031 - val_loss: 36782.8711\n",
      "Epoch 215/500\n",
      "165/165 [==============================] - 1s 4ms/step - loss: 32063.1152 - val_loss: 36768.0078\n",
      "Epoch 216/500\n",
      "165/165 [==============================] - 1s 4ms/step - loss: 32007.7344 - val_loss: 36725.2617\n",
      "Epoch 217/500\n",
      "165/165 [==============================] - 1s 4ms/step - loss: 31972.1289 - val_loss: 36726.1602\n",
      "Epoch 218/500\n",
      "165/165 [==============================] - 1s 4ms/step - loss: 31895.3750 - val_loss: 36802.8125\n",
      "Epoch 219/500\n",
      "165/165 [==============================] - 1s 4ms/step - loss: 31874.7969 - val_loss: 36627.5312\n",
      "Epoch 220/500\n",
      "165/165 [==============================] - 1s 4ms/step - loss: 31785.0449 - val_loss: 36630.4492\n",
      "Epoch 221/500\n",
      "165/165 [==============================] - 1s 4ms/step - loss: 31741.2031 - val_loss: 36653.7539\n",
      "Epoch 222/500\n",
      "165/165 [==============================] - 1s 4ms/step - loss: 31690.1367 - val_loss: 36627.8555\n"
     ]
    },
    {
     "name": "stdout",
     "output_type": "stream",
     "text": [
      "Epoch 223/500\n",
      "165/165 [==============================] - 1s 4ms/step - loss: 31649.9160 - val_loss: 36542.2383\n",
      "Epoch 224/500\n",
      "165/165 [==============================] - 1s 3ms/step - loss: 31594.5879 - val_loss: 36559.8008\n",
      "Epoch 225/500\n",
      "165/165 [==============================] - 1s 4ms/step - loss: 31553.8008 - val_loss: 36517.9492\n",
      "Epoch 226/500\n",
      "165/165 [==============================] - 1s 4ms/step - loss: 31504.2051 - val_loss: 36471.1133\n",
      "Epoch 227/500\n",
      "165/165 [==============================] - 1s 4ms/step - loss: 31448.6074 - val_loss: 36528.3828\n",
      "Epoch 228/500\n",
      "165/165 [==============================] - 1s 4ms/step - loss: 31415.0879 - val_loss: 36432.3633\n",
      "Epoch 229/500\n",
      "165/165 [==============================] - 1s 4ms/step - loss: 31377.4141 - val_loss: 36425.5078\n",
      "Epoch 230/500\n",
      "165/165 [==============================] - 1s 4ms/step - loss: 31293.3555 - val_loss: 36391.5078\n",
      "Epoch 231/500\n",
      "165/165 [==============================] - 1s 4ms/step - loss: 31250.3535 - val_loss: 36366.5938\n",
      "Epoch 232/500\n",
      "165/165 [==============================] - 1s 4ms/step - loss: 31211.9805 - val_loss: 36395.1250\n",
      "Epoch 233/500\n",
      "165/165 [==============================] - 1s 4ms/step - loss: 31145.8711 - val_loss: 36362.0000\n",
      "Epoch 234/500\n",
      "165/165 [==============================] - 1s 4ms/step - loss: 31124.1699 - val_loss: 36348.9531\n",
      "Epoch 235/500\n",
      "165/165 [==============================] - 1s 4ms/step - loss: 31081.8398 - val_loss: 36421.6953\n",
      "Epoch 236/500\n",
      "165/165 [==============================] - 1s 4ms/step - loss: 31031.0957 - val_loss: 36269.1719\n",
      "Epoch 237/500\n",
      "165/165 [==============================] - 1s 4ms/step - loss: 30967.2539 - val_loss: 36241.2344\n",
      "Epoch 238/500\n",
      "165/165 [==============================] - 1s 4ms/step - loss: 30970.0820 - val_loss: 36238.3555\n",
      "Epoch 239/500\n",
      "165/165 [==============================] - 1s 4ms/step - loss: 30885.7500 - val_loss: 36222.1289\n",
      "Epoch 240/500\n",
      "165/165 [==============================] - 1s 4ms/step - loss: 30850.5898 - val_loss: 36185.3828\n",
      "Epoch 241/500\n",
      "165/165 [==============================] - 1s 4ms/step - loss: 30776.6484 - val_loss: 36159.5156\n",
      "Epoch 242/500\n",
      "165/165 [==============================] - 1s 4ms/step - loss: 30742.7754 - val_loss: 36135.3789\n",
      "Epoch 243/500\n",
      "165/165 [==============================] - 1s 4ms/step - loss: 30712.5273 - val_loss: 36072.6797\n",
      "Epoch 244/500\n",
      "165/165 [==============================] - 1s 4ms/step - loss: 30689.3555 - val_loss: 36086.8086\n",
      "Epoch 245/500\n",
      "165/165 [==============================] - 1s 4ms/step - loss: 30631.5879 - val_loss: 36083.1836\n",
      "Epoch 246/500\n",
      "165/165 [==============================] - 1s 3ms/step - loss: 30597.1758 - val_loss: 36058.5898\n",
      "Epoch 247/500\n",
      "165/165 [==============================] - 1s 4ms/step - loss: 30592.0820 - val_loss: 36027.6641\n",
      "Epoch 248/500\n",
      "165/165 [==============================] - 1s 4ms/step - loss: 30485.3828 - val_loss: 36000.7344\n",
      "Epoch 249/500\n",
      "165/165 [==============================] - 1s 4ms/step - loss: 30471.4609 - val_loss: 35967.4102\n",
      "Epoch 250/500\n",
      "165/165 [==============================] - 1s 4ms/step - loss: 30417.3926 - val_loss: 36012.4414\n",
      "Epoch 251/500\n",
      "165/165 [==============================] - 1s 4ms/step - loss: 30395.9160 - val_loss: 35952.6523\n",
      "Epoch 252/500\n",
      "165/165 [==============================] - 1s 4ms/step - loss: 30339.0059 - val_loss: 35889.2227\n",
      "Epoch 253/500\n",
      "165/165 [==============================] - 1s 4ms/step - loss: 30276.5254 - val_loss: 35930.3086\n",
      "Epoch 254/500\n",
      "165/165 [==============================] - 1s 4ms/step - loss: 30260.3730 - val_loss: 35908.7148\n",
      "Epoch 255/500\n",
      "165/165 [==============================] - 1s 3ms/step - loss: 30220.8027 - val_loss: 35830.4531\n",
      "Epoch 256/500\n",
      "165/165 [==============================] - 1s 4ms/step - loss: 30172.8887 - val_loss: 35843.7383\n",
      "Epoch 257/500\n",
      "165/165 [==============================] - 1s 4ms/step - loss: 30125.5078 - val_loss: 35848.9805\n",
      "Epoch 258/500\n",
      "165/165 [==============================] - 1s 3ms/step - loss: 30088.2773 - val_loss: 35876.4961\n",
      "Epoch 259/500\n",
      "165/165 [==============================] - 1s 3ms/step - loss: 30058.1309 - val_loss: 35816.9336\n",
      "Epoch 260/500\n",
      "165/165 [==============================] - 1s 4ms/step - loss: 30012.7695 - val_loss: 35780.5273\n",
      "Epoch 261/500\n",
      "165/165 [==============================] - 1s 4ms/step - loss: 29981.2109 - val_loss: 35804.0000\n",
      "Epoch 262/500\n",
      "165/165 [==============================] - 1s 4ms/step - loss: 29929.8867 - val_loss: 35827.0312\n",
      "Epoch 263/500\n",
      "165/165 [==============================] - 1s 4ms/step - loss: 29875.5684 - val_loss: 35723.5430\n",
      "Epoch 264/500\n",
      "165/165 [==============================] - 1s 3ms/step - loss: 29845.3027 - val_loss: 35758.8828\n",
      "Epoch 265/500\n",
      "165/165 [==============================] - 1s 4ms/step - loss: 29803.5781 - val_loss: 35717.5430\n",
      "Epoch 266/500\n",
      "165/165 [==============================] - 1s 4ms/step - loss: 29767.6289 - val_loss: 35696.6055\n",
      "Epoch 267/500\n",
      "165/165 [==============================] - 1s 4ms/step - loss: 29729.7188 - val_loss: 35703.2578\n",
      "Epoch 268/500\n",
      "165/165 [==============================] - 1s 4ms/step - loss: 29707.5469 - val_loss: 35668.6836\n",
      "Epoch 269/500\n",
      "165/165 [==============================] - 1s 4ms/step - loss: 29681.4844 - val_loss: 35668.8633\n",
      "Epoch 270/500\n",
      "165/165 [==============================] - 1s 4ms/step - loss: 29636.6660 - val_loss: 35669.0430\n",
      "Epoch 271/500\n",
      "165/165 [==============================] - 1s 4ms/step - loss: 29572.8086 - val_loss: 35639.5273\n",
      "Epoch 272/500\n",
      "165/165 [==============================] - 1s 4ms/step - loss: 29534.8379 - val_loss: 35606.0117\n",
      "Epoch 273/500\n",
      "165/165 [==============================] - 1s 3ms/step - loss: 29491.9277 - val_loss: 35797.3359\n",
      "Epoch 274/500\n",
      "165/165 [==============================] - 1s 3ms/step - loss: 29477.7441 - val_loss: 35576.1797\n",
      "Epoch 275/500\n",
      "165/165 [==============================] - 1s 4ms/step - loss: 29420.4922 - val_loss: 35677.4531\n",
      "Epoch 276/500\n",
      "165/165 [==============================] - 1s 4ms/step - loss: 29396.9551 - val_loss: 35539.7812\n",
      "Epoch 277/500\n",
      "165/165 [==============================] - 1s 4ms/step - loss: 29357.8789 - val_loss: 35532.1055\n",
      "Epoch 278/500\n",
      "165/165 [==============================] - 1s 4ms/step - loss: 29299.2070 - val_loss: 35544.5586\n",
      "Epoch 279/500\n",
      "165/165 [==============================] - 1s 4ms/step - loss: 29286.3086 - val_loss: 35496.5234\n",
      "Epoch 280/500\n",
      "165/165 [==============================] - 1s 3ms/step - loss: 29233.1270 - val_loss: 35517.5078\n",
      "Epoch 281/500\n",
      "165/165 [==============================] - 1s 4ms/step - loss: 29212.6875 - val_loss: 35510.5078\n",
      "Epoch 282/500\n",
      "165/165 [==============================] - 1s 4ms/step - loss: 29163.5996 - val_loss: 35532.3477\n",
      "Epoch 283/500\n",
      "165/165 [==============================] - 1s 4ms/step - loss: 29127.6699 - val_loss: 35486.7930\n",
      "Epoch 284/500\n",
      "165/165 [==============================] - 1s 3ms/step - loss: 29101.7754 - val_loss: 35490.2617\n",
      "Epoch 285/500\n",
      "165/165 [==============================] - 1s 4ms/step - loss: 29075.1875 - val_loss: 35475.2812\n",
      "Epoch 286/500\n",
      "165/165 [==============================] - 1s 3ms/step - loss: 29008.9746 - val_loss: 35434.4688\n",
      "Epoch 287/500\n",
      "165/165 [==============================] - 1s 3ms/step - loss: 28974.3398 - val_loss: 35450.4961\n",
      "Epoch 288/500\n",
      "165/165 [==============================] - 1s 4ms/step - loss: 28951.3867 - val_loss: 35415.8125\n",
      "Epoch 289/500\n",
      "165/165 [==============================] - 1s 3ms/step - loss: 28948.1484 - val_loss: 35420.0117\n",
      "Epoch 290/500\n",
      "165/165 [==============================] - 1s 4ms/step - loss: 28863.1797 - val_loss: 35400.4453\n",
      "Epoch 291/500\n",
      "165/165 [==============================] - 1s 4ms/step - loss: 28832.4180 - val_loss: 35343.7891\n",
      "Epoch 292/500\n",
      "165/165 [==============================] - 1s 4ms/step - loss: 28834.5352 - val_loss: 35392.8867\n",
      "Epoch 293/500\n",
      "165/165 [==============================] - 1s 3ms/step - loss: 28775.3926 - val_loss: 35386.8203\n",
      "Epoch 294/500\n",
      "165/165 [==============================] - 1s 4ms/step - loss: 28738.7148 - val_loss: 35347.9375\n",
      "Epoch 295/500\n",
      "165/165 [==============================] - 1s 4ms/step - loss: 28718.7871 - val_loss: 35352.9023\n",
      "Epoch 296/500\n",
      "165/165 [==============================] - 1s 4ms/step - loss: 28639.5762 - val_loss: 35316.0977\n"
     ]
    },
    {
     "name": "stdout",
     "output_type": "stream",
     "text": [
      "Epoch 297/500\n",
      "165/165 [==============================] - 1s 4ms/step - loss: 28624.3711 - val_loss: 35321.8164\n",
      "Epoch 298/500\n",
      "165/165 [==============================] - 1s 4ms/step - loss: 28592.1680 - val_loss: 35329.7656\n",
      "Epoch 299/500\n",
      "165/165 [==============================] - 1s 4ms/step - loss: 28535.9688 - val_loss: 35263.0000\n",
      "Epoch 300/500\n",
      "165/165 [==============================] - 1s 4ms/step - loss: 28530.5000 - val_loss: 35239.8047\n",
      "Epoch 301/500\n",
      "165/165 [==============================] - 1s 4ms/step - loss: 28490.3281 - val_loss: 35265.6797\n",
      "Epoch 302/500\n",
      "165/165 [==============================] - 1s 3ms/step - loss: 28479.9668 - val_loss: 35291.4023\n",
      "Epoch 303/500\n",
      "165/165 [==============================] - 1s 4ms/step - loss: 28411.6699 - val_loss: 35203.5312\n",
      "Epoch 304/500\n",
      "165/165 [==============================] - 1s 4ms/step - loss: 28397.5957 - val_loss: 35249.8867\n",
      "Epoch 305/500\n",
      "165/165 [==============================] - 1s 4ms/step - loss: 28338.2188 - val_loss: 35268.6914\n",
      "Epoch 306/500\n",
      "165/165 [==============================] - 1s 4ms/step - loss: 28336.3848 - val_loss: 35240.4961\n",
      "Epoch 307/500\n",
      "165/165 [==============================] - 1s 4ms/step - loss: 28313.9473 - val_loss: 35185.0352\n",
      "Epoch 308/500\n",
      "165/165 [==============================] - 1s 4ms/step - loss: 28245.7930 - val_loss: 35156.5938\n",
      "Epoch 309/500\n",
      "165/165 [==============================] - 1s 4ms/step - loss: 28212.8672 - val_loss: 35145.1289\n",
      "Epoch 310/500\n",
      "165/165 [==============================] - 1s 3ms/step - loss: 28174.1836 - val_loss: 35102.9062\n",
      "Epoch 311/500\n",
      "165/165 [==============================] - 1s 4ms/step - loss: 28127.4219 - val_loss: 35063.3555\n",
      "Epoch 312/500\n",
      "165/165 [==============================] - 1s 4ms/step - loss: 28113.8828 - val_loss: 35144.4766\n",
      "Epoch 313/500\n",
      "165/165 [==============================] - 1s 4ms/step - loss: 28082.0625 - val_loss: 35116.2812\n",
      "Epoch 314/500\n",
      "165/165 [==============================] - 1s 3ms/step - loss: 28045.6680 - val_loss: 35166.2070\n",
      "Epoch 315/500\n",
      "165/165 [==============================] - 1s 4ms/step - loss: 28014.7754 - val_loss: 35113.6289\n",
      "Epoch 316/500\n",
      "165/165 [==============================] - 1s 4ms/step - loss: 27984.7617 - val_loss: 35086.9102\n",
      "Epoch 317/500\n",
      "165/165 [==============================] - 1s 4ms/step - loss: 27952.3359 - val_loss: 35049.8711\n",
      "Epoch 318/500\n",
      "165/165 [==============================] - 1s 4ms/step - loss: 27904.1367 - val_loss: 35099.4844\n",
      "Epoch 319/500\n",
      "165/165 [==============================] - 1s 4ms/step - loss: 27895.9199 - val_loss: 35070.8125\n",
      "Epoch 320/500\n",
      "165/165 [==============================] - 1s 4ms/step - loss: 27837.8262 - val_loss: 35047.0469\n",
      "Epoch 321/500\n",
      "165/165 [==============================] - 1s 4ms/step - loss: 27794.4082 - val_loss: 34995.2188\n",
      "Epoch 322/500\n",
      "165/165 [==============================] - 1s 4ms/step - loss: 27768.6855 - val_loss: 35069.3555\n",
      "Epoch 323/500\n",
      "165/165 [==============================] - 1s 4ms/step - loss: 27772.9043 - val_loss: 35043.8203\n",
      "Epoch 324/500\n",
      "165/165 [==============================] - 1s 4ms/step - loss: 27701.4609 - val_loss: 35022.5117\n",
      "Epoch 325/500\n",
      "165/165 [==============================] - 1s 4ms/step - loss: 27672.4141 - val_loss: 35045.3633\n",
      "Epoch 326/500\n",
      "165/165 [==============================] - 1s 4ms/step - loss: 27625.9082 - val_loss: 34981.0078\n",
      "Epoch 327/500\n",
      "165/165 [==============================] - 1s 4ms/step - loss: 27578.7090 - val_loss: 35022.8984\n",
      "Epoch 328/500\n",
      "165/165 [==============================] - 1s 4ms/step - loss: 27563.7520 - val_loss: 34983.1289\n",
      "Epoch 329/500\n",
      "165/165 [==============================] - 1s 4ms/step - loss: 27540.2578 - val_loss: 35004.2695\n",
      "Epoch 330/500\n",
      "165/165 [==============================] - 1s 4ms/step - loss: 27482.4629 - val_loss: 35010.8516\n",
      "Epoch 331/500\n",
      "165/165 [==============================] - 1s 4ms/step - loss: 27482.9297 - val_loss: 34899.8594\n",
      "Epoch 332/500\n",
      "165/165 [==============================] - 1s 3ms/step - loss: 27450.5273 - val_loss: 34890.4492\n",
      "Epoch 333/500\n",
      "165/165 [==============================] - 1s 4ms/step - loss: 27423.1191 - val_loss: 34903.4492\n",
      "Epoch 334/500\n",
      "165/165 [==============================] - 1s 3ms/step - loss: 27355.6484 - val_loss: 34930.8086\n",
      "Epoch 335/500\n",
      "165/165 [==============================] - 1s 3ms/step - loss: 27317.9395 - val_loss: 34955.4688\n",
      "Epoch 336/500\n",
      "165/165 [==============================] - 1s 4ms/step - loss: 27332.1348 - val_loss: 34957.8477\n",
      "Epoch 337/500\n",
      "165/165 [==============================] - 1s 3ms/step - loss: 27253.2422 - val_loss: 34841.0195\n",
      "Epoch 338/500\n",
      "165/165 [==============================] - 1s 3ms/step - loss: 27234.9492 - val_loss: 34860.2070\n",
      "Epoch 339/500\n",
      "165/165 [==============================] - 1s 4ms/step - loss: 27221.6074 - val_loss: 34850.6992\n",
      "Epoch 340/500\n",
      "165/165 [==============================] - 1s 3ms/step - loss: 27175.2656 - val_loss: 34801.4727\n",
      "Epoch 341/500\n",
      "165/165 [==============================] - 1s 4ms/step - loss: 27140.0176 - val_loss: 34811.6133\n",
      "Epoch 342/500\n",
      "165/165 [==============================] - 1s 4ms/step - loss: 27104.2676 - val_loss: 34810.6289\n",
      "Epoch 343/500\n",
      "165/165 [==============================] - 1s 4ms/step - loss: 27072.8379 - val_loss: 34824.0078\n",
      "Epoch 344/500\n",
      "165/165 [==============================] - 1s 4ms/step - loss: 27038.7773 - val_loss: 34810.9609\n",
      "Epoch 345/500\n",
      "165/165 [==============================] - 1s 4ms/step - loss: 26998.5586 - val_loss: 34850.6367\n",
      "Epoch 346/500\n",
      "165/165 [==============================] - 1s 3ms/step - loss: 26998.0742 - val_loss: 34799.9062\n",
      "Epoch 347/500\n",
      "165/165 [==============================] - 1s 4ms/step - loss: 26966.3574 - val_loss: 34754.9219\n",
      "Epoch 348/500\n",
      "165/165 [==============================] - 1s 4ms/step - loss: 26903.3262 - val_loss: 34796.6055\n",
      "Epoch 349/500\n",
      "165/165 [==============================] - 1s 4ms/step - loss: 26865.7148 - val_loss: 34727.8516\n",
      "Epoch 350/500\n",
      "165/165 [==============================] - 1s 4ms/step - loss: 26860.3672 - val_loss: 34703.2070\n",
      "Epoch 351/500\n",
      "165/165 [==============================] - 1s 4ms/step - loss: 26813.3574 - val_loss: 34655.5156\n",
      "Epoch 352/500\n",
      "165/165 [==============================] - 1s 3ms/step - loss: 26788.4004 - val_loss: 34715.1680\n",
      "Epoch 353/500\n",
      "165/165 [==============================] - 1s 4ms/step - loss: 26754.4238 - val_loss: 34735.6289\n",
      "Epoch 354/500\n",
      "165/165 [==============================] - 1s 3ms/step - loss: 26720.8496 - val_loss: 34666.3125\n",
      "Epoch 355/500\n",
      "165/165 [==============================] - 1s 3ms/step - loss: 26717.5957 - val_loss: 34623.7422\n",
      "Epoch 356/500\n",
      "165/165 [==============================] - 1s 4ms/step - loss: 26678.9668 - val_loss: 34735.6016\n",
      "Epoch 357/500\n",
      "165/165 [==============================] - 1s 3ms/step - loss: 26655.5117 - val_loss: 34681.5195\n",
      "Epoch 358/500\n",
      "165/165 [==============================] - 1s 4ms/step - loss: 26608.4785 - val_loss: 34718.7969\n",
      "Epoch 359/500\n",
      "165/165 [==============================] - 1s 3ms/step - loss: 26575.4512 - val_loss: 34644.3516\n",
      "Epoch 360/500\n",
      "165/165 [==============================] - 1s 4ms/step - loss: 26522.2734 - val_loss: 34713.9609\n",
      "Epoch 361/500\n",
      "165/165 [==============================] - 1s 4ms/step - loss: 26510.2988 - val_loss: 34604.3828\n",
      "Epoch 362/500\n",
      "165/165 [==============================] - 1s 4ms/step - loss: 26474.3809 - val_loss: 34534.5000\n",
      "Epoch 363/500\n",
      "165/165 [==============================] - 1s 3ms/step - loss: 26458.6309 - val_loss: 34560.3594\n",
      "Epoch 364/500\n",
      "165/165 [==============================] - 1s 3ms/step - loss: 26413.8359 - val_loss: 34627.1289\n",
      "Epoch 365/500\n",
      "165/165 [==============================] - 1s 4ms/step - loss: 26391.2695 - val_loss: 34686.3047\n",
      "Epoch 366/500\n",
      "165/165 [==============================] - 1s 3ms/step - loss: 26357.5742 - val_loss: 34581.6992\n",
      "Epoch 367/500\n",
      "165/165 [==============================] - 1s 3ms/step - loss: 26344.9414 - val_loss: 34604.9297\n",
      "Epoch 368/500\n",
      "165/165 [==============================] - 1s 3ms/step - loss: 26303.5547 - val_loss: 34573.0391\n",
      "Epoch 369/500\n",
      "165/165 [==============================] - 1s 4ms/step - loss: 26273.0996 - val_loss: 34728.5898\n",
      "Epoch 370/500\n",
      "165/165 [==============================] - 1s 3ms/step - loss: 26268.6230 - val_loss: 34504.6211\n"
     ]
    },
    {
     "name": "stdout",
     "output_type": "stream",
     "text": [
      "Epoch 371/500\n",
      "165/165 [==============================] - 1s 4ms/step - loss: 26223.1562 - val_loss: 34734.0352\n",
      "Epoch 372/500\n",
      "165/165 [==============================] - 1s 3ms/step - loss: 26197.7148 - val_loss: 34495.9570\n",
      "Epoch 373/500\n",
      "165/165 [==============================] - 1s 4ms/step - loss: 26142.9082 - val_loss: 34536.5352\n",
      "Epoch 374/500\n",
      "165/165 [==============================] - 1s 4ms/step - loss: 26127.5371 - val_loss: 34574.3555\n",
      "Epoch 375/500\n",
      "165/165 [==============================] - 1s 4ms/step - loss: 26081.3438 - val_loss: 34558.3242\n",
      "Epoch 376/500\n",
      "165/165 [==============================] - 1s 4ms/step - loss: 26051.0684 - val_loss: 34518.1250\n",
      "Epoch 377/500\n",
      "165/165 [==============================] - 1s 4ms/step - loss: 26010.8125 - val_loss: 34501.7852\n",
      "Epoch 378/500\n",
      "165/165 [==============================] - 1s 4ms/step - loss: 25987.8438 - val_loss: 34478.6797\n",
      "Epoch 379/500\n",
      "165/165 [==============================] - 1s 4ms/step - loss: 25977.5664 - val_loss: 34444.1445\n",
      "Epoch 380/500\n",
      "165/165 [==============================] - 1s 4ms/step - loss: 25936.3652 - val_loss: 34509.2266\n",
      "Epoch 381/500\n",
      "165/165 [==============================] - 1s 4ms/step - loss: 25899.0605 - val_loss: 34426.0039\n",
      "Epoch 382/500\n",
      "165/165 [==============================] - 1s 4ms/step - loss: 25908.6816 - val_loss: 34448.6328\n",
      "Epoch 383/500\n",
      "165/165 [==============================] - 1s 4ms/step - loss: 25831.4297 - val_loss: 34509.1953\n",
      "Epoch 384/500\n",
      "165/165 [==============================] - 1s 3ms/step - loss: 25819.6758 - val_loss: 34488.2148\n",
      "Epoch 385/500\n",
      "165/165 [==============================] - 1s 4ms/step - loss: 25775.4570 - val_loss: 34426.8320\n",
      "Epoch 386/500\n",
      "165/165 [==============================] - 1s 4ms/step - loss: 25755.7031 - val_loss: 34387.8359\n",
      "Epoch 387/500\n",
      "165/165 [==============================] - 1s 4ms/step - loss: 25732.5586 - val_loss: 34549.7656\n",
      "Epoch 388/500\n",
      "165/165 [==============================] - 1s 4ms/step - loss: 25724.1484 - val_loss: 34527.4219\n",
      "Epoch 389/500\n",
      "165/165 [==============================] - 0s 3ms/step - loss: 25663.9512 - val_loss: 34416.6758\n",
      "Epoch 390/500\n",
      "165/165 [==============================] - 1s 3ms/step - loss: 25610.5078 - val_loss: 34433.2812\n",
      "Epoch 391/500\n",
      "165/165 [==============================] - 1s 3ms/step - loss: 25593.4473 - val_loss: 34427.8867\n",
      "Epoch 392/500\n",
      "165/165 [==============================] - 1s 4ms/step - loss: 25547.6914 - val_loss: 34503.3086\n",
      "Epoch 393/500\n",
      "165/165 [==============================] - 1s 4ms/step - loss: 25551.8320 - val_loss: 34423.4062\n",
      "Epoch 394/500\n",
      "165/165 [==============================] - 1s 4ms/step - loss: 25520.4453 - val_loss: 34491.0859\n",
      "Epoch 395/500\n",
      "165/165 [==============================] - 1s 4ms/step - loss: 25481.2520 - val_loss: 34284.3945\n",
      "Epoch 396/500\n",
      "165/165 [==============================] - 1s 3ms/step - loss: 25467.8027 - val_loss: 34322.4922\n",
      "Epoch 397/500\n",
      "165/165 [==============================] - 1s 4ms/step - loss: 25391.5371 - val_loss: 34384.4414\n",
      "Epoch 398/500\n",
      "165/165 [==============================] - 1s 4ms/step - loss: 25378.0898 - val_loss: 34334.0430\n",
      "Epoch 399/500\n",
      "165/165 [==============================] - 1s 4ms/step - loss: 25342.8594 - val_loss: 34368.5039\n",
      "Epoch 400/500\n",
      "165/165 [==============================] - 1s 4ms/step - loss: 25302.4805 - val_loss: 34363.5508\n",
      "Epoch 401/500\n",
      "165/165 [==============================] - 1s 4ms/step - loss: 25286.2656 - val_loss: 34358.5547\n",
      "Epoch 402/500\n",
      "165/165 [==============================] - 1s 4ms/step - loss: 25230.1660 - val_loss: 34422.9688\n",
      "Epoch 403/500\n",
      "165/165 [==============================] - 1s 4ms/step - loss: 25223.2852 - val_loss: 34316.3164\n",
      "Epoch 404/500\n",
      "165/165 [==============================] - 1s 4ms/step - loss: 25201.3906 - val_loss: 34341.3906\n",
      "Epoch 405/500\n",
      "165/165 [==============================] - 1s 3ms/step - loss: 25169.1816 - val_loss: 34381.0078\n",
      "Epoch 405: early stopping\n"
     ]
    },
    {
     "data": {
      "text/plain": [
       "<keras.callbacks.History at 0x1c5b7cb0a00>"
      ]
     },
     "execution_count": 199,
     "metadata": {},
     "output_type": "execute_result"
    }
   ],
   "source": [
    "model_1.fit(x=X_train,y=y_train,epochs=500,validation_data=(X_test,y_test),callbacks=early_stop)"
   ]
  },
  {
   "cell_type": "code",
   "execution_count": 200,
   "id": "dae5bcdb",
   "metadata": {},
   "outputs": [],
   "source": [
    "model_1_loss = pd.DataFrame(model_1.history.history)"
   ]
  },
  {
   "cell_type": "code",
   "execution_count": 201,
   "id": "bfe3ae56",
   "metadata": {},
   "outputs": [
    {
     "data": {
      "text/plain": [
       "<AxesSubplot:>"
      ]
     },
     "execution_count": 201,
     "metadata": {},
     "output_type": "execute_result"
    },
    {
     "data": {
      "image/png": "[encoded data removed]",
      "text/plain": [
       "<Figure size 432x288 with 1 Axes>"
      ]
     },
     "metadata": {
      "needs_background": "light"
     },
     "output_type": "display_data"
    }
   ],
   "source": [
    "model_1_loss.plot()"
   ]
  },
  {
   "cell_type": "code",
   "execution_count": 202,
   "id": "396c02d0",
   "metadata": {},
   "outputs": [],
   "source": [
    "pred_1 = model_1.predict(X_test)"
   ]
  },
  {
   "cell_type": "code",
   "execution_count": 204,
   "id": "5e06ea10",
   "metadata": {
    "scrolled": true
   },
   "outputs": [],
   "source": [
    "#print(f'The mean absolute error is: {mean_absolute_error(y_test,pred_02)}')\n",
    "#print(f'The mean squared error is: {mean_squared_error(y_test,pred_02)}')"
   ]
  },
  {
   "cell_type": "code",
   "execution_count": 205,
   "id": "09306c76",
   "metadata": {},
   "outputs": [
    {
     "name": "stdout",
     "output_type": "stream",
     "text": [
      "tf.Tensor(34381.004, shape=(), dtype=float32)\n",
      "tf.Tensor(9830265000.0, shape=(), dtype=float32)\n"
     ]
    }
   ],
   "source": [
    "mae_1 = mae(y_test,pred_1)\n",
    "print(mae_1)\n",
    "mse_1 = mse(y_test,pred_1)\n",
    "print(mse_1)"
   ]
  },
  {
   "cell_type": "code",
   "execution_count": 206,
   "id": "51391b1b",
   "metadata": {},
   "outputs": [],
   "source": [
    "# INCREASE THE NUMBER OF LAYERS\n",
    "\n",
    "model_2 = Sequential()\n",
    "\n",
    "model_2.add(Dense(121, activation='relu'))\n",
    "model_2.add(Dense(121, activation='relu'))\n",
    "model_2.add(Dense(121, activation='relu'))\n",
    "\n",
    "\n",
    "model_2.add(Dense(1))\n",
    "\n",
    "model_2.compile(optimizer='adam',loss='mae')"
   ]
  },
  {
   "cell_type": "code",
   "execution_count": 207,
   "id": "5eb2e6d9",
   "metadata": {
    "scrolled": true
   },
   "outputs": [
    {
     "name": "stdout",
     "output_type": "stream",
     "text": [
      "Epoch 1/500\n",
      "165/165 [==============================] - 2s 5ms/step - loss: 89189.7734 - val_loss: 80138.5547\n",
      "Epoch 2/500\n",
      "165/165 [==============================] - 1s 4ms/step - loss: 68909.4062 - val_loss: 68847.2500\n",
      "Epoch 3/500\n",
      "165/165 [==============================] - 1s 4ms/step - loss: 63418.0703 - val_loss: 64194.4453\n",
      "Epoch 4/500\n",
      "165/165 [==============================] - 1s 4ms/step - loss: 60073.8086 - val_loss: 60981.7734\n",
      "Epoch 5/500\n",
      "165/165 [==============================] - 1s 3ms/step - loss: 58073.3984 - val_loss: 58982.9766\n",
      "Epoch 6/500\n",
      "165/165 [==============================] - 1s 4ms/step - loss: 56594.0156 - val_loss: 57574.3359\n",
      "Epoch 7/500\n",
      "165/165 [==============================] - 1s 4ms/step - loss: 55477.0469 - val_loss: 56218.1289\n",
      "Epoch 8/500\n",
      "165/165 [==============================] - 1s 4ms/step - loss: 54397.8906 - val_loss: 55080.0859\n",
      "Epoch 9/500\n",
      "165/165 [==============================] - 1s 4ms/step - loss: 53411.4375 - val_loss: 54000.2617\n",
      "Epoch 10/500\n",
      "165/165 [==============================] - 1s 4ms/step - loss: 52472.9414 - val_loss: 52945.9453\n",
      "Epoch 11/500\n",
      "165/165 [==============================] - 1s 4ms/step - loss: 51541.6094 - val_loss: 52006.5234\n",
      "Epoch 12/500\n",
      "165/165 [==============================] - 1s 4ms/step - loss: 50726.5781 - val_loss: 51222.6797\n",
      "Epoch 13/500\n",
      "165/165 [==============================] - 1s 4ms/step - loss: 49975.4336 - val_loss: 50422.3711\n",
      "Epoch 14/500\n",
      "165/165 [==============================] - 1s 4ms/step - loss: 49305.0586 - val_loss: 49782.6562\n",
      "Epoch 15/500\n",
      "165/165 [==============================] - 1s 4ms/step - loss: 48708.2539 - val_loss: 49168.9766\n",
      "Epoch 16/500\n",
      "165/165 [==============================] - 1s 4ms/step - loss: 48071.9961 - val_loss: 48670.0859\n",
      "Epoch 17/500\n",
      "165/165 [==============================] - 1s 4ms/step - loss: 47552.5469 - val_loss: 48112.8203\n",
      "Epoch 18/500\n",
      "165/165 [==============================] - 1s 4ms/step - loss: 47071.7188 - val_loss: 47603.1953\n",
      "Epoch 19/500\n",
      "165/165 [==============================] - 1s 4ms/step - loss: 46621.7109 - val_loss: 47234.4688\n",
      "Epoch 20/500\n",
      "165/165 [==============================] - 1s 4ms/step - loss: 46119.9766 - val_loss: 46866.4141\n",
      "Epoch 21/500\n",
      "165/165 [==============================] - 1s 4ms/step - loss: 45737.2773 - val_loss: 46483.9023\n",
      "Epoch 22/500\n",
      "165/165 [==============================] - 1s 4ms/step - loss: 45191.4336 - val_loss: 46251.5586\n",
      "Epoch 23/500\n",
      "165/165 [==============================] - 1s 4ms/step - loss: 44778.8750 - val_loss: 45849.0469\n",
      "Epoch 24/500\n",
      "165/165 [==============================] - 1s 4ms/step - loss: 44289.3906 - val_loss: 45477.0000\n",
      "Epoch 25/500\n",
      "165/165 [==============================] - 1s 4ms/step - loss: 43838.6562 - val_loss: 45152.0000\n",
      "Epoch 26/500\n",
      "165/165 [==============================] - 1s 4ms/step - loss: 43421.4766 - val_loss: 44872.0195\n",
      "Epoch 27/500\n",
      "165/165 [==============================] - 1s 4ms/step - loss: 42965.1211 - val_loss: 44498.1172\n",
      "Epoch 28/500\n",
      "165/165 [==============================] - 1s 4ms/step - loss: 42456.2734 - val_loss: 44249.5352\n",
      "Epoch 29/500\n",
      "165/165 [==============================] - 1s 4ms/step - loss: 42009.3242 - val_loss: 43873.1289\n",
      "Epoch 30/500\n",
      "165/165 [==============================] - 1s 4ms/step - loss: 41556.7188 - val_loss: 43602.3359\n",
      "Epoch 31/500\n",
      "165/165 [==============================] - 1s 4ms/step - loss: 40995.0977 - val_loss: 43030.0000\n",
      "Epoch 32/500\n",
      "165/165 [==============================] - 1s 4ms/step - loss: 40647.9336 - val_loss: 42620.3398\n",
      "Epoch 33/500\n",
      "165/165 [==============================] - 1s 4ms/step - loss: 40105.0586 - val_loss: 42336.3203\n",
      "Epoch 34/500\n",
      "165/165 [==============================] - 1s 4ms/step - loss: 39633.4727 - val_loss: 41910.5547\n",
      "Epoch 35/500\n",
      "165/165 [==============================] - 1s 4ms/step - loss: 39128.8945 - val_loss: 41504.3867\n",
      "Epoch 36/500\n",
      "165/165 [==============================] - 1s 4ms/step - loss: 38602.3008 - val_loss: 41210.9492\n",
      "Epoch 37/500\n",
      "165/165 [==============================] - 1s 4ms/step - loss: 38137.4609 - val_loss: 40776.0898\n",
      "Epoch 38/500\n",
      "165/165 [==============================] - 1s 4ms/step - loss: 37693.0000 - val_loss: 40793.6367\n",
      "Epoch 39/500\n",
      "165/165 [==============================] - 1s 4ms/step - loss: 37329.2305 - val_loss: 40039.2305\n",
      "Epoch 40/500\n",
      "165/165 [==============================] - 1s 4ms/step - loss: 36774.5195 - val_loss: 39763.9609\n",
      "Epoch 41/500\n",
      "165/165 [==============================] - 1s 4ms/step - loss: 36414.5938 - val_loss: 39595.5859\n",
      "Epoch 42/500\n",
      "165/165 [==============================] - 1s 4ms/step - loss: 35981.2383 - val_loss: 39288.1797\n",
      "Epoch 43/500\n",
      "165/165 [==============================] - 1s 4ms/step - loss: 35522.3789 - val_loss: 38830.0938\n",
      "Epoch 44/500\n",
      "165/165 [==============================] - 1s 4ms/step - loss: 35183.6328 - val_loss: 38662.9961\n",
      "Epoch 45/500\n",
      "165/165 [==============================] - 1s 4ms/step - loss: 34784.9297 - val_loss: 38623.8594\n",
      "Epoch 46/500\n",
      "165/165 [==============================] - 1s 4ms/step - loss: 34511.0156 - val_loss: 38369.7812\n",
      "Epoch 47/500\n",
      "165/165 [==============================] - 1s 4ms/step - loss: 34113.2070 - val_loss: 38160.1055\n",
      "Epoch 48/500\n",
      "165/165 [==============================] - 1s 4ms/step - loss: 33907.8867 - val_loss: 37970.0742\n",
      "Epoch 49/500\n",
      "165/165 [==============================] - 1s 4ms/step - loss: 33499.7305 - val_loss: 37766.0781\n",
      "Epoch 50/500\n",
      "165/165 [==============================] - 1s 4ms/step - loss: 33270.5664 - val_loss: 37680.9375\n",
      "Epoch 51/500\n",
      "165/165 [==============================] - 1s 4ms/step - loss: 33033.0625 - val_loss: 37565.3516\n",
      "Epoch 52/500\n",
      "165/165 [==============================] - 1s 3ms/step - loss: 32729.5918 - val_loss: 37537.0312\n",
      "Epoch 53/500\n",
      "165/165 [==============================] - 1s 4ms/step - loss: 32560.5176 - val_loss: 37583.3047\n",
      "Epoch 54/500\n",
      "165/165 [==============================] - 1s 4ms/step - loss: 32240.1484 - val_loss: 37098.6602\n",
      "Epoch 55/500\n",
      "165/165 [==============================] - 1s 4ms/step - loss: 31959.3652 - val_loss: 37256.5391\n",
      "Epoch 56/500\n",
      "165/165 [==============================] - 1s 4ms/step - loss: 31799.2832 - val_loss: 37122.0156\n",
      "Epoch 57/500\n",
      "165/165 [==============================] - 1s 4ms/step - loss: 31566.1035 - val_loss: 36861.8008\n",
      "Epoch 58/500\n",
      "165/165 [==============================] - 1s 4ms/step - loss: 31395.4219 - val_loss: 36955.0547\n",
      "Epoch 59/500\n",
      "165/165 [==============================] - 1s 4ms/step - loss: 31120.0723 - val_loss: 36672.3438\n",
      "Epoch 60/500\n",
      "165/165 [==============================] - 1s 4ms/step - loss: 30959.8320 - val_loss: 36727.4570\n",
      "Epoch 61/500\n",
      "165/165 [==============================] - 1s 4ms/step - loss: 30806.8535 - val_loss: 36357.3281\n",
      "Epoch 62/500\n",
      "165/165 [==============================] - 1s 4ms/step - loss: 30611.2734 - val_loss: 36405.5078\n",
      "Epoch 63/500\n",
      "165/165 [==============================] - 1s 4ms/step - loss: 30530.0117 - val_loss: 36172.5547\n",
      "Epoch 64/500\n",
      "165/165 [==============================] - 1s 4ms/step - loss: 30242.2031 - val_loss: 36439.9883\n",
      "Epoch 65/500\n",
      "165/165 [==============================] - 1s 4ms/step - loss: 30137.1367 - val_loss: 36429.6133\n",
      "Epoch 66/500\n",
      "165/165 [==============================] - 1s 4ms/step - loss: 29922.8594 - val_loss: 36239.3398\n",
      "Epoch 67/500\n",
      "165/165 [==============================] - 1s 4ms/step - loss: 29743.4355 - val_loss: 36218.8477\n",
      "Epoch 68/500\n",
      "165/165 [==============================] - 1s 4ms/step - loss: 29570.8594 - val_loss: 36571.6758\n",
      "Epoch 69/500\n",
      "165/165 [==============================] - 1s 4ms/step - loss: 29397.1562 - val_loss: 35987.3398\n",
      "Epoch 70/500\n",
      "165/165 [==============================] - 1s 4ms/step - loss: 29276.2598 - val_loss: 36079.6289\n",
      "Epoch 71/500\n",
      "165/165 [==============================] - 1s 4ms/step - loss: 29100.6211 - val_loss: 36317.5742\n",
      "Epoch 72/500\n",
      "165/165 [==============================] - 1s 4ms/step - loss: 29034.1543 - val_loss: 35886.9258\n",
      "Epoch 73/500\n",
      "165/165 [==============================] - 1s 4ms/step - loss: 28912.0000 - val_loss: 35923.9414\n",
      "Epoch 74/500\n",
      "165/165 [==============================] - 1s 4ms/step - loss: 28677.1992 - val_loss: 35655.6133\n",
      "Epoch 75/500\n",
      "165/165 [==============================] - 1s 4ms/step - loss: 28512.8008 - val_loss: 35866.8242\n",
      "Epoch 76/500\n",
      "165/165 [==============================] - 1s 4ms/step - loss: 28442.9590 - val_loss: 35852.3984\n",
      "Epoch 77/500\n",
      "165/165 [==============================] - 1s 4ms/step - loss: 28332.2051 - val_loss: 35640.2188\n",
      "Epoch 78/500\n",
      "165/165 [==============================] - 1s 4ms/step - loss: 28169.2070 - val_loss: 35668.0078\n",
      "Epoch 79/500\n",
      "165/165 [==============================] - 1s 4ms/step - loss: 28004.9453 - val_loss: 35525.1797\n",
      "Epoch 80/500\n",
      "165/165 [==============================] - 1s 4ms/step - loss: 27916.3730 - val_loss: 35623.1172\n",
      "Epoch 81/500\n",
      "165/165 [==============================] - 1s 4ms/step - loss: 27765.6680 - val_loss: 35767.0508\n",
      "Epoch 82/500\n",
      "165/165 [==============================] - 1s 4ms/step - loss: 27621.7910 - val_loss: 36182.0703\n",
      "Epoch 83/500\n",
      "165/165 [==============================] - 1s 4ms/step - loss: 27455.3809 - val_loss: 35727.8711\n",
      "Epoch 84/500\n",
      "165/165 [==============================] - 1s 4ms/step - loss: 27453.7422 - val_loss: 35465.2734\n",
      "Epoch 85/500\n",
      "165/165 [==============================] - 1s 4ms/step - loss: 27218.0078 - val_loss: 35415.6914\n",
      "Epoch 86/500\n",
      "165/165 [==============================] - 1s 4ms/step - loss: 27191.2656 - val_loss: 35521.1133\n",
      "Epoch 87/500\n",
      "165/165 [==============================] - 1s 4ms/step - loss: 26946.1543 - val_loss: 35396.5273\n",
      "Epoch 88/500\n",
      "165/165 [==============================] - 1s 4ms/step - loss: 26806.6504 - val_loss: 35371.4609\n",
      "Epoch 89/500\n",
      "165/165 [==============================] - 1s 4ms/step - loss: 26772.8301 - val_loss: 35375.4180\n",
      "Epoch 90/500\n",
      "165/165 [==============================] - 1s 4ms/step - loss: 26545.6855 - val_loss: 35345.5469\n",
      "Epoch 91/500\n",
      "165/165 [==============================] - 1s 4ms/step - loss: 26533.6602 - val_loss: 35703.2227\n",
      "Epoch 92/500\n",
      "165/165 [==============================] - 1s 4ms/step - loss: 26376.9961 - val_loss: 35244.1562\n",
      "Epoch 93/500\n",
      "165/165 [==============================] - 1s 4ms/step - loss: 26294.6074 - val_loss: 35391.0000\n",
      "Epoch 94/500\n",
      "165/165 [==============================] - 1s 4ms/step - loss: 26153.0059 - val_loss: 35253.0508\n",
      "Epoch 95/500\n",
      "165/165 [==============================] - 1s 4ms/step - loss: 26018.8594 - val_loss: 35288.8164\n",
      "Epoch 96/500\n",
      "165/165 [==============================] - 1s 4ms/step - loss: 25936.3418 - val_loss: 35304.1289\n",
      "Epoch 97/500\n",
      "165/165 [==============================] - 1s 4ms/step - loss: 25698.5273 - val_loss: 35222.1523\n",
      "Epoch 98/500\n",
      "165/165 [==============================] - 1s 4ms/step - loss: 25722.1211 - val_loss: 35362.7578\n",
      "Epoch 99/500\n",
      "165/165 [==============================] - 1s 4ms/step - loss: 25688.4355 - val_loss: 35077.6289\n",
      "Epoch 100/500\n",
      "165/165 [==============================] - 1s 4ms/step - loss: 25474.4629 - val_loss: 35445.0039\n",
      "Epoch 101/500\n",
      "165/165 [==============================] - 1s 4ms/step - loss: 25292.1289 - val_loss: 35116.0234\n",
      "Epoch 102/500\n",
      "165/165 [==============================] - 1s 4ms/step - loss: 25262.9746 - val_loss: 35418.8555\n",
      "Epoch 103/500\n",
      "165/165 [==============================] - 1s 4ms/step - loss: 25113.9512 - val_loss: 35308.6211\n",
      "Epoch 104/500\n",
      "165/165 [==============================] - 1s 4ms/step - loss: 25071.5000 - val_loss: 35206.3047\n",
      "Epoch 105/500\n",
      "165/165 [==============================] - 1s 4ms/step - loss: 25052.9824 - val_loss: 35237.2148\n",
      "Epoch 106/500\n",
      "165/165 [==============================] - 1s 4ms/step - loss: 24841.2012 - val_loss: 35006.9102\n",
      "Epoch 107/500\n",
      "165/165 [==============================] - 1s 4ms/step - loss: 24752.3496 - val_loss: 35101.1836\n",
      "Epoch 108/500\n",
      "165/165 [==============================] - 1s 4ms/step - loss: 24598.0039 - val_loss: 35417.8125\n",
      "Epoch 109/500\n",
      "165/165 [==============================] - 1s 4ms/step - loss: 24527.1895 - val_loss: 35014.3828\n",
      "Epoch 110/500\n",
      "165/165 [==============================] - 1s 4ms/step - loss: 24621.9922 - val_loss: 35174.9805\n",
      "Epoch 111/500\n",
      "165/165 [==============================] - 1s 4ms/step - loss: 24375.1016 - val_loss: 35004.2422\n",
      "Epoch 112/500\n",
      "165/165 [==============================] - 1s 4ms/step - loss: 24142.5156 - val_loss: 35265.3672\n",
      "Epoch 113/500\n",
      "165/165 [==============================] - 1s 4ms/step - loss: 24118.3379 - val_loss: 34780.8984\n",
      "Epoch 114/500\n",
      "165/165 [==============================] - 1s 4ms/step - loss: 24113.5410 - val_loss: 35397.6250\n",
      "Epoch 115/500\n",
      "165/165 [==============================] - 1s 4ms/step - loss: 23888.2676 - val_loss: 35112.8125\n",
      "Epoch 116/500\n",
      "165/165 [==============================] - 1s 4ms/step - loss: 23798.0156 - val_loss: 35171.6211\n",
      "Epoch 117/500\n",
      "165/165 [==============================] - 1s 4ms/step - loss: 23776.2031 - val_loss: 35090.6133\n",
      "Epoch 118/500\n",
      "165/165 [==============================] - 1s 4ms/step - loss: 23608.2148 - val_loss: 34955.8047\n",
      "Epoch 119/500\n",
      "165/165 [==============================] - 1s 4ms/step - loss: 23550.6621 - val_loss: 35099.2930\n",
      "Epoch 120/500\n",
      "165/165 [==============================] - 1s 4ms/step - loss: 23449.4082 - val_loss: 35332.0352\n",
      "Epoch 121/500\n",
      "165/165 [==============================] - 1s 4ms/step - loss: 23412.3848 - val_loss: 35026.7891\n",
      "Epoch 122/500\n",
      "165/165 [==============================] - 1s 4ms/step - loss: 23199.0664 - val_loss: 35278.5000\n",
      "Epoch 123/500\n",
      "165/165 [==============================] - 1s 4ms/step - loss: 23241.3008 - val_loss: 34995.5430\n",
      "Epoch 123: early stopping\n"
     ]
    },
    {
     "data": {
      "text/plain": [
       "<keras.callbacks.History at 0x1c5ba068ca0>"
      ]
     },
     "execution_count": 207,
     "metadata": {},
     "output_type": "execute_result"
    }
   ],
   "source": [
    "model_2.fit(x=X_train,y=y_train,epochs=500,validation_data=(X_test,y_test),callbacks=early_stop)"
   ]
  },
  {
   "cell_type": "code",
   "execution_count": 208,
   "id": "64f9cb13",
   "metadata": {},
   "outputs": [],
   "source": [
    "model_2_loss = pd.DataFrame(model_2.history.history)"
   ]
  },
  {
   "cell_type": "code",
   "execution_count": 209,
   "id": "e5443478",
   "metadata": {},
   "outputs": [
    {
     "data": {
      "text/plain": [
       "<AxesSubplot:>"
      ]
     },
     "execution_count": 209,
     "metadata": {},
     "output_type": "execute_result"
    },
    {
     "data": {
      "image/png": "[encoded data removed]",
      "text/plain": [
       "<Figure size 432x288 with 1 Axes>"
      ]
     },
     "metadata": {
      "needs_background": "light"
     },
     "output_type": "display_data"
    }
   ],
   "source": [
    "model_2_loss.plot()"
   ]
  },
  {
   "cell_type": "code",
   "execution_count": 210,
   "id": "f4ca9385",
   "metadata": {},
   "outputs": [],
   "source": [
    "pred_2 = model_2.predict(X_test)"
   ]
  },
  {
   "cell_type": "code",
   "execution_count": 211,
   "id": "67c6d65d",
   "metadata": {},
   "outputs": [
    {
     "name": "stdout",
     "output_type": "stream",
     "text": [
      "tf.Tensor(34995.543, shape=(), dtype=float32)\n",
      "tf.Tensor(14412964000.0, shape=(), dtype=float32)\n"
     ]
    }
   ],
   "source": [
    "mae_2 = mae(y_test,pred_2)\n",
    "print(mae_2)\n",
    "mse_2 = mse(y_test,pred_2)\n",
    "print(mse_2)"
   ]
  },
  {
   "cell_type": "code",
   "execution_count": 239,
   "id": "250f20c3",
   "metadata": {},
   "outputs": [],
   "source": [
    "# INCREASE THE NUMBER OF NEURONS IN ORIGINAL\n",
    "\n",
    "model_3 = Sequential()\n",
    "\n",
    "model_3.add(Dense(121, activation='relu'))\n",
    "model_3.add(Dense(343, activation='relu'))\n",
    "model_3.add(Dropout(0.3))\n",
    "\n",
    "model_3.add(Dense(1))\n",
    "\n",
    "model_3.compile(optimizer='adam',loss='mae')"
   ]
  },
  {
   "cell_type": "code",
   "execution_count": 240,
   "id": "ec691065",
   "metadata": {
    "scrolled": true
   },
   "outputs": [
    {
     "name": "stdout",
     "output_type": "stream",
     "text": [
      "Epoch 1/500\n",
      "165/165 [==============================] - 2s 5ms/step - loss: 92155.4844 - val_loss: 94690.8672\n",
      "Epoch 2/500\n",
      "165/165 [==============================] - 1s 4ms/step - loss: 83585.3750 - val_loss: 80765.0000\n",
      "Epoch 3/500\n",
      "165/165 [==============================] - 1s 5ms/step - loss: 72211.6719 - val_loss: 72735.0234\n",
      "Epoch 4/500\n",
      "165/165 [==============================] - 1s 5ms/step - loss: 67896.2109 - val_loss: 69852.9688\n",
      "Epoch 5/500\n",
      "165/165 [==============================] - 1s 5ms/step - loss: 65646.3047 - val_loss: 67613.3594\n",
      "Epoch 6/500\n",
      "165/165 [==============================] - 1s 6ms/step - loss: 63850.9414 - val_loss: 65889.4844\n",
      "Epoch 7/500\n",
      "165/165 [==============================] - 1s 5ms/step - loss: 62338.2852 - val_loss: 64462.8477\n",
      "Epoch 8/500\n",
      "165/165 [==============================] - 1s 5ms/step - loss: 61199.1172 - val_loss: 63141.9102\n",
      "Epoch 9/500\n",
      "165/165 [==============================] - 1s 5ms/step - loss: 60092.3984 - val_loss: 62071.0625\n",
      "Epoch 10/500\n",
      "165/165 [==============================] - 1s 5ms/step - loss: 59268.1328 - val_loss: 61016.3984\n",
      "Epoch 11/500\n",
      "165/165 [==============================] - 1s 5ms/step - loss: 58487.2734 - val_loss: 60166.2227\n",
      "Epoch 12/500\n",
      "165/165 [==============================] - 1s 5ms/step - loss: 57905.5430 - val_loss: 59508.4023\n",
      "Epoch 13/500\n",
      "165/165 [==============================] - 1s 5ms/step - loss: 57363.3477 - val_loss: 58926.2617\n",
      "Epoch 14/500\n",
      "165/165 [==============================] - 1s 5ms/step - loss: 56849.7734 - val_loss: 58368.1016\n",
      "Epoch 15/500\n",
      "165/165 [==============================] - 1s 5ms/step - loss: 56359.2344 - val_loss: 57865.3945\n",
      "Epoch 16/500\n",
      "165/165 [==============================] - 1s 5ms/step - loss: 56047.6523 - val_loss: 57391.5156\n",
      "Epoch 17/500\n",
      "165/165 [==============================] - 1s 5ms/step - loss: 55694.8555 - val_loss: 56963.2266\n",
      "Epoch 18/500\n",
      "165/165 [==============================] - 1s 5ms/step - loss: 55196.2227 - val_loss: 56487.4062\n",
      "Epoch 19/500\n",
      "165/165 [==============================] - 1s 5ms/step - loss: 54945.7539 - val_loss: 56039.8672\n",
      "Epoch 20/500\n",
      "165/165 [==============================] - 1s 5ms/step - loss: 54508.5312 - val_loss: 55625.5820\n",
      "Epoch 21/500\n",
      "165/165 [==============================] - 1s 5ms/step - loss: 53991.4961 - val_loss: 55220.3672\n",
      "Epoch 22/500\n",
      "165/165 [==============================] - 1s 5ms/step - loss: 53820.4766 - val_loss: 54830.2656\n",
      "Epoch 23/500\n",
      "165/165 [==============================] - 1s 5ms/step - loss: 53460.2969 - val_loss: 54440.0195\n",
      "Epoch 24/500\n",
      "165/165 [==============================] - 1s 5ms/step - loss: 53089.6641 - val_loss: 54070.1797\n",
      "Epoch 25/500\n",
      "165/165 [==============================] - 1s 5ms/step - loss: 52687.5234 - val_loss: 53718.8125\n",
      "Epoch 26/500\n",
      "165/165 [==============================] - 1s 5ms/step - loss: 52439.3750 - val_loss: 53342.0781\n",
      "Epoch 27/500\n",
      "165/165 [==============================] - 1s 5ms/step - loss: 52261.8594 - val_loss: 53013.2891\n",
      "Epoch 28/500\n",
      "165/165 [==============================] - 1s 5ms/step - loss: 51793.1562 - val_loss: 52661.6406\n",
      "Epoch 29/500\n",
      "165/165 [==============================] - 1s 5ms/step - loss: 51566.4531 - val_loss: 52304.0625\n",
      "Epoch 30/500\n",
      "165/165 [==============================] - 1s 5ms/step - loss: 51084.7227 - val_loss: 51993.6992\n",
      "Epoch 31/500\n",
      "165/165 [==============================] - 1s 5ms/step - loss: 50817.8672 - val_loss: 51683.8008\n",
      "Epoch 32/500\n",
      "165/165 [==============================] - 1s 5ms/step - loss: 50643.4023 - val_loss: 51372.0586\n",
      "Epoch 33/500\n",
      "165/165 [==============================] - 1s 5ms/step - loss: 50357.5938 - val_loss: 51091.5664\n",
      "Epoch 34/500\n",
      "165/165 [==============================] - 1s 5ms/step - loss: 50046.9102 - val_loss: 50828.3359\n",
      "Epoch 35/500\n",
      "165/165 [==============================] - 1s 5ms/step - loss: 49823.0586 - val_loss: 50539.2812\n",
      "Epoch 36/500\n",
      "165/165 [==============================] - 1s 5ms/step - loss: 49635.3203 - val_loss: 50312.9609\n",
      "Epoch 37/500\n",
      "165/165 [==============================] - 1s 5ms/step - loss: 49193.2266 - val_loss: 50057.5586\n",
      "Epoch 38/500\n",
      "165/165 [==============================] - 1s 5ms/step - loss: 49131.6055 - val_loss: 49826.9727\n",
      "Epoch 39/500\n",
      "165/165 [==============================] - 1s 5ms/step - loss: 48846.2617 - val_loss: 49588.6641\n",
      "Epoch 40/500\n",
      "165/165 [==============================] - 1s 5ms/step - loss: 48602.7891 - val_loss: 49376.3086\n",
      "Epoch 41/500\n",
      "165/165 [==============================] - 1s 5ms/step - loss: 48496.8398 - val_loss: 49164.5820\n",
      "Epoch 42/500\n",
      "165/165 [==============================] - 1s 5ms/step - loss: 48084.2891 - val_loss: 48952.8672\n",
      "Epoch 43/500\n",
      "165/165 [==============================] - 1s 5ms/step - loss: 48033.7031 - val_loss: 48758.9922\n",
      "Epoch 44/500\n",
      "165/165 [==============================] - 1s 5ms/step - loss: 47956.8242 - val_loss: 48556.1328\n",
      "Epoch 45/500\n",
      "165/165 [==============================] - 1s 5ms/step - loss: 47819.5273 - val_loss: 48401.7617\n",
      "Epoch 46/500\n",
      "165/165 [==============================] - 1s 5ms/step - loss: 47507.0977 - val_loss: 48218.3203\n",
      "Epoch 47/500\n",
      "165/165 [==============================] - 1s 5ms/step - loss: 47375.5078 - val_loss: 48034.8008\n",
      "Epoch 48/500\n",
      "165/165 [==============================] - 1s 5ms/step - loss: 47226.4141 - val_loss: 47859.2539\n",
      "Epoch 49/500\n",
      "165/165 [==============================] - 1s 5ms/step - loss: 46963.4258 - val_loss: 47672.9297\n",
      "Epoch 50/500\n",
      "165/165 [==============================] - 1s 5ms/step - loss: 46692.8164 - val_loss: 47531.9922\n",
      "Epoch 51/500\n",
      "165/165 [==============================] - 1s 5ms/step - loss: 46776.4062 - val_loss: 47361.1094\n",
      "Epoch 52/500\n",
      "165/165 [==============================] - 1s 5ms/step - loss: 46426.1953 - val_loss: 47204.9727\n",
      "Epoch 53/500\n",
      "165/165 [==============================] - 1s 5ms/step - loss: 46317.8164 - val_loss: 47067.8672\n",
      "Epoch 54/500\n",
      "165/165 [==============================] - 1s 5ms/step - loss: 46105.7500 - val_loss: 46911.9219\n",
      "Epoch 55/500\n",
      "165/165 [==============================] - 1s 5ms/step - loss: 46125.6758 - val_loss: 46746.8984\n",
      "Epoch 56/500\n",
      "165/165 [==============================] - 1s 5ms/step - loss: 46030.1641 - val_loss: 46625.2812\n",
      "Epoch 57/500\n",
      "165/165 [==============================] - 1s 5ms/step - loss: 45723.5273 - val_loss: 46525.5195\n",
      "Epoch 58/500\n",
      "165/165 [==============================] - 1s 5ms/step - loss: 45530.9219 - val_loss: 46396.0820\n",
      "Epoch 59/500\n",
      "165/165 [==============================] - 1s 5ms/step - loss: 45424.7461 - val_loss: 46267.0430\n",
      "Epoch 60/500\n",
      "165/165 [==============================] - 1s 5ms/step - loss: 45263.4180 - val_loss: 46116.4805\n",
      "Epoch 61/500\n",
      "165/165 [==============================] - 1s 5ms/step - loss: 45142.2188 - val_loss: 45986.9062\n",
      "Epoch 62/500\n",
      "165/165 [==============================] - 1s 5ms/step - loss: 44877.0664 - val_loss: 45898.9727\n",
      "Epoch 63/500\n",
      "165/165 [==============================] - 1s 5ms/step - loss: 44704.5078 - val_loss: 45787.2812\n",
      "Epoch 64/500\n",
      "165/165 [==============================] - 1s 5ms/step - loss: 44689.5586 - val_loss: 45664.6133\n",
      "Epoch 65/500\n",
      "165/165 [==============================] - 1s 5ms/step - loss: 44542.4102 - val_loss: 45568.3281\n",
      "Epoch 66/500\n",
      "165/165 [==============================] - 1s 5ms/step - loss: 44376.7969 - val_loss: 45444.7734\n",
      "Epoch 67/500\n",
      "165/165 [==============================] - 1s 5ms/step - loss: 44187.6445 - val_loss: 45340.8086\n",
      "Epoch 68/500\n",
      "165/165 [==============================] - 1s 5ms/step - loss: 43919.8125 - val_loss: 45210.2695\n",
      "Epoch 69/500\n",
      "165/165 [==============================] - 1s 5ms/step - loss: 43892.3711 - val_loss: 45134.1289\n",
      "Epoch 70/500\n",
      "165/165 [==============================] - 1s 5ms/step - loss: 43768.2266 - val_loss: 45011.3281\n",
      "Epoch 71/500\n",
      "165/165 [==============================] - 1s 5ms/step - loss: 43597.6367 - val_loss: 44906.7188\n",
      "Epoch 72/500\n",
      "165/165 [==============================] - 1s 5ms/step - loss: 43499.0469 - val_loss: 44807.6719\n",
      "Epoch 73/500\n",
      "165/165 [==============================] - 1s 5ms/step - loss: 43323.7773 - val_loss: 44652.1484\n",
      "Epoch 74/500\n",
      "165/165 [==============================] - 1s 5ms/step - loss: 43296.4922 - val_loss: 44524.5625\n",
      "Epoch 75/500\n",
      "165/165 [==============================] - 1s 5ms/step - loss: 42901.0664 - val_loss: 44447.4336\n",
      "Epoch 76/500\n",
      "165/165 [==============================] - 1s 5ms/step - loss: 42898.3516 - val_loss: 44287.1719\n",
      "Epoch 77/500\n",
      "165/165 [==============================] - 1s 5ms/step - loss: 42680.4648 - val_loss: 44183.9492\n",
      "Epoch 78/500\n",
      "165/165 [==============================] - 1s 5ms/step - loss: 42575.3633 - val_loss: 44050.0781\n",
      "Epoch 79/500\n",
      "165/165 [==============================] - 1s 5ms/step - loss: 42417.7773 - val_loss: 43939.2266\n",
      "Epoch 80/500\n",
      "165/165 [==============================] - 1s 5ms/step - loss: 42441.0117 - val_loss: 43851.5078\n",
      "Epoch 81/500\n",
      "165/165 [==============================] - 1s 5ms/step - loss: 42263.0977 - val_loss: 43753.8711\n",
      "Epoch 82/500\n",
      "165/165 [==============================] - 1s 5ms/step - loss: 42158.1055 - val_loss: 43611.7148\n",
      "Epoch 83/500\n",
      "165/165 [==============================] - 1s 5ms/step - loss: 41971.6758 - val_loss: 43507.9492\n",
      "Epoch 84/500\n",
      "165/165 [==============================] - 1s 5ms/step - loss: 41917.7969 - val_loss: 43362.8555\n",
      "Epoch 85/500\n",
      "165/165 [==============================] - 1s 5ms/step - loss: 41620.5625 - val_loss: 43254.8711\n",
      "Epoch 86/500\n",
      "165/165 [==============================] - 1s 5ms/step - loss: 41388.9531 - val_loss: 43110.4883\n",
      "Epoch 87/500\n",
      "165/165 [==============================] - 1s 5ms/step - loss: 41378.0586 - val_loss: 43010.0664\n",
      "Epoch 88/500\n",
      "165/165 [==============================] - 1s 5ms/step - loss: 41240.6875 - val_loss: 42884.2109\n",
      "Epoch 89/500\n",
      "165/165 [==============================] - 1s 5ms/step - loss: 41133.1172 - val_loss: 42751.7031\n",
      "Epoch 90/500\n",
      "165/165 [==============================] - 1s 5ms/step - loss: 41054.9375 - val_loss: 42643.3711\n",
      "Epoch 91/500\n",
      "165/165 [==============================] - 1s 5ms/step - loss: 40849.8516 - val_loss: 42510.0039\n",
      "Epoch 92/500\n",
      "165/165 [==============================] - 1s 5ms/step - loss: 40615.3281 - val_loss: 42380.1602\n",
      "Epoch 93/500\n",
      "165/165 [==============================] - 1s 5ms/step - loss: 40516.8945 - val_loss: 42306.6719\n",
      "Epoch 94/500\n",
      "165/165 [==============================] - 1s 5ms/step - loss: 40252.0117 - val_loss: 42162.6172\n",
      "Epoch 95/500\n",
      "165/165 [==============================] - 1s 5ms/step - loss: 40050.9609 - val_loss: 42054.1992\n",
      "Epoch 96/500\n",
      "165/165 [==============================] - 1s 5ms/step - loss: 40088.7695 - val_loss: 41916.0391\n",
      "Epoch 97/500\n",
      "165/165 [==============================] - 1s 5ms/step - loss: 39858.6367 - val_loss: 41840.7656\n",
      "Epoch 98/500\n",
      "165/165 [==============================] - 1s 5ms/step - loss: 39604.1406 - val_loss: 41672.1289\n",
      "Epoch 99/500\n",
      "165/165 [==============================] - 1s 5ms/step - loss: 39598.8164 - val_loss: 41546.4023\n",
      "Epoch 100/500\n",
      "165/165 [==============================] - 1s 5ms/step - loss: 39472.6172 - val_loss: 41468.5977\n",
      "Epoch 101/500\n",
      "165/165 [==============================] - 1s 5ms/step - loss: 39257.4180 - val_loss: 41356.1602\n",
      "Epoch 102/500\n",
      "165/165 [==============================] - 1s 5ms/step - loss: 39160.6523 - val_loss: 41201.0547\n",
      "Epoch 103/500\n",
      "165/165 [==============================] - 1s 5ms/step - loss: 39124.4844 - val_loss: 41059.4922\n",
      "Epoch 104/500\n",
      "165/165 [==============================] - 1s 5ms/step - loss: 38963.8438 - val_loss: 40960.1328\n",
      "Epoch 105/500\n",
      "165/165 [==============================] - 1s 5ms/step - loss: 38674.6016 - val_loss: 40861.2734\n",
      "Epoch 106/500\n",
      "165/165 [==============================] - 1s 5ms/step - loss: 38486.0938 - val_loss: 40706.6445\n",
      "Epoch 107/500\n",
      "165/165 [==============================] - 1s 5ms/step - loss: 38358.2109 - val_loss: 40630.3633\n",
      "Epoch 108/500\n",
      "165/165 [==============================] - 1s 5ms/step - loss: 38224.0430 - val_loss: 40473.6094\n",
      "Epoch 109/500\n",
      "165/165 [==============================] - 1s 5ms/step - loss: 37996.9570 - val_loss: 40369.7617\n",
      "Epoch 110/500\n",
      "165/165 [==============================] - 1s 5ms/step - loss: 37954.7383 - val_loss: 40267.1484\n",
      "Epoch 111/500\n",
      "165/165 [==============================] - 1s 5ms/step - loss: 37928.5977 - val_loss: 40211.4258\n",
      "Epoch 112/500\n",
      "165/165 [==============================] - 1s 5ms/step - loss: 37811.8906 - val_loss: 40037.6562\n",
      "Epoch 113/500\n",
      "165/165 [==============================] - 1s 5ms/step - loss: 37527.7578 - val_loss: 39958.8867\n",
      "Epoch 114/500\n",
      "165/165 [==============================] - 1s 5ms/step - loss: 37290.7305 - val_loss: 39905.5195\n",
      "Epoch 115/500\n",
      "165/165 [==============================] - 1s 5ms/step - loss: 37178.2070 - val_loss: 39742.7461\n",
      "Epoch 116/500\n",
      "165/165 [==============================] - 1s 5ms/step - loss: 37127.9531 - val_loss: 39585.0000\n",
      "Epoch 117/500\n",
      "165/165 [==============================] - 1s 5ms/step - loss: 36938.5703 - val_loss: 39493.2617\n",
      "Epoch 118/500\n",
      "165/165 [==============================] - 1s 5ms/step - loss: 36856.5195 - val_loss: 39483.9219\n",
      "Epoch 119/500\n",
      "165/165 [==============================] - 1s 5ms/step - loss: 36593.3477 - val_loss: 39293.3594\n",
      "Epoch 120/500\n",
      "165/165 [==============================] - 1s 5ms/step - loss: 36685.5703 - val_loss: 39173.3203\n",
      "Epoch 121/500\n",
      "165/165 [==============================] - 1s 5ms/step - loss: 36506.5469 - val_loss: 39145.0664\n",
      "Epoch 122/500\n",
      "165/165 [==============================] - 1s 5ms/step - loss: 36241.6914 - val_loss: 38970.5000\n",
      "Epoch 123/500\n",
      "165/165 [==============================] - 1s 5ms/step - loss: 36147.9922 - val_loss: 38872.3438\n",
      "Epoch 124/500\n",
      "165/165 [==============================] - 1s 5ms/step - loss: 36177.3906 - val_loss: 38754.1875\n",
      "Epoch 125/500\n",
      "165/165 [==============================] - 1s 5ms/step - loss: 35997.9102 - val_loss: 38663.3984\n",
      "Epoch 126/500\n",
      "165/165 [==============================] - 1s 5ms/step - loss: 35757.2305 - val_loss: 38546.5625\n",
      "Epoch 127/500\n",
      "165/165 [==============================] - 1s 5ms/step - loss: 35648.4375 - val_loss: 38467.6758\n",
      "Epoch 128/500\n",
      "165/165 [==============================] - 1s 5ms/step - loss: 35344.3281 - val_loss: 38434.6094\n",
      "Epoch 129/500\n",
      "165/165 [==============================] - 1s 5ms/step - loss: 35278.9180 - val_loss: 38437.0234\n",
      "Epoch 130/500\n",
      "165/165 [==============================] - 1s 5ms/step - loss: 35301.4023 - val_loss: 38281.0742\n",
      "Epoch 131/500\n",
      "165/165 [==============================] - 1s 5ms/step - loss: 35277.7695 - val_loss: 38238.6328\n",
      "Epoch 132/500\n",
      "165/165 [==============================] - 1s 5ms/step - loss: 35065.0352 - val_loss: 38137.9492\n",
      "Epoch 133/500\n",
      "165/165 [==============================] - 1s 5ms/step - loss: 35127.6875 - val_loss: 38046.1172\n",
      "Epoch 134/500\n",
      "165/165 [==============================] - 1s 5ms/step - loss: 34826.6250 - val_loss: 38064.1875\n",
      "Epoch 135/500\n",
      "165/165 [==============================] - 1s 5ms/step - loss: 34848.0625 - val_loss: 37957.1406\n",
      "Epoch 136/500\n",
      "165/165 [==============================] - 1s 5ms/step - loss: 34651.7422 - val_loss: 37955.7891\n",
      "Epoch 137/500\n",
      "165/165 [==============================] - 1s 5ms/step - loss: 34681.1328 - val_loss: 37795.7500\n",
      "Epoch 138/500\n",
      "165/165 [==============================] - 1s 5ms/step - loss: 34512.4766 - val_loss: 37724.9102\n",
      "Epoch 139/500\n",
      "165/165 [==============================] - 1s 5ms/step - loss: 34316.4844 - val_loss: 37591.2930\n",
      "Epoch 140/500\n",
      "165/165 [==============================] - 1s 5ms/step - loss: 34328.9453 - val_loss: 37535.5430\n",
      "Epoch 141/500\n",
      "165/165 [==============================] - 1s 5ms/step - loss: 34188.6602 - val_loss: 37654.2344\n",
      "Epoch 142/500\n",
      "165/165 [==============================] - 1s 5ms/step - loss: 34038.2617 - val_loss: 37588.9023\n",
      "Epoch 143/500\n",
      "165/165 [==============================] - 1s 5ms/step - loss: 34067.8750 - val_loss: 37493.6758\n",
      "Epoch 144/500\n",
      "165/165 [==============================] - 1s 5ms/step - loss: 33719.3359 - val_loss: 37398.8398\n",
      "Epoch 145/500\n",
      "165/165 [==============================] - 1s 5ms/step - loss: 33672.8477 - val_loss: 37393.4219\n",
      "Epoch 146/500\n",
      "165/165 [==============================] - 1s 5ms/step - loss: 33684.7227 - val_loss: 37265.0742\n",
      "Epoch 147/500\n",
      "165/165 [==============================] - 1s 5ms/step - loss: 33668.3438 - val_loss: 37306.5312\n",
      "Epoch 148/500\n",
      "165/165 [==============================] - 1s 5ms/step - loss: 33585.6445 - val_loss: 37193.3672\n",
      "Epoch 149/500\n"
     ]
    },
    {
     "name": "stdout",
     "output_type": "stream",
     "text": [
      "165/165 [==============================] - 1s 5ms/step - loss: 33443.0391 - val_loss: 37201.7617\n",
      "Epoch 150/500\n",
      "165/165 [==============================] - 1s 5ms/step - loss: 33254.0820 - val_loss: 37174.9883\n",
      "Epoch 151/500\n",
      "165/165 [==============================] - 1s 5ms/step - loss: 33311.5859 - val_loss: 37118.9180\n",
      "Epoch 152/500\n",
      "165/165 [==============================] - 1s 5ms/step - loss: 33299.5742 - val_loss: 37116.0977\n",
      "Epoch 153/500\n",
      "165/165 [==============================] - 1s 5ms/step - loss: 33037.7344 - val_loss: 37043.0703\n",
      "Epoch 154/500\n",
      "165/165 [==============================] - 1s 5ms/step - loss: 33034.5508 - val_loss: 36984.2617\n",
      "Epoch 155/500\n",
      "165/165 [==============================] - 1s 5ms/step - loss: 32933.9453 - val_loss: 36986.4492\n",
      "Epoch 156/500\n",
      "165/165 [==============================] - 1s 5ms/step - loss: 32893.7734 - val_loss: 37005.8242\n",
      "Epoch 157/500\n",
      "165/165 [==============================] - 1s 5ms/step - loss: 32914.6172 - val_loss: 36970.2266\n",
      "Epoch 158/500\n",
      "165/165 [==============================] - 1s 5ms/step - loss: 32745.3066 - val_loss: 36913.9805\n",
      "Epoch 159/500\n",
      "165/165 [==============================] - 1s 5ms/step - loss: 32720.3164 - val_loss: 36847.7656\n",
      "Epoch 160/500\n",
      "165/165 [==============================] - 1s 5ms/step - loss: 32677.3359 - val_loss: 36768.3867\n",
      "Epoch 161/500\n",
      "165/165 [==============================] - 1s 5ms/step - loss: 32572.4961 - val_loss: 36832.3867\n",
      "Epoch 162/500\n",
      "165/165 [==============================] - 1s 5ms/step - loss: 32457.8008 - val_loss: 36780.2383\n",
      "Epoch 163/500\n",
      "165/165 [==============================] - 1s 5ms/step - loss: 32372.1562 - val_loss: 36723.6914\n",
      "Epoch 164/500\n",
      "165/165 [==============================] - 1s 5ms/step - loss: 32237.5684 - val_loss: 36688.7734\n",
      "Epoch 165/500\n",
      "165/165 [==============================] - 1s 5ms/step - loss: 32352.4727 - val_loss: 36647.3750\n",
      "Epoch 166/500\n",
      "165/165 [==============================] - 1s 5ms/step - loss: 32045.0430 - val_loss: 36597.1875\n",
      "Epoch 167/500\n",
      "165/165 [==============================] - 1s 5ms/step - loss: 32071.4629 - val_loss: 36642.5859\n",
      "Epoch 168/500\n",
      "165/165 [==============================] - 1s 5ms/step - loss: 32048.3262 - val_loss: 36629.4688\n",
      "Epoch 169/500\n",
      "165/165 [==============================] - 1s 5ms/step - loss: 31994.6914 - val_loss: 36538.5625\n",
      "Epoch 170/500\n",
      "165/165 [==============================] - 1s 5ms/step - loss: 31961.7363 - val_loss: 36541.5547\n",
      "Epoch 171/500\n",
      "165/165 [==============================] - 1s 5ms/step - loss: 31896.3223 - val_loss: 36456.5938\n",
      "Epoch 172/500\n",
      "165/165 [==============================] - 1s 5ms/step - loss: 31771.2793 - val_loss: 36554.7383\n",
      "Epoch 173/500\n",
      "165/165 [==============================] - 1s 5ms/step - loss: 31764.6230 - val_loss: 36526.5078\n",
      "Epoch 174/500\n",
      "165/165 [==============================] - 1s 5ms/step - loss: 31661.9863 - val_loss: 36466.6562\n",
      "Epoch 175/500\n",
      "165/165 [==============================] - 1s 5ms/step - loss: 31555.3984 - val_loss: 36369.6797\n",
      "Epoch 176/500\n",
      "165/165 [==============================] - 1s 5ms/step - loss: 31610.7480 - val_loss: 36337.8672\n",
      "Epoch 177/500\n",
      "165/165 [==============================] - 1s 5ms/step - loss: 31457.4043 - val_loss: 36356.7812\n",
      "Epoch 178/500\n",
      "165/165 [==============================] - 1s 5ms/step - loss: 31368.9805 - val_loss: 36248.4336\n",
      "Epoch 179/500\n",
      "165/165 [==============================] - 1s 5ms/step - loss: 31325.2090 - val_loss: 36239.0312\n",
      "Epoch 180/500\n",
      "165/165 [==============================] - 1s 5ms/step - loss: 31164.6016 - val_loss: 36253.2461\n",
      "Epoch 181/500\n",
      "165/165 [==============================] - 1s 5ms/step - loss: 31336.8965 - val_loss: 36229.2461\n",
      "Epoch 182/500\n",
      "165/165 [==============================] - 1s 5ms/step - loss: 31205.7266 - val_loss: 36216.6875\n",
      "Epoch 183/500\n",
      "165/165 [==============================] - 1s 5ms/step - loss: 31081.7637 - val_loss: 36206.7500\n",
      "Epoch 184/500\n",
      "165/165 [==============================] - 1s 5ms/step - loss: 31094.8691 - val_loss: 36149.5195\n",
      "Epoch 185/500\n",
      "165/165 [==============================] - 1s 5ms/step - loss: 31075.7852 - val_loss: 36140.6602\n",
      "Epoch 186/500\n",
      "165/165 [==============================] - 1s 5ms/step - loss: 31062.9297 - val_loss: 36144.0508\n",
      "Epoch 187/500\n",
      "165/165 [==============================] - 1s 5ms/step - loss: 30911.8848 - val_loss: 36053.8438\n",
      "Epoch 188/500\n",
      "165/165 [==============================] - 1s 5ms/step - loss: 31114.8535 - val_loss: 36007.2969\n",
      "Epoch 189/500\n",
      "165/165 [==============================] - 1s 5ms/step - loss: 30714.3809 - val_loss: 36067.7812\n",
      "Epoch 190/500\n",
      "165/165 [==============================] - 1s 5ms/step - loss: 30751.8438 - val_loss: 35987.4609\n",
      "Epoch 191/500\n",
      "165/165 [==============================] - 1s 5ms/step - loss: 30877.9336 - val_loss: 36066.3516\n",
      "Epoch 192/500\n",
      "165/165 [==============================] - 1s 5ms/step - loss: 30637.7012 - val_loss: 35959.1445\n",
      "Epoch 193/500\n",
      "165/165 [==============================] - 1s 4ms/step - loss: 30694.8672 - val_loss: 35982.2539\n",
      "Epoch 194/500\n",
      "165/165 [==============================] - 1s 5ms/step - loss: 30655.3965 - val_loss: 35929.7422\n",
      "Epoch 195/500\n",
      "165/165 [==============================] - 1s 5ms/step - loss: 30469.0039 - val_loss: 35950.5234\n",
      "Epoch 196/500\n",
      "165/165 [==============================] - 1s 5ms/step - loss: 30453.1816 - val_loss: 35888.9727\n",
      "Epoch 197/500\n",
      "165/165 [==============================] - 1s 5ms/step - loss: 30362.0625 - val_loss: 35940.2891\n",
      "Epoch 198/500\n",
      "165/165 [==============================] - 1s 4ms/step - loss: 30427.4902 - val_loss: 35888.1562\n",
      "Epoch 199/500\n",
      "165/165 [==============================] - 1s 5ms/step - loss: 30316.6211 - val_loss: 35933.6719\n",
      "Epoch 200/500\n",
      "165/165 [==============================] - 1s 4ms/step - loss: 30256.6914 - val_loss: 35831.2891\n",
      "Epoch 201/500\n",
      "165/165 [==============================] - 1s 4ms/step - loss: 30295.1836 - val_loss: 35771.7812\n",
      "Epoch 202/500\n",
      "165/165 [==============================] - 1s 4ms/step - loss: 30156.4980 - val_loss: 35820.3281\n",
      "Epoch 203/500\n",
      "165/165 [==============================] - 1s 5ms/step - loss: 30008.2383 - val_loss: 35765.2148\n",
      "Epoch 204/500\n",
      "165/165 [==============================] - 1s 5ms/step - loss: 30044.7207 - val_loss: 35849.7617\n",
      "Epoch 205/500\n",
      "165/165 [==============================] - 1s 4ms/step - loss: 30070.4570 - val_loss: 35792.5391\n",
      "Epoch 206/500\n",
      "165/165 [==============================] - 1s 5ms/step - loss: 29904.6621 - val_loss: 35656.1875\n",
      "Epoch 207/500\n",
      "165/165 [==============================] - 1s 4ms/step - loss: 29839.9297 - val_loss: 35657.1836\n",
      "Epoch 208/500\n",
      "165/165 [==============================] - 1s 5ms/step - loss: 30080.4336 - val_loss: 35628.7930\n",
      "Epoch 209/500\n",
      "165/165 [==============================] - 1s 4ms/step - loss: 29897.9102 - val_loss: 35683.5547\n",
      "Epoch 210/500\n",
      "165/165 [==============================] - 1s 5ms/step - loss: 29814.7773 - val_loss: 35600.8203\n",
      "Epoch 211/500\n",
      "165/165 [==============================] - 1s 4ms/step - loss: 29692.8887 - val_loss: 35561.4727\n",
      "Epoch 212/500\n",
      "165/165 [==============================] - 1s 4ms/step - loss: 29619.9062 - val_loss: 35499.1797\n",
      "Epoch 213/500\n",
      "165/165 [==============================] - 1s 5ms/step - loss: 29612.4121 - val_loss: 35582.3008\n",
      "Epoch 214/500\n",
      "165/165 [==============================] - 1s 5ms/step - loss: 29670.0898 - val_loss: 35546.7930\n",
      "Epoch 215/500\n",
      "165/165 [==============================] - 1s 5ms/step - loss: 29676.7168 - val_loss: 35486.2461\n",
      "Epoch 216/500\n",
      "165/165 [==============================] - 1s 4ms/step - loss: 29619.8438 - val_loss: 35504.1602\n",
      "Epoch 217/500\n",
      "165/165 [==============================] - 1s 5ms/step - loss: 29513.7129 - val_loss: 35491.1328\n",
      "Epoch 218/500\n",
      "165/165 [==============================] - 1s 4ms/step - loss: 29465.3770 - val_loss: 35385.4961\n",
      "Epoch 219/500\n",
      "165/165 [==============================] - 1s 4ms/step - loss: 29477.6133 - val_loss: 35339.5000\n",
      "Epoch 220/500\n",
      "165/165 [==============================] - 1s 4ms/step - loss: 29318.6621 - val_loss: 35431.6641\n",
      "Epoch 221/500\n",
      "165/165 [==============================] - 1s 4ms/step - loss: 29443.6562 - val_loss: 35380.4023\n",
      "Epoch 222/500\n",
      "165/165 [==============================] - 1s 5ms/step - loss: 29262.1348 - val_loss: 35379.6016\n"
     ]
    },
    {
     "name": "stdout",
     "output_type": "stream",
     "text": [
      "Epoch 223/500\n",
      "165/165 [==============================] - 1s 5ms/step - loss: 29263.5059 - val_loss: 35345.6602\n",
      "Epoch 224/500\n",
      "165/165 [==============================] - 1s 5ms/step - loss: 29269.7227 - val_loss: 35320.1992\n",
      "Epoch 225/500\n",
      "165/165 [==============================] - 1s 5ms/step - loss: 29230.9922 - val_loss: 35268.7148\n",
      "Epoch 226/500\n",
      "165/165 [==============================] - 1s 5ms/step - loss: 29119.6504 - val_loss: 35268.5273\n",
      "Epoch 227/500\n",
      "165/165 [==============================] - 1s 5ms/step - loss: 29199.5879 - val_loss: 35268.6094\n",
      "Epoch 228/500\n",
      "165/165 [==============================] - 1s 5ms/step - loss: 29001.3438 - val_loss: 35271.4219\n",
      "Epoch 229/500\n",
      "165/165 [==============================] - 1s 5ms/step - loss: 29011.1973 - val_loss: 35242.4375\n",
      "Epoch 230/500\n",
      "165/165 [==============================] - 1s 5ms/step - loss: 29029.0684 - val_loss: 35409.3828\n",
      "Epoch 231/500\n",
      "165/165 [==============================] - 1s 5ms/step - loss: 28758.0254 - val_loss: 35335.3867\n",
      "Epoch 232/500\n",
      "165/165 [==============================] - 1s 5ms/step - loss: 28987.1309 - val_loss: 35238.8086\n",
      "Epoch 233/500\n",
      "165/165 [==============================] - 1s 5ms/step - loss: 28859.9141 - val_loss: 35303.1758\n",
      "Epoch 234/500\n",
      "165/165 [==============================] - 1s 5ms/step - loss: 28911.6562 - val_loss: 35199.0547\n",
      "Epoch 235/500\n",
      "165/165 [==============================] - 1s 5ms/step - loss: 28836.7695 - val_loss: 35250.9805\n",
      "Epoch 236/500\n",
      "165/165 [==============================] - 1s 5ms/step - loss: 28771.3926 - val_loss: 35160.6758\n",
      "Epoch 237/500\n",
      "165/165 [==============================] - 1s 5ms/step - loss: 28650.1973 - val_loss: 35219.6523\n",
      "Epoch 238/500\n",
      "165/165 [==============================] - 1s 5ms/step - loss: 28673.4531 - val_loss: 35183.3320\n",
      "Epoch 239/500\n",
      "165/165 [==============================] - 1s 5ms/step - loss: 28616.8535 - val_loss: 35229.3672\n",
      "Epoch 240/500\n",
      "165/165 [==============================] - 1s 5ms/step - loss: 28446.5059 - val_loss: 35127.0977\n",
      "Epoch 241/500\n",
      "165/165 [==============================] - 1s 5ms/step - loss: 28608.3164 - val_loss: 35102.8945\n",
      "Epoch 242/500\n",
      "165/165 [==============================] - 1s 5ms/step - loss: 28373.7637 - val_loss: 35097.9141\n",
      "Epoch 243/500\n",
      "165/165 [==============================] - 1s 5ms/step - loss: 28475.5840 - val_loss: 35111.8438\n",
      "Epoch 244/500\n",
      "165/165 [==============================] - 1s 4ms/step - loss: 28316.5137 - val_loss: 35046.3398\n",
      "Epoch 245/500\n",
      "165/165 [==============================] - 1s 4ms/step - loss: 28395.8770 - val_loss: 35119.0508\n",
      "Epoch 246/500\n",
      "165/165 [==============================] - 1s 5ms/step - loss: 28310.6387 - val_loss: 35064.8203\n",
      "Epoch 247/500\n",
      "165/165 [==============================] - 1s 4ms/step - loss: 28266.2637 - val_loss: 35113.0781\n",
      "Epoch 248/500\n",
      "165/165 [==============================] - 1s 4ms/step - loss: 28162.9766 - val_loss: 35165.9141\n",
      "Epoch 249/500\n",
      "165/165 [==============================] - 1s 5ms/step - loss: 28308.9316 - val_loss: 35006.2734\n",
      "Epoch 250/500\n",
      "165/165 [==============================] - 1s 5ms/step - loss: 28219.5117 - val_loss: 35028.7617\n",
      "Epoch 251/500\n",
      "165/165 [==============================] - 1s 5ms/step - loss: 28246.7754 - val_loss: 35002.8438\n",
      "Epoch 252/500\n",
      "165/165 [==============================] - 1s 5ms/step - loss: 28098.3457 - val_loss: 34955.0312\n",
      "Epoch 253/500\n",
      "165/165 [==============================] - 1s 4ms/step - loss: 28141.7012 - val_loss: 35082.4609\n",
      "Epoch 254/500\n",
      "165/165 [==============================] - 1s 5ms/step - loss: 28083.1719 - val_loss: 34961.4609\n",
      "Epoch 255/500\n",
      "165/165 [==============================] - 1s 5ms/step - loss: 27865.4727 - val_loss: 35043.8125\n",
      "Epoch 256/500\n",
      "165/165 [==============================] - 1s 5ms/step - loss: 27883.6504 - val_loss: 34953.1719\n",
      "Epoch 257/500\n",
      "165/165 [==============================] - 1s 5ms/step - loss: 27786.4199 - val_loss: 34954.6641\n",
      "Epoch 258/500\n",
      "165/165 [==============================] - 1s 5ms/step - loss: 27791.0859 - val_loss: 34960.0742\n",
      "Epoch 259/500\n",
      "165/165 [==============================] - 1s 5ms/step - loss: 27923.7520 - val_loss: 34931.2344\n",
      "Epoch 260/500\n",
      "165/165 [==============================] - 1s 5ms/step - loss: 27786.3320 - val_loss: 34898.4844\n",
      "Epoch 261/500\n",
      "165/165 [==============================] - 1s 5ms/step - loss: 27831.1562 - val_loss: 34916.6133\n",
      "Epoch 262/500\n",
      "165/165 [==============================] - 1s 5ms/step - loss: 27734.8789 - val_loss: 35060.2422\n",
      "Epoch 263/500\n",
      "165/165 [==============================] - 1s 5ms/step - loss: 27804.3926 - val_loss: 34967.6719\n",
      "Epoch 264/500\n",
      "165/165 [==============================] - 1s 5ms/step - loss: 27621.9512 - val_loss: 34883.6328\n",
      "Epoch 265/500\n",
      "165/165 [==============================] - 1s 5ms/step - loss: 27675.9902 - val_loss: 34840.6172\n",
      "Epoch 266/500\n",
      "165/165 [==============================] - 1s 5ms/step - loss: 27505.5508 - val_loss: 34816.1289\n",
      "Epoch 267/500\n",
      "165/165 [==============================] - 1s 5ms/step - loss: 27621.3672 - val_loss: 34786.0977\n",
      "Epoch 268/500\n",
      "165/165 [==============================] - 1s 5ms/step - loss: 27605.5137 - val_loss: 34831.0938\n",
      "Epoch 269/500\n",
      "165/165 [==============================] - 1s 5ms/step - loss: 27449.5605 - val_loss: 34796.1523\n",
      "Epoch 270/500\n",
      "165/165 [==============================] - 1s 5ms/step - loss: 27475.5938 - val_loss: 34813.4727\n",
      "Epoch 271/500\n",
      "165/165 [==============================] - 1s 5ms/step - loss: 27292.6699 - val_loss: 34779.2930\n",
      "Epoch 272/500\n",
      "165/165 [==============================] - 1s 5ms/step - loss: 27293.9277 - val_loss: 34747.0469\n",
      "Epoch 273/500\n",
      "165/165 [==============================] - 1s 5ms/step - loss: 27205.4453 - val_loss: 34833.9453\n",
      "Epoch 274/500\n",
      "165/165 [==============================] - 1s 5ms/step - loss: 27287.7402 - val_loss: 34704.2891\n",
      "Epoch 275/500\n",
      "165/165 [==============================] - 1s 5ms/step - loss: 27225.8809 - val_loss: 34816.6445\n",
      "Epoch 276/500\n",
      "165/165 [==============================] - 1s 5ms/step - loss: 27203.2969 - val_loss: 34725.6445\n",
      "Epoch 277/500\n",
      "165/165 [==============================] - 1s 5ms/step - loss: 27249.1973 - val_loss: 34749.1172\n",
      "Epoch 278/500\n",
      "165/165 [==============================] - 1s 4ms/step - loss: 27080.8984 - val_loss: 34772.5742\n",
      "Epoch 279/500\n",
      "165/165 [==============================] - 1s 5ms/step - loss: 27080.3652 - val_loss: 34744.8359\n",
      "Epoch 280/500\n",
      "165/165 [==============================] - 1s 5ms/step - loss: 27038.4512 - val_loss: 34780.0977\n",
      "Epoch 281/500\n",
      "165/165 [==============================] - 1s 5ms/step - loss: 27040.0117 - val_loss: 34816.0664\n",
      "Epoch 282/500\n",
      "165/165 [==============================] - 1s 5ms/step - loss: 27090.2500 - val_loss: 34873.4844\n",
      "Epoch 283/500\n",
      "165/165 [==============================] - 1s 4ms/step - loss: 27018.9746 - val_loss: 34732.7344\n",
      "Epoch 284/500\n",
      "165/165 [==============================] - 1s 5ms/step - loss: 27107.7324 - val_loss: 34656.8984\n",
      "Epoch 285/500\n",
      "165/165 [==============================] - 1s 5ms/step - loss: 26891.0293 - val_loss: 34650.7188\n",
      "Epoch 286/500\n",
      "165/165 [==============================] - 1s 5ms/step - loss: 26779.6504 - val_loss: 34656.5586\n",
      "Epoch 287/500\n",
      "165/165 [==============================] - 1s 5ms/step - loss: 26774.1992 - val_loss: 34670.9453\n",
      "Epoch 288/500\n",
      "165/165 [==============================] - 1s 5ms/step - loss: 26935.6426 - val_loss: 34635.6914\n",
      "Epoch 289/500\n",
      "165/165 [==============================] - 1s 5ms/step - loss: 26845.8613 - val_loss: 34677.1172\n",
      "Epoch 290/500\n",
      "165/165 [==============================] - 1s 5ms/step - loss: 26624.5508 - val_loss: 34658.6719\n",
      "Epoch 291/500\n",
      "165/165 [==============================] - 1s 4ms/step - loss: 26750.8203 - val_loss: 34620.0312\n",
      "Epoch 292/500\n",
      "165/165 [==============================] - 1s 5ms/step - loss: 26756.8633 - val_loss: 34639.8516\n",
      "Epoch 293/500\n",
      "165/165 [==============================] - 1s 5ms/step - loss: 26752.2109 - val_loss: 34732.8633\n",
      "Epoch 294/500\n",
      "165/165 [==============================] - 1s 4ms/step - loss: 26705.0781 - val_loss: 34703.9141\n",
      "Epoch 295/500\n",
      "165/165 [==============================] - 1s 5ms/step - loss: 26551.5469 - val_loss: 34696.1523\n",
      "Epoch 296/500\n",
      "165/165 [==============================] - 1s 4ms/step - loss: 26536.0527 - val_loss: 34675.9453\n"
     ]
    },
    {
     "name": "stdout",
     "output_type": "stream",
     "text": [
      "Epoch 297/500\n",
      "165/165 [==============================] - 1s 5ms/step - loss: 26672.0586 - val_loss: 34665.3047\n",
      "Epoch 298/500\n",
      "165/165 [==============================] - 1s 5ms/step - loss: 26456.2617 - val_loss: 34677.2812\n",
      "Epoch 299/500\n",
      "165/165 [==============================] - 1s 5ms/step - loss: 26618.5605 - val_loss: 34694.2188\n",
      "Epoch 300/500\n",
      "165/165 [==============================] - 1s 5ms/step - loss: 26427.9824 - val_loss: 34769.8516\n",
      "Epoch 301/500\n",
      "165/165 [==============================] - 1s 5ms/step - loss: 26253.9375 - val_loss: 34628.7734\n",
      "Epoch 301: early stopping\n"
     ]
    },
    {
     "data": {
      "text/plain": [
       "<keras.callbacks.History at 0x1c5c5e3e310>"
      ]
     },
     "execution_count": 240,
     "metadata": {},
     "output_type": "execute_result"
    }
   ],
   "source": [
    "model_3.fit(x=X_train,y=y_train,epochs=500,validation_data=(X_test,y_test),callbacks=early_stop)"
   ]
  },
  {
   "cell_type": "code",
   "execution_count": 241,
   "id": "591ef465",
   "metadata": {},
   "outputs": [],
   "source": [
    "model_3_loss = pd.DataFrame(model_3.history.history)"
   ]
  },
  {
   "cell_type": "code",
   "execution_count": 242,
   "id": "3e3bd907",
   "metadata": {},
   "outputs": [
    {
     "data": {
      "text/plain": [
       "<AxesSubplot:>"
      ]
     },
     "execution_count": 242,
     "metadata": {},
     "output_type": "execute_result"
    },
    {
     "data": {
      "image/png": "[encoded data removed]",
      "text/plain": [
       "<Figure size 432x288 with 1 Axes>"
      ]
     },
     "metadata": {
      "needs_background": "light"
     },
     "output_type": "display_data"
    }
   ],
   "source": [
    "model_3_loss.plot()"
   ]
  },
  {
   "cell_type": "code",
   "execution_count": 243,
   "id": "5969e6a4",
   "metadata": {},
   "outputs": [],
   "source": [
    "pred_3 = model_3.predict(X_test)"
   ]
  },
  {
   "cell_type": "code",
   "execution_count": 244,
   "id": "953bfe74",
   "metadata": {},
   "outputs": [
    {
     "name": "stdout",
     "output_type": "stream",
     "text": [
      "tf.Tensor(34628.77, shape=(), dtype=float32)\n",
      "tf.Tensor(10111264000.0, shape=(), dtype=float32)\n"
     ]
    }
   ],
   "source": [
    "mae_3 = mae(y_test,pred_3)\n",
    "print(mae_3)\n",
    "mse_3 = mse(y_test,pred_3)\n",
    "print(mse_3)"
   ]
  },
  {
   "cell_type": "code",
   "execution_count": 237,
   "id": "fadcbe3a",
   "metadata": {
    "collapsed": true
   },
   "outputs": [
    {
     "ename": "NameError",
     "evalue": "name 'Dropout' is not defined",
     "output_type": "error",
     "traceback": [
      "\u001b[1;31m---------------------------------------------------------------------------\u001b[0m",
      "\u001b[1;31mNameError\u001b[0m                                 Traceback (most recent call last)",
      "\u001b[1;32m<ipython-input-237-3fffbe7d4d8d>\u001b[0m in \u001b[0;36m<module>\u001b[1;34m\u001b[0m\n\u001b[0;32m      5\u001b[0m \u001b[0mmodel_4\u001b[0m\u001b[1;33m.\u001b[0m\u001b[0madd\u001b[0m\u001b[1;33m(\u001b[0m\u001b[0mDense\u001b[0m\u001b[1;33m(\u001b[0m\u001b[1;36m121\u001b[0m\u001b[1;33m,\u001b[0m \u001b[0mactivation\u001b[0m\u001b[1;33m=\u001b[0m\u001b[1;34m'relu'\u001b[0m\u001b[1;33m)\u001b[0m\u001b[1;33m)\u001b[0m\u001b[1;33m\u001b[0m\u001b[1;33m\u001b[0m\u001b[0m\n\u001b[0;32m      6\u001b[0m \u001b[0mmodel_4\u001b[0m\u001b[1;33m.\u001b[0m\u001b[0madd\u001b[0m\u001b[1;33m(\u001b[0m\u001b[0mDense\u001b[0m\u001b[1;33m(\u001b[0m\u001b[1;36m121\u001b[0m\u001b[1;33m,\u001b[0m \u001b[0mactivation\u001b[0m\u001b[1;33m=\u001b[0m\u001b[1;34m'relu'\u001b[0m\u001b[1;33m)\u001b[0m\u001b[1;33m)\u001b[0m\u001b[1;33m\u001b[0m\u001b[1;33m\u001b[0m\u001b[0m\n\u001b[1;32m----> 7\u001b[1;33m \u001b[0mmodel_4\u001b[0m\u001b[1;33m.\u001b[0m\u001b[0madd\u001b[0m\u001b[1;33m(\u001b[0m\u001b[0mDropout\u001b[0m\u001b[1;33m(\u001b[0m\u001b[1;36m0.3\u001b[0m\u001b[1;33m)\u001b[0m\u001b[1;33m)\u001b[0m\u001b[1;33m\u001b[0m\u001b[1;33m\u001b[0m\u001b[0m\n\u001b[0m\u001b[0;32m      8\u001b[0m \u001b[1;33m\u001b[0m\u001b[0m\n\u001b[0;32m      9\u001b[0m \u001b[1;33m\u001b[0m\u001b[0m\n",
      "\u001b[1;31mNameError\u001b[0m: name 'Dropout' is not defined"
     ]
    }
   ],
   "source": [
    "# CHANGE THE OPTIMIZER TO SGD TO ORIGINAL MODEL\n",
    "\n",
    "model_4 = Sequential()\n",
    "\n",
    "model_4.add(Dense(121, activation='relu'))\n",
    "model_4.add(Dense(121, activation='relu'))\n",
    "\n",
    "model_4.add(Dense(1))\n",
    "\n",
    "model_4.compile(optimizer='sgd',loss='mae')"
   ]
  },
  {
   "cell_type": "code",
   "execution_count": 220,
   "id": "d1476996",
   "metadata": {
    "scrolled": true
   },
   "outputs": [
    {
     "name": "stdout",
     "output_type": "stream",
     "text": [
      "Epoch 1/500\n",
      "165/165 [==============================] - 1s 4ms/step - loss: 78719.4062 - val_loss: 158368.8906\n",
      "Epoch 2/500\n",
      "165/165 [==============================] - 1s 4ms/step - loss: 60258.4492 - val_loss: 52109.4219\n",
      "Epoch 3/500\n",
      "165/165 [==============================] - 1s 4ms/step - loss: 56848.9805 - val_loss: 55797.2227\n",
      "Epoch 4/500\n",
      "165/165 [==============================] - 1s 4ms/step - loss: 52944.3906 - val_loss: 76416.5781\n",
      "Epoch 5/500\n",
      "165/165 [==============================] - 1s 3ms/step - loss: 53612.9766 - val_loss: 71095.3984\n",
      "Epoch 6/500\n",
      "165/165 [==============================] - 1s 4ms/step - loss: 48771.7383 - val_loss: 69676.7266\n",
      "Epoch 7/500\n",
      "165/165 [==============================] - 1s 3ms/step - loss: 48902.0195 - val_loss: 44835.2109\n",
      "Epoch 8/500\n",
      "165/165 [==============================] - 1s 3ms/step - loss: 46205.3984 - val_loss: 125076.3672\n",
      "Epoch 9/500\n",
      "165/165 [==============================] - 1s 3ms/step - loss: 47609.9180 - val_loss: 91405.9766\n",
      "Epoch 10/500\n",
      "165/165 [==============================] - 1s 4ms/step - loss: 47200.1250 - val_loss: 803078.6875\n",
      "Epoch 11/500\n",
      "165/165 [==============================] - 1s 3ms/step - loss: 52594.0859 - val_loss: 136974.1875\n",
      "Epoch 12/500\n",
      "165/165 [==============================] - 1s 4ms/step - loss: 46139.6133 - val_loss: 103146.1797\n",
      "Epoch 13/500\n",
      "165/165 [==============================] - 1s 3ms/step - loss: 45351.0039 - val_loss: 47232.6289\n",
      "Epoch 14/500\n",
      "165/165 [==============================] - 1s 3ms/step - loss: 43939.0156 - val_loss: 68600.9219\n",
      "Epoch 15/500\n",
      "165/165 [==============================] - 1s 4ms/step - loss: 43439.2773 - val_loss: 49665.3750\n",
      "Epoch 16/500\n",
      "165/165 [==============================] - 1s 3ms/step - loss: 43868.3789 - val_loss: 65663.8594\n",
      "Epoch 17/500\n",
      "165/165 [==============================] - 1s 3ms/step - loss: 41023.0664 - val_loss: 42900.5977\n",
      "Epoch 18/500\n",
      "165/165 [==============================] - 1s 3ms/step - loss: 40620.9531 - val_loss: 80329.0078\n",
      "Epoch 19/500\n",
      "165/165 [==============================] - 1s 3ms/step - loss: 41605.0547 - val_loss: 397466.4375\n",
      "Epoch 20/500\n",
      "165/165 [==============================] - 1s 3ms/step - loss: 44433.5742 - val_loss: 84109.0625\n",
      "Epoch 21/500\n",
      "165/165 [==============================] - 1s 4ms/step - loss: 43684.8516 - val_loss: 43348.0547\n",
      "Epoch 22/500\n",
      "165/165 [==============================] - 1s 4ms/step - loss: 39597.6914 - val_loss: 94412.3594\n",
      "Epoch 23/500\n",
      "165/165 [==============================] - 1s 3ms/step - loss: 42357.9180 - val_loss: 46772.0977\n",
      "Epoch 24/500\n",
      "165/165 [==============================] - 1s 4ms/step - loss: 39099.1758 - val_loss: 54439.0312\n",
      "Epoch 25/500\n",
      "165/165 [==============================] - 1s 3ms/step - loss: 39386.3906 - val_loss: 55971.3047\n",
      "Epoch 26/500\n",
      "165/165 [==============================] - 1s 3ms/step - loss: 40149.8594 - val_loss: 45496.7734\n",
      "Epoch 27/500\n",
      "165/165 [==============================] - 1s 3ms/step - loss: 39041.3789 - val_loss: 45051.1602\n",
      "Epoch 27: early stopping\n"
     ]
    },
    {
     "data": {
      "text/plain": [
       "<keras.callbacks.History at 0x1c5bb2a0370>"
      ]
     },
     "execution_count": 220,
     "metadata": {},
     "output_type": "execute_result"
    }
   ],
   "source": [
    "model_4.fit(x=X_train,y=y_train,epochs=500,validation_data=(X_test,y_test),callbacks=early_stop)"
   ]
  },
  {
   "cell_type": "code",
   "execution_count": 221,
   "id": "423b1fdb",
   "metadata": {},
   "outputs": [],
   "source": [
    "model_4_loss = pd.DataFrame(model_4.history.history)"
   ]
  },
  {
   "cell_type": "code",
   "execution_count": 222,
   "id": "faf1c25d",
   "metadata": {},
   "outputs": [
    {
     "data": {
      "text/plain": [
       "<AxesSubplot:>"
      ]
     },
     "execution_count": 222,
     "metadata": {},
     "output_type": "execute_result"
    },
    {
     "data": {
      "image/png": "[encoded data removed]",
      "text/plain": [
       "<Figure size 432x288 with 1 Axes>"
      ]
     },
     "metadata": {
      "needs_background": "light"
     },
     "output_type": "display_data"
    }
   ],
   "source": [
    "model_4_loss.plot()"
   ]
  },
  {
   "cell_type": "code",
   "execution_count": 223,
   "id": "01f5f763",
   "metadata": {},
   "outputs": [],
   "source": [
    "pred_4 = model_4.predict(X_test)"
   ]
  },
  {
   "cell_type": "code",
   "execution_count": 224,
   "id": "8db69402",
   "metadata": {},
   "outputs": [
    {
     "name": "stdout",
     "output_type": "stream",
     "text": [
      "tf.Tensor(45051.164, shape=(), dtype=float32)\n",
      "tf.Tensor(8585146000.0, shape=(), dtype=float32)\n"
     ]
    }
   ],
   "source": [
    "mae_4 = mae(y_test,pred_4)\n",
    "print(mae_4)\n",
    "mse_4 = mse(y_test,pred_4)\n",
    "print(mse_4)"
   ]
  },
  {
   "cell_type": "code",
   "execution_count": 233,
   "id": "ecac1cd2",
   "metadata": {},
   "outputs": [
    {
     "data": {
      "text/html": [
       "<div>\n",
       "<style scoped>\n",
       "    .dataframe tbody tr th:only-of-type {\n",
       "        vertical-align: middle;\n",
       "    }\n",
       "\n",
       "    .dataframe tbody tr th {\n",
       "        vertical-align: top;\n",
       "    }\n",
       "\n",
       "    .dataframe thead th {\n",
       "        text-align: right;\n",
       "    }\n",
       "</style>\n",
       "<table border=\"1\" class=\"dataframe\">\n",
       "  <thead>\n",
       "    <tr style=\"text-align: right;\">\n",
       "      <th></th>\n",
       "      <th>models</th>\n",
       "      <th>mae</th>\n",
       "      <th>mse</th>\n",
       "    </tr>\n",
       "  </thead>\n",
       "  <tbody>\n",
       "    <tr>\n",
       "      <th>0</th>\n",
       "      <td>model_1</td>\n",
       "      <td>34381.003906</td>\n",
       "      <td>9.830265e+09</td>\n",
       "    </tr>\n",
       "    <tr>\n",
       "      <th>1</th>\n",
       "      <td>model_2</td>\n",
       "      <td>34995.542969</td>\n",
       "      <td>1.441296e+10</td>\n",
       "    </tr>\n",
       "    <tr>\n",
       "      <th>2</th>\n",
       "      <td>model_3</td>\n",
       "      <td>34178.031250</td>\n",
       "      <td>1.053825e+10</td>\n",
       "    </tr>\n",
       "    <tr>\n",
       "      <th>3</th>\n",
       "      <td>model_4</td>\n",
       "      <td>45051.164062</td>\n",
       "      <td>8.585146e+09</td>\n",
       "    </tr>\n",
       "  </tbody>\n",
       "</table>\n",
       "</div>"
      ],
      "text/plain": [
       "    models           mae           mse\n",
       "0  model_1  34381.003906  9.830265e+09\n",
       "1  model_2  34995.542969  1.441296e+10\n",
       "2  model_3  34178.031250  1.053825e+10\n",
       "3  model_4  45051.164062  8.585146e+09"
      ]
     },
     "execution_count": 233,
     "metadata": {},
     "output_type": "execute_result"
    }
   ],
   "source": [
    "model_results = [['model_1', mae_1.numpy(), mse_1.numpy()],\n",
    "                ['model_2',mae_2.numpy(), mse_2.numpy()],\n",
    "                ['model_3', mae_3.numpy(), mse_3.numpy()],\n",
    "                ['model_4', mae_4.numpy(), mse_4.numpy()]]\n",
    "model_df = pd.DataFrame(model_results, columns=['models', 'mae', 'mse'])\n",
    "model_df"
   ]
  },
  {
   "cell_type": "code",
   "execution_count": 232,
   "id": "652a1ed8",
   "metadata": {},
   "outputs": [],
   "source": [
    "# NN MODEL WORKS BETTER WITH MORE NEURONS BUT PERFORMS WORSE WITH MORE LAYERS"
   ]
  },
  {
   "cell_type": "code",
   "execution_count": null,
   "id": "21384075",
   "metadata": {},
   "outputs": [],
   "source": []
  }
 ],
 "metadata": {
  "kernelspec": {
   "display_name": "Python 3",
   "language": "python",
   "name": "python3"
  },
  "language_info": {
   "codemirror_mode": {
    "name": "ipython",
    "version": 3
   },
   "file_extension": ".py",
   "mimetype": "text/x-python",
   "name": "python",
   "nbconvert_exporter": "python",
   "pygments_lexer": "ipython3",
   "version": "3.8.8"
  }
 },
 "nbformat": 4,
 "nbformat_minor": 5
}
